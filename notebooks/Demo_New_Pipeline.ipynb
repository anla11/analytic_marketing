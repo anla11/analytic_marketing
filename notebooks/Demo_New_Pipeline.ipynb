{
 "cells": [
  {
   "cell_type": "code",
   "execution_count": 1,
   "metadata": {
    "pycharm": {
     "name": "#%%\n"
    }
   },
   "outputs": [],
   "source": [
    "from propensity_prediction.pipeline.base import Base_Workflow"
   ]
  },
  {
   "cell_type": "code",
   "execution_count": 2,
   "metadata": {
    "pycharm": {
     "name": "#%%\n"
    }
   },
   "outputs": [],
   "source": [
    "# churn = Base_Workflow('/Users/duynguyen/PrimeData/ds/examples/config')\n",
    "churn = Base_Workflow('/Users/duynguyen/PrimeData/ds/examples/config_newdata')"
   ]
  },
  {
   "cell_type": "code",
   "execution_count": 3,
   "metadata": {
    "pycharm": {
     "name": "#%%\n"
    }
   },
   "outputs": [
    {
     "name": "stdout",
     "output_type": "stream",
     "text": [
      "Train ensemble Ensemble\n",
      "+ Prepare model LogisticRegression with label eventdeath\n",
      "\t+ [iteration 0001] loss: 0.0026\n",
      "\t+ [iteration 0100] loss: 0.1041\n",
      "\t+ [iteration 0200] loss: 0.1041\n",
      "\t+ [iteration 0300] loss: 0.1041\n",
      "\t+ [iteration 0400] loss: 0.1041\n",
      "\t+ [iteration 0500] loss: 0.1041\n",
      "+ Prepare model Bayesian_LogisticRegression with label eventdeath\n",
      "\t+ [iteration 0001] loss: 0.0008\n",
      "\t+ [iteration 0100] loss: 0.0010\n",
      "\t+ [iteration 0200] loss: 0.0010\n",
      "\t+ [iteration 0300] loss: 0.0010\n",
      "\t+ [iteration 0400] loss: 0.0010\n",
      "\t+ [iteration 0500] loss: 0.0010\n"
     ]
    },
    {
     "name": "stderr",
     "output_type": "stream",
     "text": [
      "/Users/duynguyen/opt/anaconda3/envs/mlflow/lib/python3.6/site-packages/torch/storage.py:34: FutureWarning: pickle support for Storage will be removed in 1.5. Use `torch.save` instead\n",
      "  warnings.warn(\"pickle support for Storage will be removed in 1.5. Use `torch.save` instead\", FutureWarning)\n"
     ]
    }
   ],
   "source": [
    "churn.execute()"
   ]
  },
  {
   "cell_type": "code",
   "execution_count": 3,
   "metadata": {
    "pycharm": {
     "name": "#%%\n"
    }
   },
   "outputs": [],
   "source": []
  }
 ],
 "metadata": {
  "colab": {
   "collapsed_sections": [],
   "name": "Copy of Demo_ChurnPrediction",
   "provenance": [],
   "toc_visible": true
  },
  "kernelspec": {
   "display_name": "Python 3",
   "language": "python",
   "name": "python3"
  },
  "language_info": {
   "codemirror_mode": {
    "name": "ipython",
    "version": 3
   },
   "file_extension": ".py",
   "mimetype": "text/x-python",
   "name": "python",
   "nbconvert_exporter": "python",
   "pygments_lexer": "ipython3",
   "version": "3.6.9"
  }
 },
 "nbformat": 4,
 "nbformat_minor": 1
}