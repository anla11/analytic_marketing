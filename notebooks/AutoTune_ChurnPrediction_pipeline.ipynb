{
 "cells": [
  {
   "cell_type": "code",
   "execution_count": 1,
   "metadata": {},
   "outputs": [
    {
     "data": {
      "text/plain": [
       "{'task_name': 'churn_prediction',\n",
       " 'pipeline_config_path': '../data/NKI_cleaned/pipeline_bestconfig.json',\n",
       " 'data_config': {'path': '../data/NKI_cleaned/NKI_cleaned.csv',\n",
       "  'History': {'user_id': 'ID',\n",
       "   'user_seniority': 'timerecurrence',\n",
       "   'event': 'eventdeath',\n",
       "   'metadata': {'Patient': 'id',\n",
       "    'age': 'numeric',\n",
       "    'survival': 'numeric',\n",
       "    'chemo': 'numeric',\n",
       "    'hormonal': 'numeric',\n",
       "    'amputation': 'numeric',\n",
       "    'histtype': 'numeric',\n",
       "    'diam': 'numeric',\n",
       "    'posnodes': 'numeric',\n",
       "    'grade': 'numeric',\n",
       "    'angioinv': 'numeric',\n",
       "    'lymphinfil': 'numeric',\n",
       "    'barcode': 'numeric',\n",
       "    'esr1': 'numeric',\n",
       "    'G3PDH_570': 'numeric',\n",
       "    'Contig45645_RC': 'numeric',\n",
       "    'Contig44916_RC': 'numeric',\n",
       "    'D25272': 'numeric',\n",
       "    'J00129': 'numeric',\n",
       "    'Contig29982_RC': 'numeric',\n",
       "    'Contig56678_RC': 'numeric',\n",
       "    'Contig53047_RC': 'numeric',\n",
       "    'Contig19551': 'numeric',\n",
       "    'Contig47230_RC': 'numeric',\n",
       "    'Contig46501_RC': 'numeric',\n",
       "    'Contig20749_RC': 'numeric',\n",
       "    'AL157500': 'numeric',\n",
       "    'AL157502': 'numeric',\n",
       "    'Contig37376_RC': 'numeric',\n",
       "    'Contig45395_RC': 'numeric',\n",
       "    'X98307': 'numeric',\n",
       "    'AL157505': 'numeric',\n",
       "    'AB033027': 'numeric',\n",
       "    'Contig24026_RC': 'numeric',\n",
       "    'Contig27800_RC': 'numeric',\n",
       "    'Contig42500_RC': 'numeric',\n",
       "    'Contig7147': 'numeric',\n",
       "    'Contig32037_RC': 'numeric',\n",
       "    'Contig16374_RC': 'numeric',\n",
       "    'Contig42349_RC': 'numeric',\n",
       "    'Contig33976_RC': 'numeric',\n",
       "    'Contig49874_RC': 'numeric',\n",
       "    'AB033060': 'numeric',\n",
       "    'U45975': 'numeric',\n",
       "    'M34428': 'numeric',\n",
       "    'AB033083': 'numeric',\n",
       "    'NM_003004': 'numeric',\n",
       "    'Contig7192': 'numeric',\n",
       "    'Contig23039_RC': 'numeric',\n",
       "    'Contig22685_RC': 'numeric',\n",
       "    'D84140': 'numeric',\n",
       "    'Contig43806_RC': 'numeric',\n",
       "    'NM_003022': 'numeric',\n",
       "    'Contig54847_RC': 'numeric',\n",
       "    'Contig33260_RC': 'numeric',\n",
       "    'NM_002300': 'numeric',\n",
       "    'Contig13929_RC': 'numeric',\n",
       "    'NM_002318': 'numeric',\n",
       "    'NM_003058': 'numeric',\n",
       "    'Contig66143_RC': 'numeric',\n",
       "    'Contig44519_RC': 'numeric',\n",
       "    'NM_001609': 'numeric',\n",
       "    'Contig17206_RC': 'numeric',\n",
       "    'NM_001611': 'numeric',\n",
       "    'NM_002341': 'numeric',\n",
       "    'NM_001612': 'numeric',\n",
       "    'NM_002343': 'numeric',\n",
       "    'NM_001615': 'numeric',\n",
       "    'NM_002345': 'numeric',\n",
       "    'NM_003081': 'numeric',\n",
       "    'NM_001627': 'numeric',\n",
       "    'NM_002358': 'numeric',\n",
       "    'Contig50838_RC': 'numeric',\n",
       "    'NM_000900': 'numeric',\n",
       "    'NM_000903': 'numeric',\n",
       "    'NM_001635': 'numeric',\n",
       "    'NM_000909': 'numeric',\n",
       "    'NM_000912': 'numeric',\n",
       "    'NM_001645': 'numeric',\n",
       "    'NM_001647': 'numeric',\n",
       "    'Contig35896_RC': 'numeric',\n",
       "    'NM_000926': 'numeric',\n",
       "    'NM_001657': 'numeric',\n",
       "    'NM_000930': 'numeric',\n",
       "    'NM_000931': 'numeric',\n",
       "    'NM_000936': 'numeric',\n",
       "    'NM_002395': 'numeric',\n",
       "    'NM_001674': 'numeric',\n",
       "    'NM_001676': 'numeric',\n",
       "    'NM_001677': 'numeric',\n",
       "    'X04706': 'numeric',\n",
       "    'D25328': 'numeric',\n",
       "    'Contig37076': 'numeric',\n",
       "    'Contig44366': 'numeric',\n",
       "    'NM_000959': 'numeric',\n",
       "    'Contig46463_RC': 'numeric',\n",
       "    'Contig5443_RC': 'numeric',\n",
       "    'NM_001692': 'numeric',\n",
       "    'NM_000963': 'numeric',\n",
       "    'NM_000964': 'numeric',\n",
       "    'Contig50122_RC': 'numeric',\n",
       "    'Contig25711_RC': 'numeric',\n",
       "    'Contig33121_RC': 'numeric',\n",
       "    'Contig12593_RC': 'numeric',\n",
       "    'U22027': 'numeric',\n",
       "    'U22028': 'numeric',\n",
       "    'U22029': 'numeric',\n",
       "    'AF041410': 'numeric',\n",
       "    'Contig15750_RC': 'numeric',\n",
       "    'Contig26182_RC': 'numeric',\n",
       "    'Contig22423_RC': 'numeric',\n",
       "    'Contig15133_RC': 'numeric',\n",
       "    'X99142': 'numeric',\n",
       "    'U46752': 'numeric',\n",
       "    'X72308': 'numeric',\n",
       "    'Contig25195_RC': 'numeric',\n",
       "    'Contig47045_RC': 'numeric',\n",
       "    'Contig42789_RC': 'numeric',\n",
       "    'Contig27623_RC': 'numeric',\n",
       "    'Contig27014_RC': 'numeric',\n",
       "    'NM_003104': 'numeric',\n",
       "    'Contig56386_RC': 'numeric',\n",
       "    'Contig46909_RC': 'numeric',\n",
       "    'NM_003108': 'numeric',\n",
       "    'Contig41360_RC': 'numeric',\n",
       "    'Contig39385_RC': 'numeric',\n",
       "    'NM_003118': 'numeric',\n",
       "    'Contig52018_RC': 'numeric',\n",
       "    'Contig43645_RC': 'numeric',\n",
       "    'NM_002407': 'numeric',\n",
       "    'Contig20600_RC': 'numeric',\n",
       "    'NM_002411': 'numeric',\n",
       "    'Contig52994_RC': 'numeric',\n",
       "    'NM_002416': 'numeric',\n",
       "    'Contig9541_RC': 'numeric',\n",
       "    'Contig21930_RC': 'numeric',\n",
       "    'Contig50927_RC': 'numeric',\n",
       "    'NM_002421': 'numeric',\n",
       "    'NM_002422': 'numeric',\n",
       "    'NM_002425': 'numeric',\n",
       "    'NM_002426': 'numeric',\n",
       "    'NM_003155': 'numeric',\n",
       "    'NM_002427': 'numeric',\n",
       "    'Contig46802_RC': 'numeric',\n",
       "    'NM_001710': 'numeric',\n",
       "    'NM_002443': 'numeric',\n",
       "    'NM_001717': 'numeric',\n",
       "    'NM_002449': 'numeric',\n",
       "    'NM_001723': 'numeric',\n",
       "    'NM_003181': 'numeric',\n",
       "    'NM_001725': 'numeric',\n",
       "    'NM_002456': 'numeric',\n",
       "    'NM_002457': 'numeric',\n",
       "    'NM_001732': 'numeric',\n",
       "    'NM_002462': 'numeric',\n",
       "    'NM_001734': 'numeric',\n",
       "    'NM_001740': 'numeric',\n",
       "    'NM_002478': 'numeric',\n",
       "    'NM_002483': 'numeric',\n",
       "    'NM_001756': 'numeric',\n",
       "    'NM_001758': 'numeric',\n",
       "    'Contig30045_RC': 'numeric',\n",
       "    'NM_001764': 'numeric',\n",
       "    'Contig21063_RC': 'numeric',\n",
       "    'Contig18502_RC': 'numeric',\n",
       "    'Contig33811_RC': 'numeric',\n",
       "    'Contig37562_RC': 'numeric',\n",
       "    'Contig36440': 'numeric',\n",
       "    'NM_001786': 'numeric',\n",
       "    'Contig15329_RC': 'numeric',\n",
       "    'Contig38517_RC': 'numeric',\n",
       "    'NM_001793': 'numeric',\n",
       "    'Contig7809_RC': 'numeric',\n",
       "    'NM_001797': 'numeric',\n",
       "    'AF090920': 'numeric',\n",
       "    'Contig54547_RC': 'numeric',\n",
       "    'Contig14967_RC': 'numeric',\n",
       "    'Contig61829_RC': 'numeric',\n",
       "    'Contig35765': 'numeric',\n",
       "    'Contig35237_RC': 'numeric',\n",
       "    'AW025980_RC': 'numeric',\n",
       "    'AL133038': 'numeric',\n",
       "    'Contig34258_RC': 'numeric',\n",
       "    'Contig41548_RC': 'numeric',\n",
       "    'AF201951': 'numeric',\n",
       "    'AB041269': 'numeric',\n",
       "    'AL133074': 'numeric',\n",
       "    'Contig50288_RC': 'numeric',\n",
       "    'AL133086': 'numeric',\n",
       "    'AL133087': 'numeric',\n",
       "    'Contig8165_RC': 'numeric',\n",
       "    'Contig33888_RC': 'numeric',\n",
       "    'Contig53445_RC': 'numeric',\n",
       "    'Contig40712_RC': 'numeric',\n",
       "    'Contig23711_RC': 'numeric',\n",
       "    'Contig29755_RC': 'numeric',\n",
       "    'NM_003206': 'numeric',\n",
       "    'NM_003225': 'numeric',\n",
       "    'NM_003226': 'numeric',\n",
       "    'NM_003234': 'numeric',\n",
       "    'NM_003236': 'numeric',\n",
       "    'NM_002509': 'numeric',\n",
       "    'NM_003239': 'numeric',\n",
       "    'NM_002515': 'numeric',\n",
       "    'NM_003246': 'numeric',\n",
       "    'NM_003247': 'numeric',\n",
       "    'NM_003248': 'numeric',\n",
       "    'Contig44439_RC': 'numeric',\n",
       "    'NM_002521': 'numeric',\n",
       "    'NM_003256': 'numeric',\n",
       "    'NM_003258': 'numeric',\n",
       "    'Contig43476_RC': 'numeric',\n",
       "    'NM_001809': 'numeric',\n",
       "    'NM_001814': 'numeric',\n",
       "    'NM_002544': 'numeric',\n",
       "    'NM_002546': 'numeric',\n",
       "    'NM_001819': 'numeric',\n",
       "    'NM_001823': 'numeric',\n",
       "    'NM_003283': 'numeric',\n",
       "    'NM_003287': 'numeric',\n",
       "    'Contig22716_RC': 'numeric',\n",
       "    'NM_001831': 'numeric',\n",
       "    'NM_003294': 'numeric',\n",
       "    'NM_001838': 'numeric',\n",
       "    'Contig52960_RC': 'numeric',\n",
       "    'Contig45670_RC': 'numeric',\n",
       "    'Contig16756_RC': 'numeric',\n",
       "    'NM_002570': 'numeric',\n",
       "    'NM_001844': 'numeric',\n",
       "    'NM_002575': 'numeric',\n",
       "    'L11645': 'numeric',\n",
       "    'Contig15418_RC': 'numeric',\n",
       "    'NM_001853': 'numeric',\n",
       "    'NM_001854': 'numeric',\n",
       "    'NM_002590': 'numeric',\n",
       "    'NM_002591': 'numeric',\n",
       "    'Contig21136_RC': 'numeric',\n",
       "    'Contig29015_RC': 'numeric',\n",
       "    'Contig40196_RC': 'numeric',\n",
       "    'NM_001870': 'numeric',\n",
       "    'NM_001871': 'numeric',\n",
       "    'NM_001872': 'numeric',\n",
       "    'NM_001873': 'numeric',\n",
       "    'NM_001877': 'numeric',\n",
       "    'NM_001878': 'numeric',\n",
       "    'NM_001882': 'numeric',\n",
       "    'Contig28528': 'numeric',\n",
       "    'NM_001884': 'numeric',\n",
       "    'NM_001885': 'numeric',\n",
       "    'NM_001888': 'numeric',\n",
       "    'Contig51981_RC': 'numeric',\n",
       "    'Contig42624_RC': 'numeric',\n",
       "    'Contig40789_RC': 'numeric',\n",
       "    'Contig28549': 'numeric',\n",
       "    'AA600139_RC': 'numeric',\n",
       "    'Contig44909_RC': 'numeric',\n",
       "    'Contig49532_RC': 'numeric',\n",
       "    'Contig39678_RC': 'numeric',\n",
       "    'Contig28028_RC': 'numeric',\n",
       "    'Contig21021_RC': 'numeric',\n",
       "    'Contig31333_RC': 'numeric',\n",
       "    'Contig47832_RC': 'numeric',\n",
       "    'U47671': 'numeric',\n",
       "    'Contig33376_RC': 'numeric',\n",
       "    'Contig30955_RC': 'numeric',\n",
       "    'Contig14683_RC': 'numeric',\n",
       "    'Contig41530_RC': 'numeric',\n",
       "    'Contig38826_RC': 'numeric',\n",
       "    'NM_020038': 'numeric',\n",
       "    'Contig44544_RC': 'numeric',\n",
       "    'NM_004003': 'numeric',\n",
       "    'Contig8839_RC': 'numeric',\n",
       "    'NM_004010': 'numeric',\n",
       "    'U05589': 'numeric',\n",
       "    'Contig29828_RC': 'numeric',\n",
       "    'Contig15531_RC': 'numeric',\n",
       "    'NM_003311': 'numeric',\n",
       "    'NM_012067': 'numeric',\n",
       "    'Contig5710_RC': 'numeric',\n",
       "    'Contig53411_RC': 'numeric',\n",
       "    'NM_002614': 'numeric',\n",
       "    'NM_002620': 'numeric',\n",
       "    'Contig54058': 'numeric',\n",
       "    'NM_002628': 'numeric',\n",
       "    'NM_003358': 'numeric',\n",
       "    'NM_003359': 'numeric',\n",
       "    'NM_004088': 'numeric',\n",
       "    'AB007936': 'numeric',\n",
       "    'Contig25593_RC': 'numeric',\n",
       "    'NM_001901': 'numeric',\n",
       "    'NM_002639': 'numeric',\n",
       "    'NM_003376': 'numeric',\n",
       "    'NM_003378': 'numeric',\n",
       "    'AB007954': 'numeric',\n",
       "    'NM_001920': 'numeric',\n",
       "    'NM_002652': 'numeric',\n",
       "    'NM_001926': 'numeric',\n",
       "    'NM_001928': 'numeric',\n",
       "    'Contig21225_RC': 'numeric',\n",
       "    'R70506_RC': 'numeric',\n",
       "    'NM_003392': 'numeric',\n",
       "    'NM_002666': 'numeric',\n",
       "    'Contig57138_RC': 'numeric',\n",
       "    'NM_001942': 'numeric',\n",
       "    'NM_001944': 'numeric',\n",
       "    'Contig36761_RC': 'numeric',\n",
       "    'Contig48156_RC': 'numeric',\n",
       "    'Contig16595_RC': 'numeric',\n",
       "    'NM_001956': 'numeric',\n",
       "    'NM_002686': 'numeric',\n",
       "    'NM_001958': 'numeric',\n",
       "    'Contig31295_RC': 'numeric',\n",
       "    'NM_001964': 'numeric',\n",
       "    'NM_002697': 'numeric',\n",
       "    'Contig56167_RC': 'numeric',\n",
       "    'NM_001979': 'numeric',\n",
       "    'Contig52182_RC': 'numeric',\n",
       "    'NM_001990': 'numeric',\n",
       "    'NM_001993': 'numeric',\n",
       "    'NM_001999': 'numeric',\n",
       "    'Contig35977': 'numeric',\n",
       "    'Contig35978': 'numeric',\n",
       "    'Contig9681_RC': 'numeric',\n",
       "    'Contig53022_RC': 'numeric',\n",
       "    'Contig46942_RC': 'numeric',\n",
       "    'Contig26310_RC': 'numeric',\n",
       "    'Contig46934_RC': 'numeric',\n",
       "    'Contig22408_RC': 'numeric',\n",
       "    'Contig28970_RC': 'numeric',\n",
       "    'NM_012101': 'numeric',\n",
       "    'Contig46918_RC': 'numeric',\n",
       "    'NM_020130': 'numeric',\n",
       "    'NM_004100': 'numeric',\n",
       "    'X66087': 'numeric',\n",
       "    'NM_004114': 'numeric',\n",
       "    'Contig53357_RC': 'numeric',\n",
       "    'NM_020162': 'numeric',\n",
       "    'NM_020163': 'numeric',\n",
       "    'Contig21187_RC': 'numeric',\n",
       "    'NM_004131': 'numeric',\n",
       "    'NM_020178': 'numeric',\n",
       "    'NM_003412': 'numeric',\n",
       "    'NM_004143': 'numeric',\n",
       "    'NM_003430': 'numeric',\n",
       "    'NM_002705': 'numeric',\n",
       "    'NM_002711': 'numeric',\n",
       "    'NM_004170': 'numeric',\n",
       "    'NM_004171': 'numeric',\n",
       "    'Contig27967_RC': 'numeric',\n",
       "    'NM_004176': 'numeric',\n",
       "    'NM_004181': 'numeric',\n",
       "    'NM_004185': 'numeric',\n",
       "    'NM_004190': 'numeric',\n",
       "    'NM_003462': 'numeric',\n",
       "    'NM_002737': 'numeric',\n",
       "    'NM_003474': 'numeric',\n",
       "    'Contig44260_RC': 'numeric',\n",
       "    'Contig46553_RC': 'numeric',\n",
       "    'NM_003489': 'numeric',\n",
       "    'Contig37571_RC': 'numeric',\n",
       "    'NM_002763': 'numeric',\n",
       "    'NM_002774': 'numeric',\n",
       "    'NM_002775': 'numeric',\n",
       "    'Contig53226_RC': 'numeric',\n",
       "    'Contig21665_RC': 'numeric',\n",
       "    'Contig16202_RC': 'numeric',\n",
       "    'S70004': 'numeric',\n",
       "    'Contig20686_RC': 'numeric',\n",
       "    'Contig8898_RC': 'numeric',\n",
       "    'U64564': 'numeric',\n",
       "    'S62027': 'numeric',\n",
       "    'Contig31862_RC': 'numeric',\n",
       "    'Contig34884_RC': 'numeric',\n",
       "    'Contig2237_RC': 'numeric',\n",
       "    'Contig1508_RC': 'numeric',\n",
       "    'Contig48715_RC': 'numeric',\n",
       "    'Contig48106_RC': 'numeric',\n",
       "    'Contig37898_RC': 'numeric',\n",
       "    'Contig30516_RC': 'numeric',\n",
       "    'Contig48707_RC': 'numeric',\n",
       "    'Contig27120_RC': 'numeric',\n",
       "    'Contig30274_RC': 'numeric',\n",
       "    'Contig33296_RC': 'numeric',\n",
       "    'AF035288': 'numeric',\n",
       "    'Contig31596_RC': 'numeric',\n",
       "    'NM_020215': 'numeric',\n",
       "    'Contig38746_RC': 'numeric',\n",
       "    'Contig19452_RC': 'numeric',\n",
       "    'Contig13866_RC': 'numeric',\n",
       "    'Contig16422_RC': 'numeric',\n",
       "    'NM_004203': 'numeric',\n",
       "    'NM_020244': 'numeric',\n",
       "    'NM_004207': 'numeric',\n",
       "    'Contig29147_RC': 'numeric',\n",
       "    'NM_004213': 'numeric',\n",
       "    'NM_012242': 'numeric',\n",
       "    'Contig45786_RC': 'numeric',\n",
       "    'AB040886': 'numeric',\n",
       "    'AB018289': 'numeric',\n",
       "    'NM_003500': 'numeric',\n",
       "    'NM_003506': 'numeric',\n",
       "    'NM_003508': 'numeric',\n",
       "    'NM_003512': 'numeric',\n",
       "    'NM_004244': 'numeric',\n",
       "    'NM_003516': 'numeric',\n",
       "    'NM_004245': 'numeric',\n",
       "    'NM_012269': 'numeric',\n",
       "    'NM_003520': 'numeric',\n",
       "    'NM_004252': 'numeric',\n",
       "    'NM_002800': 'numeric',\n",
       "    'Contig53506': 'numeric',\n",
       "    'NM_004265': 'numeric',\n",
       "    'NM_002809': 'numeric',\n",
       "    'NM_003538': 'numeric',\n",
       "    'NM_002820': 'numeric',\n",
       "    'NM_003561': 'numeric',\n",
       "    'NM_004291': 'numeric',\n",
       "    'NM_002844': 'numeric',\n",
       "    'NM_003578': 'numeric',\n",
       "    'Contig28670_RC': 'numeric',\n",
       "    'NM_002852': 'numeric',\n",
       "    'NM_002854': 'numeric',\n",
       "    'NM_002855': 'numeric',\n",
       "    'Contig53307_RC': 'numeric',\n",
       "    'NM_002864': 'numeric',\n",
       "    'Contig52945_RC': 'numeric',\n",
       "    'NM_002888': 'numeric',\n",
       "    'AF172932': 'numeric',\n",
       "    'NM_002899': 'numeric',\n",
       "    'Contig36064_RC': 'numeric',\n",
       "    'Contig15169_RC': 'numeric',\n",
       "    'Contig38500_RC': 'numeric',\n",
       "    'Contig34372_RC': 'numeric',\n",
       "    'Contig44870': 'numeric',\n",
       "    'Contig50628_RC': 'numeric',\n",
       "    'Contig50019_RC': 'numeric',\n",
       "    'Contig6212_RC': 'numeric',\n",
       "    'Contig45397_RC': 'numeric',\n",
       "    'AF052090': 'numeric',\n",
       "    'AF052095': 'numeric',\n",
       "    'Contig34957_RC': 'numeric',\n",
       "    'Contig43096_RC': 'numeric',\n",
       "    'Contig45389_RC': 'numeric',\n",
       "    'Contig50979_RC': 'numeric',\n",
       "    'Contig15038_RC': 'numeric',\n",
       "    'NM_021012': 'numeric',\n",
       "    'NM_021015': 'numeric',\n",
       "    'AB040900': 'numeric',\n",
       "    'AB018305': 'numeric',\n",
       "    'AL117406': 'numeric',\n",
       "    'Contig39556_RC': 'numeric',\n",
       "    'AB018311': 'numeric',\n",
       "    'AL117418': 'numeric',\n",
       "    'AB040923': 'numeric',\n",
       "    'AB040926': 'numeric',\n",
       "    'AB040930': 'numeric',\n",
       "    'NM_005010': 'numeric',\n",
       "    'AB018345': 'numeric',\n",
       "    'NM_005025': 'numeric',\n",
       "    'NM_012319': 'numeric',\n",
       "    'NM_021069': 'numeric',\n",
       "    'Contig40552_RC': 'numeric',\n",
       "    'AB040957': 'numeric',\n",
       "    'AL117452': 'numeric',\n",
       "    'NM_021076': 'numeric',\n",
       "    'X56807': 'numeric',\n",
       "    'Contig28866_RC': 'numeric',\n",
       "    'NM_004315': 'numeric',\n",
       "    'NM_005046': 'numeric',\n",
       "    'NM_012337': 'numeric',\n",
       "    'NM_012339': 'numeric',\n",
       "    'AB032953': 'numeric',\n",
       "    'NM_012342': 'numeric',\n",
       "    'AB032962': 'numeric',\n",
       "    'Contig30833_RC': 'numeric',\n",
       "    'M27749': 'numeric',\n",
       "    'Contig42228_RC': 'numeric',\n",
       "    'Contig27294_RC': 'numeric',\n",
       "    'NM_020372': 'numeric',\n",
       "    'NM_005063': 'numeric',\n",
       "    'NM_020373': 'numeric',\n",
       "    'NM_004335': 'numeric',\n",
       "    'NM_004336': 'numeric',\n",
       "    'NM_005067': 'numeric',\n",
       "    'NM_005069': 'numeric',\n",
       "    'Contig56434_RC': 'numeric',\n",
       "    'Contig44287_RC': 'numeric',\n",
       "    'NM_003613': 'numeric',\n",
       "    'NM_003615': 'numeric',\n",
       "    'NM_004345': 'numeric',\n",
       "    'NM_003617': 'numeric',\n",
       "    'NM_004351': 'numeric',\n",
       "    'NM_005080': 'numeric',\n",
       "    'NM_004354': 'numeric',\n",
       "    'NM_005084': 'numeric',\n",
       "    'NM_004358': 'numeric',\n",
       "    'NM_004360': 'numeric',\n",
       "    'NM_004361': 'numeric',\n",
       "    'NM_004362': 'numeric',\n",
       "    'NM_004369': 'numeric',\n",
       "    'Contig31546_RC': 'numeric',\n",
       "    'NM_003641': 'numeric',\n",
       "    'NM_003645': 'numeric',\n",
       "    'NM_004374': 'numeric',\n",
       "    'NM_004378': 'numeric',\n",
       "    'NM_012397': 'numeric',\n",
       "    'Contig18296_RC': 'numeric',\n",
       "    'Contig45600': 'numeric',\n",
       "    'NM_002923': 'numeric',\n",
       "    'NM_003652': 'numeric',\n",
       "    'NM_004385': 'numeric',\n",
       "    'NM_003657': 'numeric',\n",
       "    'NM_002932': 'numeric',\n",
       "    'NM_004392': 'numeric',\n",
       "    'Contig47077': 'numeric',\n",
       "    'AJ270996': 'numeric',\n",
       "    'Contig27405_RC': 'numeric',\n",
       "    'NM_002963': 'numeric',\n",
       "    'NM_002964': 'numeric',\n",
       "    'NM_002965': 'numeric',\n",
       "    'Contig23420_RC': 'numeric',\n",
       "    'U80736': 'numeric',\n",
       "    'Contig37483_RC': 'numeric',\n",
       "    'Contig43435_RC': 'numeric',\n",
       "    'Contig38438_RC': 'numeric',\n",
       "    'NM_002983': 'numeric',\n",
       "    'NM_002984': 'numeric',\n",
       "    'NM_002985': 'numeric',\n",
       "    'NM_002986': 'numeric',\n",
       "    'NM_002988': 'numeric',\n",
       "    'NM_002989': 'numeric',\n",
       "    'NM_002996': 'numeric',\n",
       "    'NM_002997': 'numeric',\n",
       "    'U56725': 'numeric',\n",
       "    'Contig54603_RC': 'numeric',\n",
       "    'AF052176': 'numeric',\n",
       "    'Contig32136_RC': 'numeric',\n",
       "    'Contig29699': 'numeric',\n",
       "    'Contig6051_RC': 'numeric',\n",
       "    'Contig11142_RC': 'numeric',\n",
       "    'Contig9229': 'numeric',\n",
       "    'Contig50360_RC': 'numeric',\n",
       "    'Contig27032_RC': 'numeric',\n",
       "    'Contig53007_RC': 'numeric',\n",
       "    'Contig57359_RC': 'numeric',\n",
       "    'NM_021127': 'numeric',\n",
       "    'NM_021136': 'numeric',\n",
       "    'NM_021139': 'numeric',\n",
       "    'NM_005101': 'numeric',\n",
       "    'NM_020411': 'numeric',\n",
       "    'AL133566': 'numeric',\n",
       "    'NM_021147': 'numeric',\n",
       "    'Contig442_RC': 'numeric',\n",
       "    'Contig25090_RC': 'numeric',\n",
       "    'Contig52629_RC': 'numeric',\n",
       "    'Contig28947_RC': 'numeric',\n",
       "    'Contig1063_RC': 'numeric',\n",
       "    'AL117553': 'numeric',\n",
       "    'NM_005130': 'numeric',\n",
       "    'NM_005132': 'numeric',\n",
       "    'NM_004405': 'numeric',\n",
       "    'NM_004406': 'numeric',\n",
       "    'NM_005139': 'numeric',\n",
       "    'NM_012429': 'numeric',\n",
       "    'NM_004415': 'numeric',\n",
       "    'NM_004417': 'numeric',\n",
       "    'Contig43639_RC': 'numeric',\n",
       "    'NM_012445': 'numeric',\n",
       "    'NM_004430': 'numeric',\n",
       "    'NM_005165': 'numeric',\n",
       "    'NM_020477': 'numeric',\n",
       "    'Contig28697_RC': 'numeric',\n",
       "    'NM_003714': 'numeric',\n",
       "    'NM_012467': 'numeric',\n",
       "    'NM_004448': 'numeric',\n",
       "    'Contig54425': 'numeric',\n",
       "    'NM_005181': 'numeric',\n",
       "    'NM_003725': 'numeric',\n",
       "    'NM_004456': 'numeric',\n",
       "    'NM_005187': 'numeric',\n",
       "    'NM_004460': 'numeric',\n",
       "    'Contig43998_RC': 'numeric',\n",
       "    'NM_005196': 'numeric',\n",
       "    'Contig20953_RC': 'numeric',\n",
       "    'Contig59287_RC': 'numeric',\n",
       "    'NM_003740': 'numeric',\n",
       "    'NM_004472': 'numeric',\n",
       "    'Contig50822_RC': 'numeric',\n",
       "    'NM_004482': 'numeric',\n",
       "    'NM_004484': 'numeric',\n",
       "    'NM_004490': 'numeric',\n",
       "    'NM_004496': 'numeric',\n",
       "    'Contig50814_RC': 'numeric',\n",
       "    'NM_003785': 'numeric',\n",
       "    'NM_003786': 'numeric',\n",
       "    'NM_003787': 'numeric',\n",
       "    'NM_003790': 'numeric',\n",
       "    'Contig38285_RC': 'numeric',\n",
       "    'Contig6848_RC': 'numeric',\n",
       "    'Contig5403_RC': 'numeric',\n",
       "    'AF131741': 'numeric',\n",
       "    'Contig9755_RC': 'numeric',\n",
       "    'AF131756': 'numeric',\n",
       "    'Contig40829_RC': 'numeric',\n",
       "    'AF131770': 'numeric',\n",
       "    'Contig39492_RC': 'numeric',\n",
       "    'AF131784': 'numeric',\n",
       "    'AL133619': 'numeric',\n",
       "    'U06715': 'numeric',\n",
       "    'AL133644': 'numeric',\n",
       "    'AL117612': 'numeric',\n",
       "    'NM_013230': 'numeric',\n",
       "    'NM_013231': 'numeric',\n",
       "    'NM_005213': 'numeric',\n",
       "    'AL117638': 'numeric',\n",
       "    'NM_005218': 'numeric',\n",
       "    'NM_013253': 'numeric',\n",
       "    'NM_005235': 'numeric',\n",
       "    'AF176012': 'numeric',\n",
       "    'NM_004522': 'numeric',\n",
       "    'NM_005252': 'numeric',\n",
       "    'NM_004525': 'numeric',\n",
       "    'X16302': 'numeric',\n",
       "    'NM_003806': 'numeric',\n",
       "    'Contig47220': 'numeric',\n",
       "    'Contig52970_RC': 'numeric',\n",
       "    'NM_005288': 'numeric',\n",
       "    'Contig19179_RC': 'numeric',\n",
       "    'NM_003832': 'numeric',\n",
       "    'Contig54536': 'numeric',\n",
       "    'NM_004566': 'numeric',\n",
       "    'NM_003843': 'numeric',\n",
       "    'Contig38983_RC': 'numeric',\n",
       "    'NM_004585': 'numeric',\n",
       "    'NM_003862': 'numeric',\n",
       "    'NM_004594': 'numeric',\n",
       "    'Contig59870_RC': 'numeric',\n",
       "    'NM_003878': 'numeric',\n",
       "    'Contig41905_RC': 'numeric',\n",
       "    'NM_003881': 'numeric',\n",
       "    'Contig46567': 'numeric',\n",
       "    'NM_003888': 'numeric',\n",
       "    'NM_003890': 'numeric',\n",
       "    'NM_003897': 'numeric',\n",
       "    'Contig15313_RC': 'numeric',\n",
       "    'Contig19064_RC': 'numeric',\n",
       "    'Contig28038_RC': 'numeric',\n",
       "    'Contig51967_RC': 'numeric',\n",
       "    'Contig37873': 'numeric',\n",
       "    'AF131851': 'numeric',\n",
       "    'Contig35814_RC': 'numeric',\n",
       "    'Contig45291_RC': 'numeric',\n",
       "    'Contig43833_RC': 'numeric',\n",
       "    'Contig55228_RC': 'numeric',\n",
       "    'Contig1850_RC': 'numeric',\n",
       "    'NM_014004': 'numeric',\n",
       "    'Contig20629_RC': 'numeric',\n",
       "    'NM_006006': 'numeric',\n",
       "    'AF026941': 'numeric',\n",
       "    'NM_006017': 'numeric',\n",
       "    'Contig14812_RC': 'numeric',\n",
       "    'NM_006025': 'numeric',\n",
       "    'AL109706': 'numeric',\n",
       "    'NM_013324': 'numeric',\n",
       "    'Contig46597_RC': 'numeric',\n",
       "    'Contig16262_RC': 'numeric',\n",
       "    'NM_005310': 'numeric',\n",
       "    'X57809': 'numeric',\n",
       "    'NM_005319': 'numeric',\n",
       "    'NM_005320': 'numeric',\n",
       "    'X57819': 'numeric',\n",
       "    'NM_005325': 'numeric',\n",
       "    'NM_014073': 'numeric',\n",
       "    'NM_014074': 'numeric',\n",
       "    'NM_005326': 'numeric',\n",
       "    'NM_020639': 'numeric',\n",
       "    'NM_014086': 'numeric',\n",
       "    'NM_013357': 'numeric',\n",
       "    'NM_005342': 'numeric',\n",
       "    'NM_006071': 'numeric',\n",
       "    'NM_006073': 'numeric',\n",
       "    'NM_013363': 'numeric',\n",
       "    'NM_004616': 'numeric',\n",
       "    'NM_020659': 'numeric',\n",
       "    'U83115': 'numeric',\n",
       "    'NM_013372': 'numeric',\n",
       "    'NM_006086': 'numeric',\n",
       "    'NM_005357': 'numeric',\n",
       "    'NM_005362': 'numeric',\n",
       "    'NM_020672': 'numeric',\n",
       "    'NM_006096': 'numeric',\n",
       "    'NM_005368': 'numeric',\n",
       "    'Contig35298_RC': 'numeric',\n",
       "    'NM_005375': 'numeric',\n",
       "    'AJ249377': 'numeric',\n",
       "    'NM_005382': 'numeric',\n",
       "    'Contig7755_RC': 'numeric',\n",
       "    'AL109791': 'numeric',\n",
       "    'NM_004664': 'numeric',\n",
       "    'NM_003937': 'numeric',\n",
       "    'NM_005396': 'numeric',\n",
       "    'NM_005398': 'numeric',\n",
       "    'NM_004670': 'numeric',\n",
       "    'NM_004684': 'numeric',\n",
       "    'Contig51463_RC': 'numeric',\n",
       "    'NM_004694': 'numeric',\n",
       "    'NM_004695': 'numeric',\n",
       "    'NM_004696': 'numeric',\n",
       "    'NM_003975': 'numeric',\n",
       "    'NM_003979': 'numeric',\n",
       "    'Contig54477_RC': 'numeric',\n",
       "    'NM_003981': 'numeric',\n",
       "    'NM_003986': 'numeric',\n",
       "    'Contig27900_RC': 'numeric',\n",
       "    'Contig48043_RC': 'numeric',\n",
       "    'Contig39670_RC': 'numeric',\n",
       "    'Contig53641_RC': 'numeric',\n",
       "    'Contig27749_RC': 'numeric',\n",
       "    'Contig50603_RC': 'numeric',\n",
       "    'Contig54354_RC': 'numeric',\n",
       "    'Contig9810_RC': 'numeric',\n",
       "    'Contig37946_RC': 'numeric',\n",
       "    'Contig3607_RC': 'numeric',\n",
       "    'NM_014112': 'numeric',\n",
       "    'NM_006103': 'numeric',\n",
       "    'NM_006107': 'numeric',\n",
       "    'NM_006113': 'numeric',\n",
       "    'Contig8222_RC': 'numeric',\n",
       "    'NM_006115': 'numeric',\n",
       "    'Contig53968_RC': 'numeric',\n",
       "    'NM_013409': 'numeric',\n",
       "    'Contig51066_RC': 'numeric',\n",
       "    'NM_013410': 'numeric',\n",
       "    'NM_006121': 'numeric',\n",
       "    'M29540': 'numeric',\n",
       "    'Contig35629_RC': 'numeric',\n",
       "    'NM_013421': 'numeric',\n",
       "    'NM_005408': 'numeric',\n",
       "    'NM_005409': 'numeric',\n",
       "    'NM_006138': 'numeric',\n",
       "    'Contig20603_RC': 'numeric',\n",
       "    'NM_005410': 'numeric',\n",
       "    'X82693': 'numeric',\n",
       "    'NM_006142': 'numeric',\n",
       "    'Contig46204_RC': 'numeric',\n",
       "    'NM_006157': 'numeric',\n",
       "    'NM_006159': 'numeric',\n",
       "    'NM_004701': 'numeric',\n",
       "    'NM_004702': 'numeric',\n",
       "    'Contig11613_RC': 'numeric',\n",
       "    'NM_004711': 'numeric',\n",
       "    'NM_004734': 'numeric',\n",
       "    'NM_006198': 'numeric',\n",
       "    'AF000990': 'numeric',\n",
       "    'Contig40368_RC': 'numeric',\n",
       "    'NM_005478': 'numeric',\n",
       "    'NM_004750': 'numeric',\n",
       "    'AJ223352': 'numeric',\n",
       "    'AJ223353': 'numeric',\n",
       "    'NM_004774': 'numeric',\n",
       "    'Contig23502_RC': 'numeric',\n",
       "    'NM_004780': 'numeric',\n",
       "    'Contig66705_RC': 'numeric',\n",
       "    'NM_004792': 'numeric',\n",
       "    'NM_004796': 'numeric',\n",
       "    'X07834': 'numeric',\n",
       "    'Contig56143_RC': 'numeric',\n",
       "    'Contig11097_RC': 'numeric',\n",
       "    'Contig45703_RC': 'numeric',\n",
       "    'Contig31864_RC': 'numeric',\n",
       "    'J02639': 'numeric',\n",
       "    'Contig38171_RC': 'numeric',\n",
       "    'AF116715': 'numeric',\n",
       "    'Contig17411_RC': 'numeric',\n",
       "    'Contig33899_RC': 'numeric',\n",
       "    'Contig44708_RC': 'numeric',\n",
       "    'Contig43136_RC': 'numeric',\n",
       "    'Contig46301_RC': 'numeric',\n",
       "    'NM_014211': 'numeric',\n",
       "    'NM_014214': 'numeric',\n",
       "    'Contig42774_RC': 'numeric',\n",
       "    'NM_006206': 'numeric',\n",
       "    'NM_006207': 'numeric',\n",
       "    'Contig38040_RC': 'numeric',\n",
       "    'Contig54913_RC': 'numeric',\n",
       "    'NM_014241': 'numeric',\n",
       "    'NM_006226': 'numeric',\n",
       "    'NM_014246': 'numeric',\n",
       "    'NM_006235': 'numeric',\n",
       "    'NM_014258': 'numeric',\n",
       "    'NM_006240': 'numeric',\n",
       "    'NM_005514': 'numeric',\n",
       "    'NM_005518': 'numeric',\n",
       "    'Contig47381_RC': 'numeric',\n",
       "    'NM_014274': 'numeric',\n",
       "    'Contig50769_RC': 'numeric',\n",
       "    'Contig47982_RC': 'numeric',\n",
       "    'NM_005532': 'numeric',\n",
       "    'NM_004807': 'numeric',\n",
       "    'NM_014286': 'numeric',\n",
       "    'NM_005544': 'numeric',\n",
       "    'NM_006274': 'numeric',\n",
       "    'Contig57076_RC': 'numeric',\n",
       "    'Contig48328_RC': 'numeric',\n",
       "    'NM_005558': 'numeric',\n",
       "    'NM_004833': 'numeric',\n",
       "    'NM_005564': 'numeric',\n",
       "    'NM_004835': 'numeric',\n",
       "    'Contig16759_RC': 'numeric',\n",
       "    'NM_005573': 'numeric',\n",
       "    'Contig20793_RC': 'numeric',\n",
       "    'NM_005586': 'numeric',\n",
       "    'Contig14458_RC': 'numeric',\n",
       "    'NM_004864': 'numeric',\n",
       "    'NM_004867': 'numeric',\n",
       "    'Contig3682_RC': 'numeric',\n",
       "    'NM_004878': 'numeric',\n",
       "    'Contig52947_RC': 'numeric',\n",
       "    'NM_004887': 'numeric',\n",
       "    'Contig48806_RC': 'numeric',\n",
       "    'Contig29369_RC': 'numeric',\n",
       "    'AL353944': 'numeric',\n",
       "    'J04162': 'numeric',\n",
       "    'Contig56583_RC': 'numeric',\n",
       "    'Contig37890_RC': 'numeric',\n",
       "    'AB029018': 'numeric',\n",
       "    'Contig55838_RC': 'numeric',\n",
       "    'Contig39100_RC': 'numeric',\n",
       "    'Contig54867_RC': 'numeric',\n",
       "    'Contig11648_RC': 'numeric',\n",
       "    'NM_007019': 'numeric',\n",
       "    'Contig51595_RC': 'numeric',\n",
       "    'NM_014321': 'numeric',\n",
       "    'NM_007036': 'numeric',\n",
       "    'NM_007038': 'numeric',\n",
       "    'Contig56307': 'numeric',\n",
       "    'NM_006334': 'numeric',\n",
       "    'NM_006338': 'numeric',\n",
       "    'NM_007069': 'numeric',\n",
       "    'NM_006344': 'numeric',\n",
       "    'NM_014365': 'numeric',\n",
       "    'NM_014373': 'numeric',\n",
       "    'NM_007088': 'numeric',\n",
       "    'Contig37743_RC': 'numeric',\n",
       "    'NM_006379': 'numeric',\n",
       "    'NM_014398': 'numeric',\n",
       "    'NM_014399': 'numeric',\n",
       "    'Contig28152_RC': 'numeric',\n",
       "    'NM_004920': 'numeric',\n",
       "    'NM_004923': 'numeric',\n",
       "    'AK000004': 'numeric',\n",
       "    'Contig33750_RC': 'numeric',\n",
       "    'NM_020974': 'numeric',\n",
       "    'NM_006398': 'numeric',\n",
       "    'Contig40889_RC': 'numeric',\n",
       "    'NM_005672': 'numeric',\n",
       "    'NM_004950': 'numeric',\n",
       "    'Contig49093': 'numeric',\n",
       "    'NM_020990': 'numeric',\n",
       "    'NM_020994': 'numeric',\n",
       "    'NM_005688': 'numeric',\n",
       "    'Contig30569_RC': 'numeric',\n",
       "    'NM_004963': 'numeric',\n",
       "    'Contig11275_RC': 'numeric',\n",
       "    'U66702': 'numeric',\n",
       "    'AF079529': 'numeric',\n",
       "    'AK000060': 'numeric',\n",
       "    'NM_004986': 'numeric',\n",
       "    'NM_004988': 'numeric',\n",
       "    'Contig33726_RC': 'numeric',\n",
       "    'NM_004994': 'numeric',\n",
       "    'Contig50719_RC': 'numeric',\n",
       "    'Contig43195_RC': 'numeric',\n",
       "    'X93006': 'numeric',\n",
       "    'AL080059': 'numeric',\n",
       "    'AL080079': 'numeric',\n",
       "    'Contig60315_RC': 'numeric',\n",
       "    'Contig44652_RC': 'numeric',\n",
       "    'AL080094': 'numeric',\n",
       "    'Contig38918_RC': 'numeric',\n",
       "    'Contig46937_RC': 'numeric',\n",
       "    'Contig1789_RC': 'numeric',\n",
       "    'AL110126': 'numeric',\n",
       "    'Contig57270_RC': 'numeric',\n",
       "    'AL110152': 'numeric',\n",
       "    'NM_007105': 'numeric',\n",
       "    'Contig1682_RC': 'numeric',\n",
       "    'AL110168': 'numeric',\n",
       "    'NM_014405': 'numeric',\n",
       "    'NM_007117': 'numeric',\n",
       "    'Contig40026_RC': 'numeric',\n",
       "    'AL110171': 'numeric',\n",
       "    'AL110181': 'numeric',\n",
       "    'NM_006408': 'numeric',\n",
       "    'AB002351': 'numeric',\n",
       "    'NM_006419': 'numeric',\n",
       "    'Contig51202_RC': 'numeric',\n",
       "    'NM_014443': 'numeric',\n",
       "    'X66945': 'numeric',\n",
       "    'NM_007168': 'numeric',\n",
       "    'AF097021': 'numeric',\n",
       "    'NM_007173': 'numeric',\n",
       "    'NM_005727': 'numeric',\n",
       "    'NM_014479': 'numeric',\n",
       "    'M29873': 'numeric',\n",
       "    'M29874': 'numeric',\n",
       "    'NM_006461': 'numeric',\n",
       "    'NM_005733': 'numeric',\n",
       "    'NM_007191': 'numeric',\n",
       "    'Contig41850_RC': 'numeric',\n",
       "    'Contig52891_RC': 'numeric',\n",
       "    'NM_006475': 'numeric',\n",
       "    'NM_005749': 'numeric',\n",
       "    'AK000106': 'numeric',\n",
       "    'NM_005764': 'numeric',\n",
       "    'AJ225092': 'numeric',\n",
       "    'AJ225093': 'numeric',\n",
       "    'NM_005794': 'numeric',\n",
       "    'Contig56160_RC': 'numeric',\n",
       "    'AK000168': 'numeric',\n",
       "    'Contig51896_RC': 'numeric',\n",
       "    'Contig55181_RC': 'numeric',\n",
       "    'AL080137': 'numeric',\n",
       "    'Contig40238_RC': 'numeric',\n",
       "    'Contig32594_RC': 'numeric',\n",
       "    'NC_001807': 'numeric',\n",
       "    'Contig67169_RC': 'numeric',\n",
       "    'AF101051': 'numeric',\n",
       "    'Contig30519_RC': 'numeric',\n",
       "    'AF222694': 'numeric',\n",
       "    'AL080199': 'numeric',\n",
       "    'Contig6118_RC': 'numeric',\n",
       "    'AL110202': 'numeric',\n",
       "    'Contig41453_RC': 'numeric',\n",
       "    'AB011146': 'numeric',\n",
       "    'Contig31133_RC': 'numeric',\n",
       "    'AL110252': 'numeric',\n",
       "    'Contig6612_RC': 'numeric',\n",
       "    'Contig51749_RC': 'numeric',\n",
       "    'AI497657_RC': 'numeric',\n",
       "    'NM_007231': 'numeric',\n",
       "    'Contig21406_RC': 'numeric',\n",
       "    'Contig28179_RC': 'numeric',\n",
       "    'Contig42759_RC': 'numeric',\n",
       "    'NM_007253': 'numeric',\n",
       "    'NM_006528': 'numeric',\n",
       "    'NM_006529': 'numeric',\n",
       "    'Contig18611_RC': 'numeric',\n",
       "    'NM_006533': 'numeric',\n",
       "    'NM_014553': 'numeric',\n",
       "    'NM_006536': 'numeric',\n",
       "    'Contig50913_RC': 'numeric',\n",
       "    'Contig31476_RC': 'numeric',\n",
       "    'Contig49058_RC': 'numeric',\n",
       "    'NM_006551': 'numeric',\n",
       "    'NM_007281': 'numeric',\n",
       "    'NM_005824': 'numeric',\n",
       "    'Contig31010_RC': 'numeric',\n",
       "    'NM_005832': 'numeric',\n",
       "    'NM_014585': 'numeric',\n",
       "    'Contig32798_RC': 'numeric',\n",
       "    'NM_005842': 'numeric',\n",
       "    'D86974': 'numeric',\n",
       "    'NM_005855': 'numeric',\n",
       "    'Contig57293': 'numeric',\n",
       "    'Contig753_RC': 'numeric',\n",
       "    'AF055033': 'numeric',\n",
       "    'J05125': 'numeric',\n",
       "    'Contig10601_RC': 'numeric',\n",
       "    'Contig30390_RC': 'numeric',\n",
       "    'AL080222': 'numeric',\n",
       "    'AF055084': 'numeric',\n",
       "    'AL080235': 'numeric',\n",
       "    'J05175': 'numeric',\n",
       "    'Contig32667_RC': 'numeric',\n",
       "    'M63438': 'numeric',\n",
       "    'Contig23211_RC': 'numeric',\n",
       "    'Contig24541_RC': 'numeric',\n",
       "    'NM_016002': 'numeric',\n",
       "    'Contig53296_RC': 'numeric',\n",
       "    'NM_015310': 'numeric',\n",
       "    'NM_007315': 'numeric',\n",
       "    'NM_007333': 'numeric',\n",
       "    'NM_006623': 'numeric',\n",
       "    'NM_014668': 'numeric',\n",
       "    'Contig44191_RC': 'numeric',\n",
       "    'Contig54729_RC': 'numeric',\n",
       "    'Contig47439_RC': 'numeric',\n",
       "    'NM_014681': 'numeric',\n",
       "    'NM_005940': 'numeric',\n",
       "    'NM_005941': 'numeric',\n",
       "    'NM_014696': 'numeric',\n",
       "    'NM_005950': 'numeric',\n",
       "    'NM_006681': 'numeric',\n",
       "    'Contig57389': 'numeric',\n",
       "    'NM_013982': 'numeric',\n",
       "    'Contig64688': 'numeric',\n",
       "    'NM_013989': 'numeric',\n",
       "    'NM_005971': 'numeric',\n",
       "    'Contig33126_RC': 'numeric',\n",
       "    ...}}}}"
      ]
     },
     "execution_count": 1,
     "metadata": {},
     "output_type": "execute_result"
    }
   ],
   "source": [
    "JSON_CONFIG_PATH = '../data/NKI_cleaned/config.json'\n",
    "import json\n",
    "f = open(JSON_CONFIG_PATH, 'r')\n",
    "global_config = json.load(f)\n",
    "global_config"
   ]
  },
  {
   "cell_type": "markdown",
   "metadata": {},
   "source": [
    "# AutoTune"
   ]
  },
  {
   "cell_type": "code",
   "execution_count": 2,
   "metadata": {},
   "outputs": [],
   "source": [
    "from propensity_prediction.config.autotune.main import run"
   ]
  },
  {
   "cell_type": "code",
   "execution_count": 3,
   "metadata": {},
   "outputs": [
    {
     "name": "stderr",
     "output_type": "stream",
     "text": [
      "\u001b[32m[I 2021-04-28 04:53:38,983]\u001b[0m A new study created in memory with name: no-name-dbc3d786-f62c-4280-a015-6e8b5d7ab97a\u001b[0m\n"
     ]
    },
    {
     "name": "stdout",
     "output_type": "stream",
     "text": [
      "Prepare contextual data\n",
      "Prepare data for models\n",
      "Train ensemble Ensemble\n",
      "+ Prepare model LogisticRegression with label eventdeath\n"
     ]
    },
    {
     "name": "stderr",
     "output_type": "stream",
     "text": [
      "/root/.local/share/virtualenvs/ds-CSRLTXzN/lib/python3.7/site-packages/pandas/core/indexing.py:966: SettingWithCopyWarning: \n",
      "A value is trying to be set on a copy of a slice from a DataFrame.\n",
      "Try using .loc[row_indexer,col_indexer] = value instead\n",
      "\n",
      "See the caveats in the documentation: https://pandas.pydata.org/pandas-docs/stable/user_guide/indexing.html#returning-a-view-versus-a-copy\n",
      "  self.obj[item] = s\n",
      "/root/.local/share/virtualenvs/ds-CSRLTXzN/lib/python3.7/site-packages/pandas/core/indexing.py:845: SettingWithCopyWarning: \n",
      "A value is trying to be set on a copy of a slice from a DataFrame.\n",
      "Try using .loc[row_indexer,col_indexer] = value instead\n",
      "\n",
      "See the caveats in the documentation: https://pandas.pydata.org/pandas-docs/stable/user_guide/indexing.html#returning-a-view-versus-a-copy\n",
      "  self.obj[key] = _infer_fill_value(value)\n",
      "/root/.local/share/virtualenvs/ds-CSRLTXzN/lib/python3.7/site-packages/pandas/core/indexing.py:966: SettingWithCopyWarning: \n",
      "A value is trying to be set on a copy of a slice from a DataFrame.\n",
      "Try using .loc[row_indexer,col_indexer] = value instead\n",
      "\n",
      "See the caveats in the documentation: https://pandas.pydata.org/pandas-docs/stable/user_guide/indexing.html#returning-a-view-versus-a-copy\n",
      "  self.obj[item] = s\n"
     ]
    },
    {
     "name": "stdout",
     "output_type": "stream",
     "text": [
      "    Training with minibacth  0\n",
      "\t+ [iteration 0001] Loss: 0.0036, Best loss: 0.0036\n",
      "\t+ [iteration 0068] Loss: 0.0018, Best loss: 0.0018\n",
      "    -> Early stop at epoch 68\n",
      "----Running time:  0.453016996383667\n",
      "+ Prepare model Bayesian_LogisticRegression with label eventdeath\n",
      "    Training with minibacth  0\n",
      "\t+ [iteration 0001] Loss: 0.0012, Best loss: 0.0012\n",
      "\t+ [iteration 0092] Loss: 0.0005, Best loss: 0.0005\n",
      "    -> Early stop at epoch 92\n",
      "----Running time:  0.11419034004211426\n"
     ]
    },
    {
     "name": "stderr",
     "output_type": "stream",
     "text": [
      "/root/.local/share/virtualenvs/ds-CSRLTXzN/lib/python3.7/site-packages/torch/autograd/__init__.py:132: UserWarning: CUDA initialization: Found no NVIDIA driver on your system. Please check that you have an NVIDIA GPU and installed a driver from http://www.nvidia.com/Download/index.aspx (Triggered internally at  /pytorch/c10/cuda/CUDAFunctions.cpp:100.)\n",
      "  allow_unreachable=True)  # allow_unreachable flag\n",
      "\u001b[32m[I 2021-04-28 04:53:49,399]\u001b[0m Trial 0 finished with value: -0.46153846153846156 and parameters: {'binarize.method': 'gettop', 'pca.outputdim': 100, 'scoring.impact': False, 'scoring.scale': False, 'scoring.log': True, 'LogisticRegression.learning_rate': 0.0045000000000000005, 'Bayesian_LogisticRegression.learning_rate': 0.0035}. Best is trial 0 with value: -0.46153846153846156.\u001b[0m\n"
     ]
    },
    {
     "name": "stdout",
     "output_type": "stream",
     "text": [
      "0.46153846153846156\n",
      "Prepare contextual data\n",
      "Prepare data for models\n",
      "Train ensemble Ensemble\n",
      "+ Prepare model LogisticRegression with label eventdeath\n"
     ]
    },
    {
     "name": "stderr",
     "output_type": "stream",
     "text": [
      "/root/.local/share/virtualenvs/ds-CSRLTXzN/lib/python3.7/site-packages/pandas/core/indexing.py:845: SettingWithCopyWarning: \n",
      "A value is trying to be set on a copy of a slice from a DataFrame.\n",
      "Try using .loc[row_indexer,col_indexer] = value instead\n",
      "\n",
      "See the caveats in the documentation: https://pandas.pydata.org/pandas-docs/stable/user_guide/indexing.html#returning-a-view-versus-a-copy\n",
      "  self.obj[key] = _infer_fill_value(value)\n",
      "/root/.local/share/virtualenvs/ds-CSRLTXzN/lib/python3.7/site-packages/pandas/core/indexing.py:966: SettingWithCopyWarning: \n",
      "A value is trying to be set on a copy of a slice from a DataFrame.\n",
      "Try using .loc[row_indexer,col_indexer] = value instead\n",
      "\n",
      "See the caveats in the documentation: https://pandas.pydata.org/pandas-docs/stable/user_guide/indexing.html#returning-a-view-versus-a-copy\n",
      "  self.obj[item] = s\n"
     ]
    },
    {
     "name": "stdout",
     "output_type": "stream",
     "text": [
      "    Training with minibacth  0\n",
      "\t+ [iteration 0001] Loss: 0.0034, Best loss: 0.0034\n",
      "\t+ [iteration 0071] Loss: 0.0017, Best loss: 0.0017\n",
      "    -> Early stop at epoch 71\n",
      "----Running time:  0.9914088249206543\n",
      "+ Prepare model Bayesian_LogisticRegression with label eventdeath\n",
      "    Training with minibacth  0\n",
      "\t+ [iteration 0001] Loss: 0.0010, Best loss: 0.0010\n",
      "\t+ [iteration 0051] Loss: 0.0014, Best loss: 0.0010\n",
      "    -> Early stop at epoch 51\n",
      "----Running time:  0.07543826103210449\n"
     ]
    },
    {
     "name": "stderr",
     "output_type": "stream",
     "text": [
      "/root/.local/share/virtualenvs/ds-CSRLTXzN/lib/python3.7/site-packages/pandas/core/indexing.py:966: SettingWithCopyWarning: \n",
      "A value is trying to be set on a copy of a slice from a DataFrame.\n",
      "Try using .loc[row_indexer,col_indexer] = value instead\n",
      "\n",
      "See the caveats in the documentation: https://pandas.pydata.org/pandas-docs/stable/user_guide/indexing.html#returning-a-view-versus-a-copy\n",
      "  self.obj[item] = s\n",
      "\u001b[32m[I 2021-04-28 04:54:01,008]\u001b[0m Trial 1 finished with value: -0.4827586206896552 and parameters: {'binarize.method': 'threshold', 'threshold.method': 'iso', 'pca.outputdim': 20, 'scoring.impact': True, 'scoring.scale': False, 'scoring.log': True, 'LogisticRegression.learning_rate': 0.006, 'Bayesian_LogisticRegression.learning_rate': 0.006500000000000001}. Best is trial 1 with value: -0.4827586206896552.\u001b[0m\n"
     ]
    },
    {
     "name": "stdout",
     "output_type": "stream",
     "text": [
      "0.4827586206896552\n",
      "Prepare contextual data\n",
      "Prepare data for models\n",
      "Train ensemble Ensemble\n",
      "+ Prepare model LogisticRegression with label eventdeath\n"
     ]
    },
    {
     "name": "stderr",
     "output_type": "stream",
     "text": [
      "/root/.local/share/virtualenvs/ds-CSRLTXzN/lib/python3.7/site-packages/pandas/core/indexing.py:966: SettingWithCopyWarning: \n",
      "A value is trying to be set on a copy of a slice from a DataFrame.\n",
      "Try using .loc[row_indexer,col_indexer] = value instead\n",
      "\n",
      "See the caveats in the documentation: https://pandas.pydata.org/pandas-docs/stable/user_guide/indexing.html#returning-a-view-versus-a-copy\n",
      "  self.obj[item] = s\n",
      "/root/.local/share/virtualenvs/ds-CSRLTXzN/lib/python3.7/site-packages/pandas/core/indexing.py:845: SettingWithCopyWarning: \n",
      "A value is trying to be set on a copy of a slice from a DataFrame.\n",
      "Try using .loc[row_indexer,col_indexer] = value instead\n",
      "\n",
      "See the caveats in the documentation: https://pandas.pydata.org/pandas-docs/stable/user_guide/indexing.html#returning-a-view-versus-a-copy\n",
      "  self.obj[key] = _infer_fill_value(value)\n",
      "/root/.local/share/virtualenvs/ds-CSRLTXzN/lib/python3.7/site-packages/pandas/core/indexing.py:966: SettingWithCopyWarning: \n",
      "A value is trying to be set on a copy of a slice from a DataFrame.\n",
      "Try using .loc[row_indexer,col_indexer] = value instead\n",
      "\n",
      "See the caveats in the documentation: https://pandas.pydata.org/pandas-docs/stable/user_guide/indexing.html#returning-a-view-versus-a-copy\n",
      "  self.obj[item] = s\n"
     ]
    },
    {
     "name": "stdout",
     "output_type": "stream",
     "text": [
      "    Training with minibacth  0\n",
      "\t+ [iteration 0001] Loss: 0.0038, Best loss: 0.0038\n",
      "\t+ [iteration 0098] Loss: 0.0010, Best loss: 0.0010\n",
      "    -> Early stop at epoch 98\n",
      "----Running time:  0.9290933609008789\n",
      "+ Prepare model Bayesian_LogisticRegression with label eventdeath\n",
      "    Training with minibacth  0\n",
      "\t+ [iteration 0001] Loss: 0.0010, Best loss: 0.0010\n",
      "\t+ [iteration 0100] Loss: 0.0002, Best loss: 0.0002\n"
     ]
    },
    {
     "name": "stderr",
     "output_type": "stream",
     "text": [
      "\u001b[32m[I 2021-04-28 04:54:12,190]\u001b[0m Trial 2 finished with value: -0.46153846153846156 and parameters: {'binarize.method': 'gettop', 'pca.outputdim': 5, 'scoring.impact': False, 'scoring.scale': True, 'scoring.log': True, 'LogisticRegression.learning_rate': 0.01, 'Bayesian_LogisticRegression.learning_rate': 0.0045000000000000005}. Best is trial 1 with value: -0.4827586206896552.\u001b[0m\n"
     ]
    },
    {
     "name": "stdout",
     "output_type": "stream",
     "text": [
      "\t+ [iteration 0129] Loss: 0.0002, Best loss: 0.0002\n",
      "    -> Early stop at epoch 129\n",
      "----Running time:  0.17924022674560547\n",
      "0.46153846153846156\n",
      "Prepare contextual data\n",
      "Prepare data for models\n",
      "Train ensemble Ensemble\n",
      "+ Prepare model LogisticRegression with label eventdeath\n"
     ]
    },
    {
     "name": "stderr",
     "output_type": "stream",
     "text": [
      "/root/.local/share/virtualenvs/ds-CSRLTXzN/lib/python3.7/site-packages/pandas/core/indexing.py:845: SettingWithCopyWarning: \n",
      "A value is trying to be set on a copy of a slice from a DataFrame.\n",
      "Try using .loc[row_indexer,col_indexer] = value instead\n",
      "\n",
      "See the caveats in the documentation: https://pandas.pydata.org/pandas-docs/stable/user_guide/indexing.html#returning-a-view-versus-a-copy\n",
      "  self.obj[key] = _infer_fill_value(value)\n",
      "/root/.local/share/virtualenvs/ds-CSRLTXzN/lib/python3.7/site-packages/pandas/core/indexing.py:966: SettingWithCopyWarning: \n",
      "A value is trying to be set on a copy of a slice from a DataFrame.\n",
      "Try using .loc[row_indexer,col_indexer] = value instead\n",
      "\n",
      "See the caveats in the documentation: https://pandas.pydata.org/pandas-docs/stable/user_guide/indexing.html#returning-a-view-versus-a-copy\n",
      "  self.obj[item] = s\n"
     ]
    },
    {
     "name": "stdout",
     "output_type": "stream",
     "text": [
      "    Training with minibacth  0\n",
      "\t+ [iteration 0001] Loss: 0.0030, Best loss: 0.0030\n",
      "\t+ [iteration 0089] Loss: 0.0013, Best loss: 0.0013\n",
      "    -> Early stop at epoch 89\n",
      "----Running time:  1.0052406787872314\n",
      "+ Prepare model Bayesian_LogisticRegression with label eventdeath\n",
      "    Training with minibacth  0\n",
      "\t+ [iteration 0001] Loss: 0.0010, Best loss: 0.0010\n",
      "\t+ [iteration 0061] Loss: 0.0006, Best loss: 0.0006\n",
      "    -> Early stop at epoch 61\n",
      "----Running time:  0.10438132286071777\n"
     ]
    },
    {
     "name": "stderr",
     "output_type": "stream",
     "text": [
      "/root/.local/share/virtualenvs/ds-CSRLTXzN/lib/python3.7/site-packages/pandas/core/indexing.py:966: SettingWithCopyWarning: \n",
      "A value is trying to be set on a copy of a slice from a DataFrame.\n",
      "Try using .loc[row_indexer,col_indexer] = value instead\n",
      "\n",
      "See the caveats in the documentation: https://pandas.pydata.org/pandas-docs/stable/user_guide/indexing.html#returning-a-view-versus-a-copy\n",
      "  self.obj[item] = s\n",
      "\u001b[32m[I 2021-04-28 04:54:23,463]\u001b[0m Trial 3 finished with value: -0.4347826086956522 and parameters: {'binarize.method': 'threshold', 'threshold.method': 'kmeans', 'pca.outputdim': 20, 'scoring.impact': True, 'scoring.scale': True, 'scoring.log': False, 'LogisticRegression.learning_rate': 0.01, 'Bayesian_LogisticRegression.learning_rate': 0.0015}. Best is trial 1 with value: -0.4827586206896552.\u001b[0m\n"
     ]
    },
    {
     "name": "stdout",
     "output_type": "stream",
     "text": [
      "0.4347826086956522\n",
      "Prepare contextual data\n",
      "Prepare data for models\n",
      "Train ensemble Ensemble\n",
      "+ Prepare model LogisticRegression with label eventdeath\n"
     ]
    },
    {
     "name": "stderr",
     "output_type": "stream",
     "text": [
      "/root/.local/share/virtualenvs/ds-CSRLTXzN/lib/python3.7/site-packages/pandas/core/indexing.py:966: SettingWithCopyWarning: \n",
      "A value is trying to be set on a copy of a slice from a DataFrame.\n",
      "Try using .loc[row_indexer,col_indexer] = value instead\n",
      "\n",
      "See the caveats in the documentation: https://pandas.pydata.org/pandas-docs/stable/user_guide/indexing.html#returning-a-view-versus-a-copy\n",
      "  self.obj[item] = s\n",
      "/root/.local/share/virtualenvs/ds-CSRLTXzN/lib/python3.7/site-packages/pandas/core/indexing.py:845: SettingWithCopyWarning: \n",
      "A value is trying to be set on a copy of a slice from a DataFrame.\n",
      "Try using .loc[row_indexer,col_indexer] = value instead\n",
      "\n",
      "See the caveats in the documentation: https://pandas.pydata.org/pandas-docs/stable/user_guide/indexing.html#returning-a-view-versus-a-copy\n",
      "  self.obj[key] = _infer_fill_value(value)\n",
      "/root/.local/share/virtualenvs/ds-CSRLTXzN/lib/python3.7/site-packages/pandas/core/indexing.py:966: SettingWithCopyWarning: \n",
      "A value is trying to be set on a copy of a slice from a DataFrame.\n",
      "Try using .loc[row_indexer,col_indexer] = value instead\n",
      "\n",
      "See the caveats in the documentation: https://pandas.pydata.org/pandas-docs/stable/user_guide/indexing.html#returning-a-view-versus-a-copy\n",
      "  self.obj[item] = s\n"
     ]
    },
    {
     "name": "stdout",
     "output_type": "stream",
     "text": [
      "    Training with minibacth  0\n",
      "\t+ [iteration 0001] Loss: 0.0030, Best loss: 0.0030\n",
      "\t+ [iteration 0066] Loss: 0.0018, Best loss: 0.0018\n",
      "    -> Early stop at epoch 66\n",
      "----Running time:  0.44722509384155273\n",
      "+ Prepare model Bayesian_LogisticRegression with label eventdeath\n",
      "    Training with minibacth  0\n",
      "\t+ [iteration 0001] Loss: 0.0011, Best loss: 0.0011\n",
      "\t+ [iteration 0061] Loss: 0.0007, Best loss: 0.0007\n",
      "    -> Early stop at epoch 61\n",
      "----Running time:  0.08043360710144043\n"
     ]
    },
    {
     "name": "stderr",
     "output_type": "stream",
     "text": [
      "\u001b[32m[I 2021-04-28 04:54:34,101]\u001b[0m Trial 4 finished with value: -0.46153846153846156 and parameters: {'binarize.method': 'gettop', 'pca.outputdim': None, 'scoring.impact': False, 'scoring.scale': False, 'scoring.log': True, 'LogisticRegression.learning_rate': 0.0045000000000000005, 'Bayesian_LogisticRegression.learning_rate': 0.001}. Best is trial 1 with value: -0.4827586206896552.\u001b[0m\n"
     ]
    },
    {
     "name": "stdout",
     "output_type": "stream",
     "text": [
      "0.46153846153846156\n",
      "Prepare contextual data\n",
      "Prepare data for models\n",
      "Train ensemble Ensemble\n",
      "+ Prepare model LogisticRegression with label eventdeath\n"
     ]
    },
    {
     "name": "stderr",
     "output_type": "stream",
     "text": [
      "/root/.local/share/virtualenvs/ds-CSRLTXzN/lib/python3.7/site-packages/pandas/core/indexing.py:845: SettingWithCopyWarning: \n",
      "A value is trying to be set on a copy of a slice from a DataFrame.\n",
      "Try using .loc[row_indexer,col_indexer] = value instead\n",
      "\n",
      "See the caveats in the documentation: https://pandas.pydata.org/pandas-docs/stable/user_guide/indexing.html#returning-a-view-versus-a-copy\n",
      "  self.obj[key] = _infer_fill_value(value)\n",
      "/root/.local/share/virtualenvs/ds-CSRLTXzN/lib/python3.7/site-packages/pandas/core/indexing.py:966: SettingWithCopyWarning: \n",
      "A value is trying to be set on a copy of a slice from a DataFrame.\n",
      "Try using .loc[row_indexer,col_indexer] = value instead\n",
      "\n",
      "See the caveats in the documentation: https://pandas.pydata.org/pandas-docs/stable/user_guide/indexing.html#returning-a-view-versus-a-copy\n",
      "  self.obj[item] = s\n"
     ]
    },
    {
     "name": "stdout",
     "output_type": "stream",
     "text": [
      "    Training with minibacth  0\n",
      "\t+ [iteration 0001] Loss: 0.0030, Best loss: 0.0030\n",
      "\t+ [iteration 0094] Loss: 0.0013, Best loss: 0.0013\n",
      "    -> Early stop at epoch 94\n",
      "----Running time:  1.414764642715454\n",
      "+ Prepare model Bayesian_LogisticRegression with label eventdeath\n",
      "    Training with minibacth  0\n",
      "\t+ [iteration 0001] Loss: 0.0011, Best loss: 0.0011\n",
      "\t+ [iteration 0069] Loss: 0.0006, Best loss: 0.0006\n",
      "    -> Early stop at epoch 69\n",
      "----Running time:  0.11336517333984375\n"
     ]
    },
    {
     "name": "stderr",
     "output_type": "stream",
     "text": [
      "\u001b[32m[I 2021-04-28 04:54:45,802]\u001b[0m Trial 5 finished with value: -0.5384615384615384 and parameters: {'binarize.method': 'gettop', 'pca.outputdim': 100, 'scoring.impact': True, 'scoring.scale': True, 'scoring.log': True, 'LogisticRegression.learning_rate': 0.009500000000000001, 'Bayesian_LogisticRegression.learning_rate': 0.002}. Best is trial 5 with value: -0.5384615384615384.\u001b[0m\n"
     ]
    },
    {
     "name": "stdout",
     "output_type": "stream",
     "text": [
      "0.5384615384615384\n",
      "Prepare contextual data\n",
      "Prepare data for models\n",
      "Train ensemble Ensemble\n",
      "+ Prepare model LogisticRegression with label eventdeath\n"
     ]
    },
    {
     "name": "stderr",
     "output_type": "stream",
     "text": [
      "/root/.local/share/virtualenvs/ds-CSRLTXzN/lib/python3.7/site-packages/pandas/core/indexing.py:845: SettingWithCopyWarning: \n",
      "A value is trying to be set on a copy of a slice from a DataFrame.\n",
      "Try using .loc[row_indexer,col_indexer] = value instead\n",
      "\n",
      "See the caveats in the documentation: https://pandas.pydata.org/pandas-docs/stable/user_guide/indexing.html#returning-a-view-versus-a-copy\n",
      "  self.obj[key] = _infer_fill_value(value)\n",
      "/root/.local/share/virtualenvs/ds-CSRLTXzN/lib/python3.7/site-packages/pandas/core/indexing.py:966: SettingWithCopyWarning: \n",
      "A value is trying to be set on a copy of a slice from a DataFrame.\n",
      "Try using .loc[row_indexer,col_indexer] = value instead\n",
      "\n",
      "See the caveats in the documentation: https://pandas.pydata.org/pandas-docs/stable/user_guide/indexing.html#returning-a-view-versus-a-copy\n",
      "  self.obj[item] = s\n"
     ]
    },
    {
     "name": "stdout",
     "output_type": "stream",
     "text": [
      "    Training with minibacth  0\n",
      "\t+ [iteration 0001] Loss: 0.0034, Best loss: 0.0034\n",
      "\t+ [iteration 0100] Loss: 0.0013, Best loss: 0.0013\n",
      "\t+ [iteration 0102] Loss: 0.0012, Best loss: 0.0012\n",
      "    -> Early stop at epoch 102\n",
      "----Running time:  4.751809120178223\n",
      "+ Prepare model Bayesian_LogisticRegression with label eventdeath\n",
      "    Training with minibacth  0\n",
      "\t+ [iteration 0001] Loss: 0.0012, Best loss: 0.0012\n",
      "\t+ [iteration 0051] Loss: 0.0014, Best loss: 0.0012\n",
      "    -> Early stop at epoch 51\n",
      "----Running time:  0.3131582736968994\n"
     ]
    },
    {
     "name": "stderr",
     "output_type": "stream",
     "text": [
      "/root/.local/share/virtualenvs/ds-CSRLTXzN/lib/python3.7/site-packages/pandas/core/indexing.py:966: SettingWithCopyWarning: \n",
      "A value is trying to be set on a copy of a slice from a DataFrame.\n",
      "Try using .loc[row_indexer,col_indexer] = value instead\n",
      "\n",
      "See the caveats in the documentation: https://pandas.pydata.org/pandas-docs/stable/user_guide/indexing.html#returning-a-view-versus-a-copy\n",
      "  self.obj[item] = s\n",
      "\u001b[32m[I 2021-04-28 04:55:11,210]\u001b[0m Trial 6 finished with value: -0.41379310344827586 and parameters: {'binarize.method': 'threshold', 'threshold.method': 'yen', 'pca.outputdim': 5, 'scoring.impact': True, 'scoring.scale': True, 'scoring.log': False, 'LogisticRegression.learning_rate': 0.01, 'Bayesian_LogisticRegression.learning_rate': 0.0055}. Best is trial 5 with value: -0.5384615384615384.\u001b[0m\n"
     ]
    },
    {
     "name": "stdout",
     "output_type": "stream",
     "text": [
      "0.41379310344827586\n",
      "Prepare contextual data\n",
      "Prepare data for models\n",
      "Train ensemble Ensemble\n",
      "+ Prepare model LogisticRegression with label eventdeath\n"
     ]
    },
    {
     "name": "stderr",
     "output_type": "stream",
     "text": [
      "/root/.local/share/virtualenvs/ds-CSRLTXzN/lib/python3.7/site-packages/pandas/core/indexing.py:966: SettingWithCopyWarning: \n",
      "A value is trying to be set on a copy of a slice from a DataFrame.\n",
      "Try using .loc[row_indexer,col_indexer] = value instead\n",
      "\n",
      "See the caveats in the documentation: https://pandas.pydata.org/pandas-docs/stable/user_guide/indexing.html#returning-a-view-versus-a-copy\n",
      "  self.obj[item] = s\n",
      "/root/.local/share/virtualenvs/ds-CSRLTXzN/lib/python3.7/site-packages/pandas/core/indexing.py:845: SettingWithCopyWarning: \n",
      "A value is trying to be set on a copy of a slice from a DataFrame.\n",
      "Try using .loc[row_indexer,col_indexer] = value instead\n",
      "\n",
      "See the caveats in the documentation: https://pandas.pydata.org/pandas-docs/stable/user_guide/indexing.html#returning-a-view-versus-a-copy\n",
      "  self.obj[key] = _infer_fill_value(value)\n",
      "/root/.local/share/virtualenvs/ds-CSRLTXzN/lib/python3.7/site-packages/pandas/core/indexing.py:966: SettingWithCopyWarning: \n",
      "A value is trying to be set on a copy of a slice from a DataFrame.\n",
      "Try using .loc[row_indexer,col_indexer] = value instead\n",
      "\n",
      "See the caveats in the documentation: https://pandas.pydata.org/pandas-docs/stable/user_guide/indexing.html#returning-a-view-versus-a-copy\n",
      "  self.obj[item] = s\n"
     ]
    },
    {
     "name": "stdout",
     "output_type": "stream",
     "text": [
      "    Training with minibacth  0\n",
      "\t+ [iteration 0001] Loss: 0.0030, Best loss: 0.0030\n",
      "\t+ [iteration 0066] Loss: 0.0019, Best loss: 0.0019\n",
      "    -> Early stop at epoch 66\n",
      "----Running time:  1.9894461631774902\n",
      "+ Prepare model Bayesian_LogisticRegression with label eventdeath\n",
      "    Training with minibacth  0\n",
      "\t+ [iteration 0001] Loss: 0.0011, Best loss: 0.0011\n",
      "\t+ [iteration 0086] Loss: 0.0004, Best loss: 0.0004\n",
      "    -> Early stop at epoch 86\n",
      "----Running time:  0.2992987632751465\n"
     ]
    },
    {
     "name": "stderr",
     "output_type": "stream",
     "text": [
      "\u001b[32m[I 2021-04-28 04:55:30,373]\u001b[0m Trial 7 finished with value: -0.46153846153846156 and parameters: {'binarize.method': 'gettop', 'pca.outputdim': None, 'scoring.impact': True, 'scoring.scale': True, 'scoring.log': True, 'LogisticRegression.learning_rate': 0.002, 'Bayesian_LogisticRegression.learning_rate': 0.0035}. Best is trial 5 with value: -0.5384615384615384.\u001b[0m\n"
     ]
    },
    {
     "name": "stdout",
     "output_type": "stream",
     "text": [
      "0.46153846153846156\n",
      "Prepare contextual data\n",
      "Prepare data for models\n",
      "Train ensemble Ensemble\n",
      "+ Prepare model LogisticRegression with label eventdeath\n"
     ]
    },
    {
     "name": "stderr",
     "output_type": "stream",
     "text": [
      "/root/.local/share/virtualenvs/ds-CSRLTXzN/lib/python3.7/site-packages/pandas/core/indexing.py:845: SettingWithCopyWarning: \n",
      "A value is trying to be set on a copy of a slice from a DataFrame.\n",
      "Try using .loc[row_indexer,col_indexer] = value instead\n",
      "\n",
      "See the caveats in the documentation: https://pandas.pydata.org/pandas-docs/stable/user_guide/indexing.html#returning-a-view-versus-a-copy\n",
      "  self.obj[key] = _infer_fill_value(value)\n",
      "/root/.local/share/virtualenvs/ds-CSRLTXzN/lib/python3.7/site-packages/pandas/core/indexing.py:966: SettingWithCopyWarning: \n",
      "A value is trying to be set on a copy of a slice from a DataFrame.\n",
      "Try using .loc[row_indexer,col_indexer] = value instead\n",
      "\n",
      "See the caveats in the documentation: https://pandas.pydata.org/pandas-docs/stable/user_guide/indexing.html#returning-a-view-versus-a-copy\n",
      "  self.obj[item] = s\n"
     ]
    },
    {
     "name": "stdout",
     "output_type": "stream",
     "text": [
      "    Training with minibacth  0\n",
      "\t+ [iteration 0001] Loss: 0.0029, Best loss: 0.0029\n",
      "\t+ [iteration 0069] Loss: 0.0016, Best loss: 0.0016\n",
      "    -> Early stop at epoch 69\n",
      "----Running time:  0.6015057563781738\n",
      "+ Prepare model Bayesian_LogisticRegression with label eventdeath\n",
      "    Training with minibacth  0\n",
      "\t+ [iteration 0001] Loss: 0.0011, Best loss: 0.0011\n",
      "\t+ [iteration 0051] Loss: 0.0014, Best loss: 0.0011\n",
      "    -> Early stop at epoch 51\n",
      "----Running time:  0.08349227905273438\n"
     ]
    },
    {
     "name": "stderr",
     "output_type": "stream",
     "text": [
      "\u001b[32m[I 2021-04-28 04:55:43,563]\u001b[0m Trial 8 finished with value: -0.46153846153846156 and parameters: {'binarize.method': 'gettop', 'pca.outputdim': 20, 'scoring.impact': True, 'scoring.scale': False, 'scoring.log': False, 'LogisticRegression.learning_rate': 0.007000000000000001, 'Bayesian_LogisticRegression.learning_rate': 0.007000000000000001}. Best is trial 5 with value: -0.5384615384615384.\u001b[0m\n"
     ]
    },
    {
     "name": "stdout",
     "output_type": "stream",
     "text": [
      "0.46153846153846156\n",
      "Prepare contextual data\n",
      "Prepare data for models\n",
      "Train ensemble Ensemble\n",
      "+ Prepare model LogisticRegression with label eventdeath\n"
     ]
    },
    {
     "name": "stderr",
     "output_type": "stream",
     "text": [
      "/root/.local/share/virtualenvs/ds-CSRLTXzN/lib/python3.7/site-packages/pandas/core/indexing.py:845: SettingWithCopyWarning: \n",
      "A value is trying to be set on a copy of a slice from a DataFrame.\n",
      "Try using .loc[row_indexer,col_indexer] = value instead\n",
      "\n",
      "See the caveats in the documentation: https://pandas.pydata.org/pandas-docs/stable/user_guide/indexing.html#returning-a-view-versus-a-copy\n",
      "  self.obj[key] = _infer_fill_value(value)\n",
      "/root/.local/share/virtualenvs/ds-CSRLTXzN/lib/python3.7/site-packages/pandas/core/indexing.py:966: SettingWithCopyWarning: \n",
      "A value is trying to be set on a copy of a slice from a DataFrame.\n",
      "Try using .loc[row_indexer,col_indexer] = value instead\n",
      "\n",
      "See the caveats in the documentation: https://pandas.pydata.org/pandas-docs/stable/user_guide/indexing.html#returning-a-view-versus-a-copy\n",
      "  self.obj[item] = s\n"
     ]
    },
    {
     "name": "stdout",
     "output_type": "stream",
     "text": [
      "    Training with minibacth  0\n",
      "\t+ [iteration 0001] Loss: 0.0031, Best loss: 0.0031\n",
      "\t+ [iteration 0097] Loss: 0.0014, Best loss: 0.0014\n",
      "    -> Early stop at epoch 97\n",
      "----Running time:  0.6917436122894287\n",
      "+ Prepare model Bayesian_LogisticRegression with label eventdeath\n",
      "    Training with minibacth  0\n",
      "\t+ [iteration 0001] Loss: 0.0011, Best loss: 0.0011\n",
      "\t+ [iteration 0051] Loss: 0.0014, Best loss: 0.0011\n",
      "    -> Early stop at epoch 51\n",
      "----Running time:  0.06957530975341797\n"
     ]
    },
    {
     "name": "stderr",
     "output_type": "stream",
     "text": [
      "\u001b[32m[I 2021-04-28 04:55:54,303]\u001b[0m Trial 9 finished with value: -0.46153846153846156 and parameters: {'binarize.method': 'gettop', 'pca.outputdim': 20, 'scoring.impact': True, 'scoring.scale': False, 'scoring.log': False, 'LogisticRegression.learning_rate': 0.009000000000000001, 'Bayesian_LogisticRegression.learning_rate': 0.0075}. Best is trial 5 with value: -0.5384615384615384.\u001b[0m\n"
     ]
    },
    {
     "name": "stdout",
     "output_type": "stream",
     "text": [
      "0.46153846153846156\n",
      "Prepare contextual data\n",
      "Prepare data for models\n",
      "Train ensemble Ensemble\n",
      "+ Prepare model LogisticRegression with label eventdeath\n"
     ]
    },
    {
     "name": "stderr",
     "output_type": "stream",
     "text": [
      "/root/.local/share/virtualenvs/ds-CSRLTXzN/lib/python3.7/site-packages/pandas/core/indexing.py:845: SettingWithCopyWarning: \n",
      "A value is trying to be set on a copy of a slice from a DataFrame.\n",
      "Try using .loc[row_indexer,col_indexer] = value instead\n",
      "\n",
      "See the caveats in the documentation: https://pandas.pydata.org/pandas-docs/stable/user_guide/indexing.html#returning-a-view-versus-a-copy\n",
      "  self.obj[key] = _infer_fill_value(value)\n",
      "/root/.local/share/virtualenvs/ds-CSRLTXzN/lib/python3.7/site-packages/pandas/core/indexing.py:966: SettingWithCopyWarning: \n",
      "A value is trying to be set on a copy of a slice from a DataFrame.\n",
      "Try using .loc[row_indexer,col_indexer] = value instead\n",
      "\n",
      "See the caveats in the documentation: https://pandas.pydata.org/pandas-docs/stable/user_guide/indexing.html#returning-a-view-versus-a-copy\n",
      "  self.obj[item] = s\n"
     ]
    },
    {
     "name": "stdout",
     "output_type": "stream",
     "text": [
      "    Training with minibacth  0\n",
      "\t+ [iteration 0001] Loss: 0.0033, Best loss: 0.0033\n",
      "\t+ [iteration 0094] Loss: 0.0014, Best loss: 0.0014\n",
      "    -> Early stop at epoch 94\n",
      "----Running time:  1.5371339321136475\n",
      "+ Prepare model Bayesian_LogisticRegression with label eventdeath\n",
      "    Training with minibacth  0\n",
      "\t+ [iteration 0001] Loss: 0.0011, Best loss: 0.0011\n",
      "\t+ [iteration 0051] Loss: 0.0014, Best loss: 0.0011\n",
      "    -> Early stop at epoch 51\n",
      "----Running time:  0.11731600761413574\n"
     ]
    },
    {
     "name": "stderr",
     "output_type": "stream",
     "text": [
      "\u001b[32m[I 2021-04-28 04:56:06,477]\u001b[0m Trial 10 finished with value: -0.46153846153846156 and parameters: {'binarize.method': 'gettop', 'pca.outputdim': 10, 'scoring.impact': True, 'scoring.scale': True, 'scoring.log': True, 'LogisticRegression.learning_rate': 0.008, 'Bayesian_LogisticRegression.learning_rate': 0.01}. Best is trial 5 with value: -0.5384615384615384.\u001b[0m\n"
     ]
    },
    {
     "name": "stdout",
     "output_type": "stream",
     "text": [
      "0.46153846153846156\n",
      "Prepare contextual data\n",
      "Prepare data for models\n",
      "Train ensemble Ensemble\n",
      "+ Prepare model LogisticRegression with label eventdeath\n"
     ]
    },
    {
     "name": "stderr",
     "output_type": "stream",
     "text": [
      "/root/.local/share/virtualenvs/ds-CSRLTXzN/lib/python3.7/site-packages/pandas/core/indexing.py:845: SettingWithCopyWarning: \n",
      "A value is trying to be set on a copy of a slice from a DataFrame.\n",
      "Try using .loc[row_indexer,col_indexer] = value instead\n",
      "\n",
      "See the caveats in the documentation: https://pandas.pydata.org/pandas-docs/stable/user_guide/indexing.html#returning-a-view-versus-a-copy\n",
      "  self.obj[key] = _infer_fill_value(value)\n",
      "/root/.local/share/virtualenvs/ds-CSRLTXzN/lib/python3.7/site-packages/pandas/core/indexing.py:966: SettingWithCopyWarning: \n",
      "A value is trying to be set on a copy of a slice from a DataFrame.\n",
      "Try using .loc[row_indexer,col_indexer] = value instead\n",
      "\n",
      "See the caveats in the documentation: https://pandas.pydata.org/pandas-docs/stable/user_guide/indexing.html#returning-a-view-versus-a-copy\n",
      "  self.obj[item] = s\n"
     ]
    },
    {
     "name": "stdout",
     "output_type": "stream",
     "text": [
      "    Training with minibacth  0\n",
      "\t+ [iteration 0001] Loss: 0.0032, Best loss: 0.0032\n",
      "\t+ [iteration 0080] Loss: 0.0016, Best loss: 0.0016\n",
      "    -> Early stop at epoch 80\n",
      "----Running time:  1.064697504043579\n",
      "+ Prepare model Bayesian_LogisticRegression with label eventdeath\n",
      "    Training with minibacth  0\n",
      "\t+ [iteration 0001] Loss: 0.0011, Best loss: 0.0011\n",
      "\t+ [iteration 0051] Loss: 0.0014, Best loss: 0.0011\n",
      "    -> Early stop at epoch 51\n",
      "----Running time:  0.07563972473144531\n"
     ]
    },
    {
     "name": "stderr",
     "output_type": "stream",
     "text": [
      "/root/.local/share/virtualenvs/ds-CSRLTXzN/lib/python3.7/site-packages/pandas/core/indexing.py:966: SettingWithCopyWarning: \n",
      "A value is trying to be set on a copy of a slice from a DataFrame.\n",
      "Try using .loc[row_indexer,col_indexer] = value instead\n",
      "\n",
      "See the caveats in the documentation: https://pandas.pydata.org/pandas-docs/stable/user_guide/indexing.html#returning-a-view-versus-a-copy\n",
      "  self.obj[item] = s\n",
      "\u001b[32m[I 2021-04-28 04:56:18,190]\u001b[0m Trial 11 finished with value: -0.4827586206896552 and parameters: {'binarize.method': 'threshold', 'threshold.method': 'iso', 'pca.outputdim': 100, 'scoring.impact': True, 'scoring.scale': False, 'scoring.log': True, 'LogisticRegression.learning_rate': 0.006500000000000001, 'Bayesian_LogisticRegression.learning_rate': 0.009000000000000001}. Best is trial 5 with value: -0.5384615384615384.\u001b[0m\n"
     ]
    },
    {
     "name": "stdout",
     "output_type": "stream",
     "text": [
      "0.4827586206896552\n",
      "Prepare contextual data\n",
      "Prepare data for models\n",
      "Train ensemble Ensemble\n",
      "+ Prepare model LogisticRegression with label eventdeath\n"
     ]
    },
    {
     "name": "stderr",
     "output_type": "stream",
     "text": [
      "/root/.local/share/virtualenvs/ds-CSRLTXzN/lib/python3.7/site-packages/pandas/core/indexing.py:966: SettingWithCopyWarning: \n",
      "A value is trying to be set on a copy of a slice from a DataFrame.\n",
      "Try using .loc[row_indexer,col_indexer] = value instead\n",
      "\n",
      "See the caveats in the documentation: https://pandas.pydata.org/pandas-docs/stable/user_guide/indexing.html#returning-a-view-versus-a-copy\n",
      "  self.obj[item] = s\n",
      "/root/.local/share/virtualenvs/ds-CSRLTXzN/lib/python3.7/site-packages/pandas/core/indexing.py:845: SettingWithCopyWarning: \n",
      "A value is trying to be set on a copy of a slice from a DataFrame.\n",
      "Try using .loc[row_indexer,col_indexer] = value instead\n",
      "\n",
      "See the caveats in the documentation: https://pandas.pydata.org/pandas-docs/stable/user_guide/indexing.html#returning-a-view-versus-a-copy\n",
      "  self.obj[key] = _infer_fill_value(value)\n",
      "/root/.local/share/virtualenvs/ds-CSRLTXzN/lib/python3.7/site-packages/pandas/core/indexing.py:966: SettingWithCopyWarning: \n",
      "A value is trying to be set on a copy of a slice from a DataFrame.\n",
      "Try using .loc[row_indexer,col_indexer] = value instead\n",
      "\n",
      "See the caveats in the documentation: https://pandas.pydata.org/pandas-docs/stable/user_guide/indexing.html#returning-a-view-versus-a-copy\n",
      "  self.obj[item] = s\n"
     ]
    },
    {
     "name": "stdout",
     "output_type": "stream",
     "text": [
      "    Training with minibacth  0\n",
      "\t+ [iteration 0001] Loss: 0.0035, Best loss: 0.0035\n",
      "\t+ [iteration 0064] Loss: 0.0020, Best loss: 0.0020\n",
      "    -> Early stop at epoch 64\n",
      "----Running time:  1.7305247783660889\n",
      "+ Prepare model Bayesian_LogisticRegression with label eventdeath\n",
      "    Training with minibacth  0\n",
      "\t+ [iteration 0001] Loss: 0.0017, Best loss: 0.0017\n",
      "\t+ [iteration 0052] Loss: 0.0014, Best loss: 0.0013\n",
      "    -> Early stop at epoch 52\n",
      "----Running time:  0.12681317329406738\n"
     ]
    },
    {
     "name": "stderr",
     "output_type": "stream",
     "text": [
      "/root/.local/share/virtualenvs/ds-CSRLTXzN/lib/python3.7/site-packages/pandas/core/indexing.py:966: SettingWithCopyWarning: \n",
      "A value is trying to be set on a copy of a slice from a DataFrame.\n",
      "Try using .loc[row_indexer,col_indexer] = value instead\n",
      "\n",
      "See the caveats in the documentation: https://pandas.pydata.org/pandas-docs/stable/user_guide/indexing.html#returning-a-view-versus-a-copy\n",
      "  self.obj[item] = s\n",
      "\u001b[32m[I 2021-04-28 04:56:30,326]\u001b[0m Trial 12 finished with value: -0.4000000000000001 and parameters: {'binarize.method': 'threshold', 'threshold.method': 'iso', 'pca.outputdim': 100, 'scoring.impact': True, 'scoring.scale': True, 'scoring.log': True, 'LogisticRegression.learning_rate': 0.002, 'Bayesian_LogisticRegression.learning_rate': 0.006500000000000001}. Best is trial 5 with value: -0.5384615384615384.\u001b[0m\n"
     ]
    },
    {
     "name": "stdout",
     "output_type": "stream",
     "text": [
      "0.4000000000000001\n",
      "Prepare contextual data\n",
      "Prepare data for models\n",
      "Train ensemble Ensemble\n",
      "+ Prepare model LogisticRegression with label eventdeath\n"
     ]
    },
    {
     "name": "stderr",
     "output_type": "stream",
     "text": [
      "/root/.local/share/virtualenvs/ds-CSRLTXzN/lib/python3.7/site-packages/pandas/core/indexing.py:966: SettingWithCopyWarning: \n",
      "A value is trying to be set on a copy of a slice from a DataFrame.\n",
      "Try using .loc[row_indexer,col_indexer] = value instead\n",
      "\n",
      "See the caveats in the documentation: https://pandas.pydata.org/pandas-docs/stable/user_guide/indexing.html#returning-a-view-versus-a-copy\n",
      "  self.obj[item] = s\n",
      "/root/.local/share/virtualenvs/ds-CSRLTXzN/lib/python3.7/site-packages/pandas/core/indexing.py:845: SettingWithCopyWarning: \n",
      "A value is trying to be set on a copy of a slice from a DataFrame.\n",
      "Try using .loc[row_indexer,col_indexer] = value instead\n",
      "\n",
      "See the caveats in the documentation: https://pandas.pydata.org/pandas-docs/stable/user_guide/indexing.html#returning-a-view-versus-a-copy\n",
      "  self.obj[key] = _infer_fill_value(value)\n",
      "/root/.local/share/virtualenvs/ds-CSRLTXzN/lib/python3.7/site-packages/pandas/core/indexing.py:966: SettingWithCopyWarning: \n",
      "A value is trying to be set on a copy of a slice from a DataFrame.\n",
      "Try using .loc[row_indexer,col_indexer] = value instead\n",
      "\n",
      "See the caveats in the documentation: https://pandas.pydata.org/pandas-docs/stable/user_guide/indexing.html#returning-a-view-versus-a-copy\n",
      "  self.obj[item] = s\n"
     ]
    },
    {
     "name": "stdout",
     "output_type": "stream",
     "text": [
      "    Training with minibacth  0\n",
      "\t+ [iteration 0001] Loss: 0.0032, Best loss: 0.0032\n",
      "\t+ [iteration 0071] Loss: 0.0017, Best loss: 0.0017\n",
      "    -> Early stop at epoch 71\n",
      "----Running time:  1.0444953441619873\n",
      "+ Prepare model Bayesian_LogisticRegression with label eventdeath\n",
      "    Training with minibacth  0\n",
      "\t+ [iteration 0001] Loss: 0.0011, Best loss: 0.0011\n",
      "\t+ [iteration 0064] Loss: 0.0006, Best loss: 0.0006\n",
      "    -> Early stop at epoch 64\n",
      "----Running time:  0.08399486541748047\n"
     ]
    },
    {
     "name": "stderr",
     "output_type": "stream",
     "text": [
      "/root/.local/share/virtualenvs/ds-CSRLTXzN/lib/python3.7/site-packages/pandas/core/indexing.py:966: SettingWithCopyWarning: \n",
      "A value is trying to be set on a copy of a slice from a DataFrame.\n",
      "Try using .loc[row_indexer,col_indexer] = value instead\n",
      "\n",
      "See the caveats in the documentation: https://pandas.pydata.org/pandas-docs/stable/user_guide/indexing.html#returning-a-view-versus-a-copy\n",
      "  self.obj[item] = s\n",
      "\u001b[32m[I 2021-04-28 04:56:43,053]\u001b[0m Trial 13 finished with value: -0.41666666666666663 and parameters: {'binarize.method': 'threshold', 'threshold.method': 'constant', 'pca.outputdim': 100, 'scoring.impact': True, 'scoring.scale': False, 'scoring.log': True, 'LogisticRegression.learning_rate': 0.006, 'Bayesian_LogisticRegression.learning_rate': 0.002}. Best is trial 5 with value: -0.5384615384615384.\u001b[0m\n"
     ]
    },
    {
     "name": "stdout",
     "output_type": "stream",
     "text": [
      "0.41666666666666663\n",
      "Prepare contextual data\n",
      "Prepare data for models\n",
      "Train ensemble Ensemble\n",
      "+ Prepare model LogisticRegression with label eventdeath\n"
     ]
    },
    {
     "name": "stderr",
     "output_type": "stream",
     "text": [
      "/root/.local/share/virtualenvs/ds-CSRLTXzN/lib/python3.7/site-packages/pandas/core/indexing.py:966: SettingWithCopyWarning: \n",
      "A value is trying to be set on a copy of a slice from a DataFrame.\n",
      "Try using .loc[row_indexer,col_indexer] = value instead\n",
      "\n",
      "See the caveats in the documentation: https://pandas.pydata.org/pandas-docs/stable/user_guide/indexing.html#returning-a-view-versus-a-copy\n",
      "  self.obj[item] = s\n",
      "/root/.local/share/virtualenvs/ds-CSRLTXzN/lib/python3.7/site-packages/pandas/core/indexing.py:845: SettingWithCopyWarning: \n",
      "A value is trying to be set on a copy of a slice from a DataFrame.\n",
      "Try using .loc[row_indexer,col_indexer] = value instead\n",
      "\n",
      "See the caveats in the documentation: https://pandas.pydata.org/pandas-docs/stable/user_guide/indexing.html#returning-a-view-versus-a-copy\n",
      "  self.obj[key] = _infer_fill_value(value)\n",
      "/root/.local/share/virtualenvs/ds-CSRLTXzN/lib/python3.7/site-packages/pandas/core/indexing.py:966: SettingWithCopyWarning: \n",
      "A value is trying to be set on a copy of a slice from a DataFrame.\n",
      "Try using .loc[row_indexer,col_indexer] = value instead\n",
      "\n",
      "See the caveats in the documentation: https://pandas.pydata.org/pandas-docs/stable/user_guide/indexing.html#returning-a-view-versus-a-copy\n",
      "  self.obj[item] = s\n"
     ]
    },
    {
     "name": "stdout",
     "output_type": "stream",
     "text": [
      "    Training with minibacth  0\n",
      "\t+ [iteration 0001] Loss: 0.0030, Best loss: 0.0030\n",
      "\t+ [iteration 0052] Loss: 0.0024, Best loss: 0.0024\n",
      "    -> Early stop at epoch 52\n",
      "----Running time:  1.426102638244629\n",
      "+ Prepare model Bayesian_LogisticRegression with label eventdeath\n",
      "    Training with minibacth  0\n",
      "\t+ [iteration 0001] Loss: 0.0011, Best loss: 0.0011\n",
      "\t+ [iteration 0051] Loss: 0.0014, Best loss: 0.0011\n",
      "    -> Early stop at epoch 51\n",
      "----Running time:  0.1018977165222168\n"
     ]
    },
    {
     "name": "stderr",
     "output_type": "stream",
     "text": [
      "/root/.local/share/virtualenvs/ds-CSRLTXzN/lib/python3.7/site-packages/pandas/core/indexing.py:966: SettingWithCopyWarning: \n",
      "A value is trying to be set on a copy of a slice from a DataFrame.\n",
      "Try using .loc[row_indexer,col_indexer] = value instead\n",
      "\n",
      "See the caveats in the documentation: https://pandas.pydata.org/pandas-docs/stable/user_guide/indexing.html#returning-a-view-versus-a-copy\n",
      "  self.obj[item] = s\n",
      "\u001b[32m[I 2021-04-28 04:56:57,138]\u001b[0m Trial 14 finished with value: -0.29629629629629634 and parameters: {'binarize.method': 'threshold', 'threshold.method': 'otsu', 'pca.outputdim': 10, 'scoring.impact': True, 'scoring.scale': True, 'scoring.log': True, 'LogisticRegression.learning_rate': 0.0005, 'Bayesian_LogisticRegression.learning_rate': 0.0085}. Best is trial 5 with value: -0.5384615384615384.\u001b[0m\n"
     ]
    },
    {
     "name": "stdout",
     "output_type": "stream",
     "text": [
      "0.29629629629629634\n",
      "Prepare contextual data\n",
      "Prepare data for models\n",
      "Train ensemble Ensemble\n",
      "+ Prepare model LogisticRegression with label eventdeath\n"
     ]
    },
    {
     "name": "stderr",
     "output_type": "stream",
     "text": [
      "/root/.local/share/virtualenvs/ds-CSRLTXzN/lib/python3.7/site-packages/pandas/core/indexing.py:966: SettingWithCopyWarning: \n",
      "A value is trying to be set on a copy of a slice from a DataFrame.\n",
      "Try using .loc[row_indexer,col_indexer] = value instead\n",
      "\n",
      "See the caveats in the documentation: https://pandas.pydata.org/pandas-docs/stable/user_guide/indexing.html#returning-a-view-versus-a-copy\n",
      "  self.obj[item] = s\n",
      "/root/.local/share/virtualenvs/ds-CSRLTXzN/lib/python3.7/site-packages/pandas/core/indexing.py:845: SettingWithCopyWarning: \n",
      "A value is trying to be set on a copy of a slice from a DataFrame.\n",
      "Try using .loc[row_indexer,col_indexer] = value instead\n",
      "\n",
      "See the caveats in the documentation: https://pandas.pydata.org/pandas-docs/stable/user_guide/indexing.html#returning-a-view-versus-a-copy\n",
      "  self.obj[key] = _infer_fill_value(value)\n",
      "/root/.local/share/virtualenvs/ds-CSRLTXzN/lib/python3.7/site-packages/pandas/core/indexing.py:966: SettingWithCopyWarning: \n",
      "A value is trying to be set on a copy of a slice from a DataFrame.\n",
      "Try using .loc[row_indexer,col_indexer] = value instead\n",
      "\n",
      "See the caveats in the documentation: https://pandas.pydata.org/pandas-docs/stable/user_guide/indexing.html#returning-a-view-versus-a-copy\n",
      "  self.obj[item] = s\n"
     ]
    },
    {
     "name": "stdout",
     "output_type": "stream",
     "text": [
      "    Training with minibacth  0\n",
      "\t+ [iteration 0001] Loss: 0.0031, Best loss: 0.0031\n",
      "\t+ [iteration 0093] Loss: 0.0015, Best loss: 0.0015\n",
      "    -> Early stop at epoch 93\n",
      "----Running time:  1.0135622024536133\n",
      "+ Prepare model Bayesian_LogisticRegression with label eventdeath\n",
      "    Training with minibacth  0\n",
      "\t+ [iteration 0001] Loss: 0.0010, Best loss: 0.0010\n",
      "\t+ [iteration 0051] Loss: 0.0014, Best loss: 0.0010\n",
      "    -> Early stop at epoch 51\n",
      "----Running time:  0.07224345207214355\n"
     ]
    },
    {
     "name": "stderr",
     "output_type": "stream",
     "text": [
      "/root/.local/share/virtualenvs/ds-CSRLTXzN/lib/python3.7/site-packages/pandas/core/indexing.py:966: SettingWithCopyWarning: \n",
      "A value is trying to be set on a copy of a slice from a DataFrame.\n",
      "Try using .loc[row_indexer,col_indexer] = value instead\n",
      "\n",
      "See the caveats in the documentation: https://pandas.pydata.org/pandas-docs/stable/user_guide/indexing.html#returning-a-view-versus-a-copy\n",
      "  self.obj[item] = s\n",
      "\u001b[32m[I 2021-04-28 04:57:08,694]\u001b[0m Trial 15 finished with value: -0.13333333333333336 and parameters: {'binarize.method': 'threshold', 'threshold.method': 'baseline', 'pca.outputdim': 20, 'scoring.impact': True, 'scoring.scale': False, 'scoring.log': True, 'LogisticRegression.learning_rate': 0.008, 'Bayesian_LogisticRegression.learning_rate': 0.0055}. Best is trial 5 with value: -0.5384615384615384.\u001b[0m\n"
     ]
    },
    {
     "name": "stdout",
     "output_type": "stream",
     "text": [
      "0.13333333333333336\n",
      "Prepare contextual data\n",
      "Prepare data for models\n",
      "Train ensemble Ensemble\n",
      "+ Prepare model LogisticRegression with label eventdeath\n"
     ]
    },
    {
     "name": "stderr",
     "output_type": "stream",
     "text": [
      "/root/.local/share/virtualenvs/ds-CSRLTXzN/lib/python3.7/site-packages/pandas/core/indexing.py:966: SettingWithCopyWarning: \n",
      "A value is trying to be set on a copy of a slice from a DataFrame.\n",
      "Try using .loc[row_indexer,col_indexer] = value instead\n",
      "\n",
      "See the caveats in the documentation: https://pandas.pydata.org/pandas-docs/stable/user_guide/indexing.html#returning-a-view-versus-a-copy\n",
      "  self.obj[item] = s\n",
      "/root/.local/share/virtualenvs/ds-CSRLTXzN/lib/python3.7/site-packages/pandas/core/indexing.py:845: SettingWithCopyWarning: \n",
      "A value is trying to be set on a copy of a slice from a DataFrame.\n",
      "Try using .loc[row_indexer,col_indexer] = value instead\n",
      "\n",
      "See the caveats in the documentation: https://pandas.pydata.org/pandas-docs/stable/user_guide/indexing.html#returning-a-view-versus-a-copy\n",
      "  self.obj[key] = _infer_fill_value(value)\n",
      "/root/.local/share/virtualenvs/ds-CSRLTXzN/lib/python3.7/site-packages/pandas/core/indexing.py:966: SettingWithCopyWarning: \n",
      "A value is trying to be set on a copy of a slice from a DataFrame.\n",
      "Try using .loc[row_indexer,col_indexer] = value instead\n",
      "\n",
      "See the caveats in the documentation: https://pandas.pydata.org/pandas-docs/stable/user_guide/indexing.html#returning-a-view-versus-a-copy\n",
      "  self.obj[item] = s\n"
     ]
    },
    {
     "name": "stdout",
     "output_type": "stream",
     "text": [
      "    Training with minibacth  0\n",
      "\t+ [iteration 0001] Loss: 0.0035, Best loss: 0.0035\n",
      "\t+ [iteration 0064] Loss: 0.0019, Best loss: 0.0019\n",
      "    -> Early stop at epoch 64\n",
      "----Running time:  1.0400950908660889\n",
      "+ Prepare model Bayesian_LogisticRegression with label eventdeath\n",
      "    Training with minibacth  0\n",
      "\t+ [iteration 0001] Loss: 0.0012, Best loss: 0.0012\n",
      "\t+ [iteration 0073] Loss: 0.0006, Best loss: 0.0006\n",
      "    -> Early stop at epoch 73\n",
      "----Running time:  0.09190797805786133\n"
     ]
    },
    {
     "name": "stderr",
     "output_type": "stream",
     "text": [
      "\u001b[32m[I 2021-04-28 04:57:19,296]\u001b[0m Trial 16 finished with value: -0.46153846153846156 and parameters: {'binarize.method': 'gettop', 'pca.outputdim': 100, 'scoring.impact': True, 'scoring.scale': False, 'scoring.log': True, 'LogisticRegression.learning_rate': 0.003, 'Bayesian_LogisticRegression.learning_rate': 0.003}. Best is trial 5 with value: -0.5384615384615384.\u001b[0m\n"
     ]
    },
    {
     "name": "stdout",
     "output_type": "stream",
     "text": [
      "0.46153846153846156\n",
      "Prepare contextual data\n",
      "Prepare data for models\n",
      "Train ensemble Ensemble\n",
      "+ Prepare model LogisticRegression with label eventdeath\n"
     ]
    },
    {
     "name": "stderr",
     "output_type": "stream",
     "text": [
      "/root/.local/share/virtualenvs/ds-CSRLTXzN/lib/python3.7/site-packages/pandas/core/indexing.py:845: SettingWithCopyWarning: \n",
      "A value is trying to be set on a copy of a slice from a DataFrame.\n",
      "Try using .loc[row_indexer,col_indexer] = value instead\n",
      "\n",
      "See the caveats in the documentation: https://pandas.pydata.org/pandas-docs/stable/user_guide/indexing.html#returning-a-view-versus-a-copy\n",
      "  self.obj[key] = _infer_fill_value(value)\n",
      "/root/.local/share/virtualenvs/ds-CSRLTXzN/lib/python3.7/site-packages/pandas/core/indexing.py:966: SettingWithCopyWarning: \n",
      "A value is trying to be set on a copy of a slice from a DataFrame.\n",
      "Try using .loc[row_indexer,col_indexer] = value instead\n",
      "\n",
      "See the caveats in the documentation: https://pandas.pydata.org/pandas-docs/stable/user_guide/indexing.html#returning-a-view-versus-a-copy\n",
      "  self.obj[item] = s\n"
     ]
    },
    {
     "name": "stdout",
     "output_type": "stream",
     "text": [
      "    Training with minibacth  0\n",
      "\t+ [iteration 0001] Loss: 0.0032, Best loss: 0.0032\n",
      "\t+ [iteration 0081] Loss: 0.0013, Best loss: 0.0013\n",
      "    -> Early stop at epoch 81\n",
      "----Running time:  0.9248838424682617\n",
      "+ Prepare model Bayesian_LogisticRegression with label eventdeath\n",
      "    Training with minibacth  0\n",
      "\t+ [iteration 0001] Loss: 0.0015, Best loss: 0.0015\n",
      "\t+ [iteration 0055] Loss: 0.0008, Best loss: 0.0008\n",
      "    -> Early stop at epoch 55\n",
      "----Running time:  0.08996939659118652\n"
     ]
    },
    {
     "name": "stderr",
     "output_type": "stream",
     "text": [
      "/root/.local/share/virtualenvs/ds-CSRLTXzN/lib/python3.7/site-packages/pandas/core/indexing.py:966: SettingWithCopyWarning: \n",
      "A value is trying to be set on a copy of a slice from a DataFrame.\n",
      "Try using .loc[row_indexer,col_indexer] = value instead\n",
      "\n",
      "See the caveats in the documentation: https://pandas.pydata.org/pandas-docs/stable/user_guide/indexing.html#returning-a-view-versus-a-copy\n",
      "  self.obj[item] = s\n",
      "\u001b[32m[I 2021-04-28 04:57:29,976]\u001b[0m Trial 17 finished with value: -0.41666666666666663 and parameters: {'binarize.method': 'threshold', 'threshold.method': 'iso', 'pca.outputdim': 20, 'scoring.impact': False, 'scoring.scale': True, 'scoring.log': True, 'LogisticRegression.learning_rate': 0.005000000000000001, 'Bayesian_LogisticRegression.learning_rate': 0.0005}. Best is trial 5 with value: -0.5384615384615384.\u001b[0m\n"
     ]
    },
    {
     "name": "stdout",
     "output_type": "stream",
     "text": [
      "0.41666666666666663\n",
      "Prepare contextual data\n",
      "Prepare data for models\n",
      "Train ensemble Ensemble\n",
      "+ Prepare model LogisticRegression with label eventdeath\n"
     ]
    },
    {
     "name": "stderr",
     "output_type": "stream",
     "text": [
      "/root/.local/share/virtualenvs/ds-CSRLTXzN/lib/python3.7/site-packages/pandas/core/indexing.py:966: SettingWithCopyWarning: \n",
      "A value is trying to be set on a copy of a slice from a DataFrame.\n",
      "Try using .loc[row_indexer,col_indexer] = value instead\n",
      "\n",
      "See the caveats in the documentation: https://pandas.pydata.org/pandas-docs/stable/user_guide/indexing.html#returning-a-view-versus-a-copy\n",
      "  self.obj[item] = s\n",
      "/root/.local/share/virtualenvs/ds-CSRLTXzN/lib/python3.7/site-packages/pandas/core/indexing.py:845: SettingWithCopyWarning: \n",
      "A value is trying to be set on a copy of a slice from a DataFrame.\n",
      "Try using .loc[row_indexer,col_indexer] = value instead\n",
      "\n",
      "See the caveats in the documentation: https://pandas.pydata.org/pandas-docs/stable/user_guide/indexing.html#returning-a-view-versus-a-copy\n",
      "  self.obj[key] = _infer_fill_value(value)\n",
      "/root/.local/share/virtualenvs/ds-CSRLTXzN/lib/python3.7/site-packages/pandas/core/indexing.py:966: SettingWithCopyWarning: \n",
      "A value is trying to be set on a copy of a slice from a DataFrame.\n",
      "Try using .loc[row_indexer,col_indexer] = value instead\n",
      "\n",
      "See the caveats in the documentation: https://pandas.pydata.org/pandas-docs/stable/user_guide/indexing.html#returning-a-view-versus-a-copy\n",
      "  self.obj[item] = s\n"
     ]
    },
    {
     "name": "stdout",
     "output_type": "stream",
     "text": [
      "    Training with minibacth  0\n",
      "\t+ [iteration 0001] Loss: 0.0033, Best loss: 0.0033\n",
      "\t+ [iteration 0098] Loss: 0.0013, Best loss: 0.0013\n",
      "    -> Early stop at epoch 98\n",
      "----Running time:  1.4152283668518066\n",
      "+ Prepare model Bayesian_LogisticRegression with label eventdeath\n",
      "    Training with minibacth  0\n",
      "\t+ [iteration 0001] Loss: 0.0012, Best loss: 0.0012\n",
      "\t+ [iteration 0051] Loss: 0.0014, Best loss: 0.0012\n",
      "    -> Early stop at epoch 51\n",
      "----Running time:  0.09236383438110352\n"
     ]
    },
    {
     "name": "stderr",
     "output_type": "stream",
     "text": [
      "\u001b[32m[I 2021-04-28 04:57:41,152]\u001b[0m Trial 18 finished with value: -0.3076923076923077 and parameters: {'binarize.method': 'gettop', 'pca.outputdim': 5, 'scoring.impact': True, 'scoring.scale': True, 'scoring.log': True, 'LogisticRegression.learning_rate': 0.0085, 'Bayesian_LogisticRegression.learning_rate': 0.0045000000000000005}. Best is trial 5 with value: -0.5384615384615384.\u001b[0m\n"
     ]
    },
    {
     "name": "stdout",
     "output_type": "stream",
     "text": [
      "0.3076923076923077\n",
      "Prepare contextual data\n",
      "Prepare data for models\n",
      "Train ensemble Ensemble\n",
      "+ Prepare model LogisticRegression with label eventdeath\n"
     ]
    },
    {
     "name": "stderr",
     "output_type": "stream",
     "text": [
      "/root/.local/share/virtualenvs/ds-CSRLTXzN/lib/python3.7/site-packages/pandas/core/indexing.py:845: SettingWithCopyWarning: \n",
      "A value is trying to be set on a copy of a slice from a DataFrame.\n",
      "Try using .loc[row_indexer,col_indexer] = value instead\n",
      "\n",
      "See the caveats in the documentation: https://pandas.pydata.org/pandas-docs/stable/user_guide/indexing.html#returning-a-view-versus-a-copy\n",
      "  self.obj[key] = _infer_fill_value(value)\n",
      "/root/.local/share/virtualenvs/ds-CSRLTXzN/lib/python3.7/site-packages/pandas/core/indexing.py:966: SettingWithCopyWarning: \n",
      "A value is trying to be set on a copy of a slice from a DataFrame.\n",
      "Try using .loc[row_indexer,col_indexer] = value instead\n",
      "\n",
      "See the caveats in the documentation: https://pandas.pydata.org/pandas-docs/stable/user_guide/indexing.html#returning-a-view-versus-a-copy\n",
      "  self.obj[item] = s\n"
     ]
    },
    {
     "name": "stdout",
     "output_type": "stream",
     "text": [
      "    Training with minibacth  0\n",
      "\t+ [iteration 0001] Loss: 0.0032, Best loss: 0.0032\n",
      "\t+ [iteration 0071] Loss: 0.0018, Best loss: 0.0018\n",
      "    -> Early stop at epoch 71\n",
      "----Running time:  0.9845693111419678\n",
      "+ Prepare model Bayesian_LogisticRegression with label eventdeath\n",
      "    Training with minibacth  0\n",
      "\t+ [iteration 0001] Loss: 0.0010, Best loss: 0.0010\n",
      "\t+ [iteration 0063] Loss: 0.0006, Best loss: 0.0006\n",
      "    -> Early stop at epoch 63\n",
      "----Running time:  0.08321142196655273\n"
     ]
    },
    {
     "name": "stderr",
     "output_type": "stream",
     "text": [
      "/root/.local/share/virtualenvs/ds-CSRLTXzN/lib/python3.7/site-packages/pandas/core/indexing.py:966: SettingWithCopyWarning: \n",
      "A value is trying to be set on a copy of a slice from a DataFrame.\n",
      "Try using .loc[row_indexer,col_indexer] = value instead\n",
      "\n",
      "See the caveats in the documentation: https://pandas.pydata.org/pandas-docs/stable/user_guide/indexing.html#returning-a-view-versus-a-copy\n",
      "  self.obj[item] = s\n",
      "\u001b[32m[I 2021-04-28 04:57:51,763]\u001b[0m Trial 19 finished with value: -0.41666666666666663 and parameters: {'binarize.method': 'threshold', 'threshold.method': 'constant', 'pca.outputdim': 20, 'scoring.impact': True, 'scoring.scale': False, 'scoring.log': True, 'LogisticRegression.learning_rate': 0.0035, 'Bayesian_LogisticRegression.learning_rate': 0.0025}. Best is trial 5 with value: -0.5384615384615384.\u001b[0m\n"
     ]
    },
    {
     "name": "stdout",
     "output_type": "stream",
     "text": [
      "0.41666666666666663\n",
      "Prepare contextual data\n",
      "Prepare data for models\n",
      "Train ensemble Ensemble\n",
      "+ Prepare model LogisticRegression with label eventdeath\n"
     ]
    },
    {
     "name": "stderr",
     "output_type": "stream",
     "text": [
      "/root/.local/share/virtualenvs/ds-CSRLTXzN/lib/python3.7/site-packages/pandas/core/indexing.py:966: SettingWithCopyWarning: \n",
      "A value is trying to be set on a copy of a slice from a DataFrame.\n",
      "Try using .loc[row_indexer,col_indexer] = value instead\n",
      "\n",
      "See the caveats in the documentation: https://pandas.pydata.org/pandas-docs/stable/user_guide/indexing.html#returning-a-view-versus-a-copy\n",
      "  self.obj[item] = s\n",
      "/root/.local/share/virtualenvs/ds-CSRLTXzN/lib/python3.7/site-packages/pandas/core/indexing.py:845: SettingWithCopyWarning: \n",
      "A value is trying to be set on a copy of a slice from a DataFrame.\n",
      "Try using .loc[row_indexer,col_indexer] = value instead\n",
      "\n",
      "See the caveats in the documentation: https://pandas.pydata.org/pandas-docs/stable/user_guide/indexing.html#returning-a-view-versus-a-copy\n",
      "  self.obj[key] = _infer_fill_value(value)\n",
      "/root/.local/share/virtualenvs/ds-CSRLTXzN/lib/python3.7/site-packages/pandas/core/indexing.py:966: SettingWithCopyWarning: \n",
      "A value is trying to be set on a copy of a slice from a DataFrame.\n",
      "Try using .loc[row_indexer,col_indexer] = value instead\n",
      "\n",
      "See the caveats in the documentation: https://pandas.pydata.org/pandas-docs/stable/user_guide/indexing.html#returning-a-view-versus-a-copy\n",
      "  self.obj[item] = s\n"
     ]
    },
    {
     "name": "stdout",
     "output_type": "stream",
     "text": [
      "    Training with minibacth  0\n",
      "\t+ [iteration 0001] Loss: 0.0028, Best loss: 0.0028\n",
      "\t+ [iteration 0083] Loss: 0.0016, Best loss: 0.0016\n",
      "    -> Early stop at epoch 83\n",
      "----Running time:  0.4760439395904541\n",
      "+ Prepare model Bayesian_LogisticRegression with label eventdeath\n",
      "    Training with minibacth  0\n",
      "\t+ [iteration 0001] Loss: 0.0011, Best loss: 0.0011\n",
      "\t+ [iteration 0051] Loss: 0.0014, Best loss: 0.0011\n",
      "    -> Early stop at epoch 51\n",
      "----Running time:  0.06488347053527832\n"
     ]
    },
    {
     "name": "stderr",
     "output_type": "stream",
     "text": [
      "\u001b[32m[I 2021-04-28 04:58:01,793]\u001b[0m Trial 20 finished with value: -0.46153846153846156 and parameters: {'binarize.method': 'gettop', 'pca.outputdim': 10, 'scoring.impact': False, 'scoring.scale': False, 'scoring.log': True, 'LogisticRegression.learning_rate': 0.007000000000000001, 'Bayesian_LogisticRegression.learning_rate': 0.006}. Best is trial 5 with value: -0.5384615384615384.\u001b[0m\n"
     ]
    },
    {
     "name": "stdout",
     "output_type": "stream",
     "text": [
      "0.46153846153846156\n",
      "Prepare contextual data\n",
      "Prepare data for models\n",
      "Train ensemble Ensemble\n",
      "+ Prepare model LogisticRegression with label eventdeath\n"
     ]
    },
    {
     "name": "stderr",
     "output_type": "stream",
     "text": [
      "/root/.local/share/virtualenvs/ds-CSRLTXzN/lib/python3.7/site-packages/pandas/core/indexing.py:845: SettingWithCopyWarning: \n",
      "A value is trying to be set on a copy of a slice from a DataFrame.\n",
      "Try using .loc[row_indexer,col_indexer] = value instead\n",
      "\n",
      "See the caveats in the documentation: https://pandas.pydata.org/pandas-docs/stable/user_guide/indexing.html#returning-a-view-versus-a-copy\n",
      "  self.obj[key] = _infer_fill_value(value)\n",
      "/root/.local/share/virtualenvs/ds-CSRLTXzN/lib/python3.7/site-packages/pandas/core/indexing.py:966: SettingWithCopyWarning: \n",
      "A value is trying to be set on a copy of a slice from a DataFrame.\n",
      "Try using .loc[row_indexer,col_indexer] = value instead\n",
      "\n",
      "See the caveats in the documentation: https://pandas.pydata.org/pandas-docs/stable/user_guide/indexing.html#returning-a-view-versus-a-copy\n",
      "  self.obj[item] = s\n"
     ]
    },
    {
     "name": "stdout",
     "output_type": "stream",
     "text": [
      "    Training with minibacth  0\n",
      "\t+ [iteration 0001] Loss: 0.0035, Best loss: 0.0035\n",
      "\t+ [iteration 0076] Loss: 0.0017, Best loss: 0.0017\n",
      "    -> Early stop at epoch 76\n",
      "----Running time:  0.9831063747406006\n",
      "+ Prepare model Bayesian_LogisticRegression with label eventdeath\n",
      "    Training with minibacth  0\n",
      "\t+ [iteration 0001] Loss: 0.0011, Best loss: 0.0011\n",
      "\t+ [iteration 0051] Loss: 0.0014, Best loss: 0.0011\n",
      "    -> Early stop at epoch 51\n",
      "----Running time:  0.09786629676818848\n"
     ]
    },
    {
     "name": "stderr",
     "output_type": "stream",
     "text": [
      "/root/.local/share/virtualenvs/ds-CSRLTXzN/lib/python3.7/site-packages/pandas/core/indexing.py:966: SettingWithCopyWarning: \n",
      "A value is trying to be set on a copy of a slice from a DataFrame.\n",
      "Try using .loc[row_indexer,col_indexer] = value instead\n",
      "\n",
      "See the caveats in the documentation: https://pandas.pydata.org/pandas-docs/stable/user_guide/indexing.html#returning-a-view-versus-a-copy\n",
      "  self.obj[item] = s\n",
      "\u001b[32m[I 2021-04-28 04:58:12,440]\u001b[0m Trial 21 finished with value: -0.4827586206896552 and parameters: {'binarize.method': 'threshold', 'threshold.method': 'iso', 'pca.outputdim': 100, 'scoring.impact': True, 'scoring.scale': False, 'scoring.log': True, 'LogisticRegression.learning_rate': 0.006, 'Bayesian_LogisticRegression.learning_rate': 0.01}. Best is trial 5 with value: -0.5384615384615384.\u001b[0m\n"
     ]
    },
    {
     "name": "stdout",
     "output_type": "stream",
     "text": [
      "0.4827586206896552\n",
      "Prepare contextual data\n",
      "Prepare data for models\n",
      "Train ensemble Ensemble\n",
      "+ Prepare model LogisticRegression with label eventdeath\n"
     ]
    },
    {
     "name": "stderr",
     "output_type": "stream",
     "text": [
      "/root/.local/share/virtualenvs/ds-CSRLTXzN/lib/python3.7/site-packages/pandas/core/indexing.py:966: SettingWithCopyWarning: \n",
      "A value is trying to be set on a copy of a slice from a DataFrame.\n",
      "Try using .loc[row_indexer,col_indexer] = value instead\n",
      "\n",
      "See the caveats in the documentation: https://pandas.pydata.org/pandas-docs/stable/user_guide/indexing.html#returning-a-view-versus-a-copy\n",
      "  self.obj[item] = s\n",
      "/root/.local/share/virtualenvs/ds-CSRLTXzN/lib/python3.7/site-packages/pandas/core/indexing.py:845: SettingWithCopyWarning: \n",
      "A value is trying to be set on a copy of a slice from a DataFrame.\n",
      "Try using .loc[row_indexer,col_indexer] = value instead\n",
      "\n",
      "See the caveats in the documentation: https://pandas.pydata.org/pandas-docs/stable/user_guide/indexing.html#returning-a-view-versus-a-copy\n",
      "  self.obj[key] = _infer_fill_value(value)\n",
      "/root/.local/share/virtualenvs/ds-CSRLTXzN/lib/python3.7/site-packages/pandas/core/indexing.py:966: SettingWithCopyWarning: \n",
      "A value is trying to be set on a copy of a slice from a DataFrame.\n",
      "Try using .loc[row_indexer,col_indexer] = value instead\n",
      "\n",
      "See the caveats in the documentation: https://pandas.pydata.org/pandas-docs/stable/user_guide/indexing.html#returning-a-view-versus-a-copy\n",
      "  self.obj[item] = s\n"
     ]
    },
    {
     "name": "stdout",
     "output_type": "stream",
     "text": [
      "    Training with minibacth  0\n",
      "\t+ [iteration 0001] Loss: 0.0032, Best loss: 0.0032\n",
      "\t+ [iteration 0071] Loss: 0.0017, Best loss: 0.0017\n",
      "    -> Early stop at epoch 71\n",
      "----Running time:  0.9691364765167236\n",
      "+ Prepare model Bayesian_LogisticRegression with label eventdeath\n",
      "    Training with minibacth  0\n",
      "\t+ [iteration 0001] Loss: 0.0012, Best loss: 0.0012\n",
      "\t+ [iteration 0051] Loss: 0.0014, Best loss: 0.0012\n",
      "    -> Early stop at epoch 51\n",
      "----Running time:  0.08030319213867188\n"
     ]
    },
    {
     "name": "stderr",
     "output_type": "stream",
     "text": [
      "/root/.local/share/virtualenvs/ds-CSRLTXzN/lib/python3.7/site-packages/pandas/core/indexing.py:966: SettingWithCopyWarning: \n",
      "A value is trying to be set on a copy of a slice from a DataFrame.\n",
      "Try using .loc[row_indexer,col_indexer] = value instead\n",
      "\n",
      "See the caveats in the documentation: https://pandas.pydata.org/pandas-docs/stable/user_guide/indexing.html#returning-a-view-versus-a-copy\n",
      "  self.obj[item] = s\n",
      "\u001b[32m[I 2021-04-28 04:58:23,127]\u001b[0m Trial 22 finished with value: -0.4827586206896552 and parameters: {'binarize.method': 'threshold', 'threshold.method': 'iso', 'pca.outputdim': 100, 'scoring.impact': True, 'scoring.scale': False, 'scoring.log': True, 'LogisticRegression.learning_rate': 0.0055, 'Bayesian_LogisticRegression.learning_rate': 0.009500000000000001}. Best is trial 5 with value: -0.5384615384615384.\u001b[0m\n"
     ]
    },
    {
     "name": "stdout",
     "output_type": "stream",
     "text": [
      "0.4827586206896552\n",
      "Prepare contextual data\n",
      "Prepare data for models\n",
      "Train ensemble Ensemble\n",
      "+ Prepare model LogisticRegression with label eventdeath\n"
     ]
    },
    {
     "name": "stderr",
     "output_type": "stream",
     "text": [
      "/root/.local/share/virtualenvs/ds-CSRLTXzN/lib/python3.7/site-packages/pandas/core/indexing.py:966: SettingWithCopyWarning: \n",
      "A value is trying to be set on a copy of a slice from a DataFrame.\n",
      "Try using .loc[row_indexer,col_indexer] = value instead\n",
      "\n",
      "See the caveats in the documentation: https://pandas.pydata.org/pandas-docs/stable/user_guide/indexing.html#returning-a-view-versus-a-copy\n",
      "  self.obj[item] = s\n",
      "/root/.local/share/virtualenvs/ds-CSRLTXzN/lib/python3.7/site-packages/pandas/core/indexing.py:845: SettingWithCopyWarning: \n",
      "A value is trying to be set on a copy of a slice from a DataFrame.\n",
      "Try using .loc[row_indexer,col_indexer] = value instead\n",
      "\n",
      "See the caveats in the documentation: https://pandas.pydata.org/pandas-docs/stable/user_guide/indexing.html#returning-a-view-versus-a-copy\n",
      "  self.obj[key] = _infer_fill_value(value)\n",
      "/root/.local/share/virtualenvs/ds-CSRLTXzN/lib/python3.7/site-packages/pandas/core/indexing.py:966: SettingWithCopyWarning: \n",
      "A value is trying to be set on a copy of a slice from a DataFrame.\n",
      "Try using .loc[row_indexer,col_indexer] = value instead\n",
      "\n",
      "See the caveats in the documentation: https://pandas.pydata.org/pandas-docs/stable/user_guide/indexing.html#returning-a-view-versus-a-copy\n",
      "  self.obj[item] = s\n"
     ]
    },
    {
     "name": "stdout",
     "output_type": "stream",
     "text": [
      "    Training with minibacth  0\n",
      "\t+ [iteration 0001] Loss: 0.0031, Best loss: 0.0031\n",
      "\t+ [iteration 0083] Loss: 0.0016, Best loss: 0.0016\n",
      "    -> Early stop at epoch 83\n",
      "----Running time:  1.0926973819732666\n",
      "+ Prepare model Bayesian_LogisticRegression with label eventdeath\n",
      "    Training with minibacth  0\n",
      "\t+ [iteration 0001] Loss: 0.0011, Best loss: 0.0011\n",
      "\t+ [iteration 0051] Loss: 0.0014, Best loss: 0.0011\n",
      "    -> Early stop at epoch 51\n",
      "----Running time:  0.07202839851379395\n"
     ]
    },
    {
     "name": "stderr",
     "output_type": "stream",
     "text": [
      "/root/.local/share/virtualenvs/ds-CSRLTXzN/lib/python3.7/site-packages/pandas/core/indexing.py:966: SettingWithCopyWarning: \n",
      "A value is trying to be set on a copy of a slice from a DataFrame.\n",
      "Try using .loc[row_indexer,col_indexer] = value instead\n",
      "\n",
      "See the caveats in the documentation: https://pandas.pydata.org/pandas-docs/stable/user_guide/indexing.html#returning-a-view-versus-a-copy\n",
      "  self.obj[item] = s\n",
      "\u001b[32m[I 2021-04-28 04:58:34,065]\u001b[0m Trial 23 finished with value: -0.4827586206896552 and parameters: {'binarize.method': 'threshold', 'threshold.method': 'iso', 'pca.outputdim': 100, 'scoring.impact': True, 'scoring.scale': False, 'scoring.log': True, 'LogisticRegression.learning_rate': 0.007000000000000001, 'Bayesian_LogisticRegression.learning_rate': 0.009000000000000001}. Best is trial 5 with value: -0.5384615384615384.\u001b[0m\n"
     ]
    },
    {
     "name": "stdout",
     "output_type": "stream",
     "text": [
      "0.4827586206896552\n",
      "Prepare contextual data\n",
      "Prepare data for models\n",
      "Train ensemble Ensemble\n",
      "+ Prepare model LogisticRegression with label eventdeath\n"
     ]
    },
    {
     "name": "stderr",
     "output_type": "stream",
     "text": [
      "/root/.local/share/virtualenvs/ds-CSRLTXzN/lib/python3.7/site-packages/pandas/core/indexing.py:966: SettingWithCopyWarning: \n",
      "A value is trying to be set on a copy of a slice from a DataFrame.\n",
      "Try using .loc[row_indexer,col_indexer] = value instead\n",
      "\n",
      "See the caveats in the documentation: https://pandas.pydata.org/pandas-docs/stable/user_guide/indexing.html#returning-a-view-versus-a-copy\n",
      "  self.obj[item] = s\n",
      "/root/.local/share/virtualenvs/ds-CSRLTXzN/lib/python3.7/site-packages/pandas/core/indexing.py:845: SettingWithCopyWarning: \n",
      "A value is trying to be set on a copy of a slice from a DataFrame.\n",
      "Try using .loc[row_indexer,col_indexer] = value instead\n",
      "\n",
      "See the caveats in the documentation: https://pandas.pydata.org/pandas-docs/stable/user_guide/indexing.html#returning-a-view-versus-a-copy\n",
      "  self.obj[key] = _infer_fill_value(value)\n",
      "/root/.local/share/virtualenvs/ds-CSRLTXzN/lib/python3.7/site-packages/pandas/core/indexing.py:966: SettingWithCopyWarning: \n",
      "A value is trying to be set on a copy of a slice from a DataFrame.\n",
      "Try using .loc[row_indexer,col_indexer] = value instead\n",
      "\n",
      "See the caveats in the documentation: https://pandas.pydata.org/pandas-docs/stable/user_guide/indexing.html#returning-a-view-versus-a-copy\n",
      "  self.obj[item] = s\n"
     ]
    },
    {
     "name": "stdout",
     "output_type": "stream",
     "text": [
      "    Training with minibacth  0\n",
      "\t+ [iteration 0001] Loss: 0.0029, Best loss: 0.0029\n",
      "\t+ [iteration 0078] Loss: 0.0016, Best loss: 0.0016\n",
      "    -> Early stop at epoch 78\n",
      "----Running time:  1.00406813621521\n",
      "+ Prepare model Bayesian_LogisticRegression with label eventdeath\n",
      "    Training with minibacth  0\n",
      "\t+ [iteration 0001] Loss: 0.0012, Best loss: 0.0012\n",
      "\t+ [iteration 0051] Loss: 0.0014, Best loss: 0.0012\n",
      "    -> Early stop at epoch 51\n",
      "----Running time:  0.07134461402893066\n"
     ]
    },
    {
     "name": "stderr",
     "output_type": "stream",
     "text": [
      "/root/.local/share/virtualenvs/ds-CSRLTXzN/lib/python3.7/site-packages/pandas/core/indexing.py:966: SettingWithCopyWarning: \n",
      "A value is trying to be set on a copy of a slice from a DataFrame.\n",
      "Try using .loc[row_indexer,col_indexer] = value instead\n",
      "\n",
      "See the caveats in the documentation: https://pandas.pydata.org/pandas-docs/stable/user_guide/indexing.html#returning-a-view-versus-a-copy\n",
      "  self.obj[item] = s\n",
      "\u001b[32m[I 2021-04-28 04:58:44,666]\u001b[0m Trial 24 finished with value: inf and parameters: {'binarize.method': 'threshold', 'threshold.method': 'baseline', 'pca.outputdim': 100, 'scoring.impact': True, 'scoring.scale': False, 'scoring.log': True, 'LogisticRegression.learning_rate': 0.006500000000000001, 'Bayesian_LogisticRegression.learning_rate': 0.008}. Best is trial 5 with value: -0.5384615384615384.\u001b[0m\n"
     ]
    },
    {
     "name": "stdout",
     "output_type": "stream",
     "text": [
      "Prepare contextual data\n",
      "Prepare data for models\n",
      "Train ensemble Ensemble\n",
      "+ Prepare model LogisticRegression with label eventdeath\n"
     ]
    },
    {
     "name": "stderr",
     "output_type": "stream",
     "text": [
      "/root/.local/share/virtualenvs/ds-CSRLTXzN/lib/python3.7/site-packages/pandas/core/indexing.py:966: SettingWithCopyWarning: \n",
      "A value is trying to be set on a copy of a slice from a DataFrame.\n",
      "Try using .loc[row_indexer,col_indexer] = value instead\n",
      "\n",
      "See the caveats in the documentation: https://pandas.pydata.org/pandas-docs/stable/user_guide/indexing.html#returning-a-view-versus-a-copy\n",
      "  self.obj[item] = s\n",
      "/root/.local/share/virtualenvs/ds-CSRLTXzN/lib/python3.7/site-packages/pandas/core/indexing.py:845: SettingWithCopyWarning: \n",
      "A value is trying to be set on a copy of a slice from a DataFrame.\n",
      "Try using .loc[row_indexer,col_indexer] = value instead\n",
      "\n",
      "See the caveats in the documentation: https://pandas.pydata.org/pandas-docs/stable/user_guide/indexing.html#returning-a-view-versus-a-copy\n",
      "  self.obj[key] = _infer_fill_value(value)\n",
      "/root/.local/share/virtualenvs/ds-CSRLTXzN/lib/python3.7/site-packages/pandas/core/indexing.py:966: SettingWithCopyWarning: \n",
      "A value is trying to be set on a copy of a slice from a DataFrame.\n",
      "Try using .loc[row_indexer,col_indexer] = value instead\n",
      "\n",
      "See the caveats in the documentation: https://pandas.pydata.org/pandas-docs/stable/user_guide/indexing.html#returning-a-view-versus-a-copy\n",
      "  self.obj[item] = s\n"
     ]
    },
    {
     "name": "stdout",
     "output_type": "stream",
     "text": [
      "    Training with minibacth  0\n",
      "\t+ [iteration 0001] Loss: 0.0033, Best loss: 0.0033\n",
      "\t+ [iteration 0084] Loss: 0.0015, Best loss: 0.0015\n",
      "    -> Early stop at epoch 84\n",
      "----Running time:  0.99717116355896\n",
      "+ Prepare model Bayesian_LogisticRegression with label eventdeath\n",
      "    Training with minibacth  0\n",
      "\t+ [iteration 0001] Loss: 0.0012, Best loss: 0.0012\n",
      "\t+ [iteration 0051] Loss: 0.0014, Best loss: 0.0012\n",
      "    -> Early stop at epoch 51\n",
      "----Running time:  0.07235527038574219\n"
     ]
    },
    {
     "name": "stderr",
     "output_type": "stream",
     "text": [
      "/root/.local/share/virtualenvs/ds-CSRLTXzN/lib/python3.7/site-packages/pandas/core/indexing.py:966: SettingWithCopyWarning: \n",
      "A value is trying to be set on a copy of a slice from a DataFrame.\n",
      "Try using .loc[row_indexer,col_indexer] = value instead\n",
      "\n",
      "See the caveats in the documentation: https://pandas.pydata.org/pandas-docs/stable/user_guide/indexing.html#returning-a-view-versus-a-copy\n",
      "  self.obj[item] = s\n",
      "\u001b[32m[I 2021-04-28 04:58:55,302]\u001b[0m Trial 25 finished with value: -0.46153846153846156 and parameters: {'binarize.method': 'threshold', 'threshold.method': 'yen', 'pca.outputdim': None, 'scoring.impact': True, 'scoring.scale': False, 'scoring.log': True, 'LogisticRegression.learning_rate': 0.009000000000000001, 'Bayesian_LogisticRegression.learning_rate': 0.0045000000000000005}. Best is trial 5 with value: -0.5384615384615384.\u001b[0m\n"
     ]
    },
    {
     "name": "stdout",
     "output_type": "stream",
     "text": [
      "0.46153846153846156\n",
      "Prepare contextual data\n",
      "Prepare data for models\n",
      "Train ensemble Ensemble\n",
      "+ Prepare model LogisticRegression with label eventdeath\n"
     ]
    },
    {
     "name": "stderr",
     "output_type": "stream",
     "text": [
      "/root/.local/share/virtualenvs/ds-CSRLTXzN/lib/python3.7/site-packages/pandas/core/indexing.py:966: SettingWithCopyWarning: \n",
      "A value is trying to be set on a copy of a slice from a DataFrame.\n",
      "Try using .loc[row_indexer,col_indexer] = value instead\n",
      "\n",
      "See the caveats in the documentation: https://pandas.pydata.org/pandas-docs/stable/user_guide/indexing.html#returning-a-view-versus-a-copy\n",
      "  self.obj[item] = s\n",
      "/root/.local/share/virtualenvs/ds-CSRLTXzN/lib/python3.7/site-packages/pandas/core/indexing.py:845: SettingWithCopyWarning: \n",
      "A value is trying to be set on a copy of a slice from a DataFrame.\n",
      "Try using .loc[row_indexer,col_indexer] = value instead\n",
      "\n",
      "See the caveats in the documentation: https://pandas.pydata.org/pandas-docs/stable/user_guide/indexing.html#returning-a-view-versus-a-copy\n",
      "  self.obj[key] = _infer_fill_value(value)\n",
      "/root/.local/share/virtualenvs/ds-CSRLTXzN/lib/python3.7/site-packages/pandas/core/indexing.py:966: SettingWithCopyWarning: \n",
      "A value is trying to be set on a copy of a slice from a DataFrame.\n",
      "Try using .loc[row_indexer,col_indexer] = value instead\n",
      "\n",
      "See the caveats in the documentation: https://pandas.pydata.org/pandas-docs/stable/user_guide/indexing.html#returning-a-view-versus-a-copy\n",
      "  self.obj[item] = s\n"
     ]
    },
    {
     "name": "stdout",
     "output_type": "stream",
     "text": [
      "    Training with minibacth  0\n",
      "\t+ [iteration 0001] Loss: 0.0034, Best loss: 0.0034\n",
      "\t+ [iteration 0083] Loss: 0.0015, Best loss: 0.0015\n",
      "    -> Early stop at epoch 83\n",
      "----Running time:  1.4260644912719727\n",
      "+ Prepare model Bayesian_LogisticRegression with label eventdeath\n",
      "    Training with minibacth  0\n",
      "\t+ [iteration 0001] Loss: 0.0011, Best loss: 0.0011\n",
      "\t+ [iteration 0051] Loss: 0.0014, Best loss: 0.0011\n",
      "    -> Early stop at epoch 51\n",
      "----Running time:  0.09386420249938965\n"
     ]
    },
    {
     "name": "stderr",
     "output_type": "stream",
     "text": [
      "/root/.local/share/virtualenvs/ds-CSRLTXzN/lib/python3.7/site-packages/pandas/core/indexing.py:966: SettingWithCopyWarning: \n",
      "A value is trying to be set on a copy of a slice from a DataFrame.\n",
      "Try using .loc[row_indexer,col_indexer] = value instead\n",
      "\n",
      "See the caveats in the documentation: https://pandas.pydata.org/pandas-docs/stable/user_guide/indexing.html#returning-a-view-versus-a-copy\n",
      "  self.obj[item] = s\n",
      "\u001b[32m[I 2021-04-28 04:59:06,539]\u001b[0m Trial 26 finished with value: -0.34782608695652173 and parameters: {'binarize.method': 'threshold', 'threshold.method': 'otsu', 'pca.outputdim': 100, 'scoring.impact': True, 'scoring.scale': True, 'scoring.log': True, 'LogisticRegression.learning_rate': 0.008, 'Bayesian_LogisticRegression.learning_rate': 0.0075}. Best is trial 5 with value: -0.5384615384615384.\u001b[0m\n"
     ]
    },
    {
     "name": "stdout",
     "output_type": "stream",
     "text": [
      "0.34782608695652173\n",
      "Prepare contextual data\n",
      "Prepare data for models\n",
      "Train ensemble Ensemble\n",
      "+ Prepare model LogisticRegression with label eventdeath\n"
     ]
    },
    {
     "name": "stderr",
     "output_type": "stream",
     "text": [
      "/root/.local/share/virtualenvs/ds-CSRLTXzN/lib/python3.7/site-packages/pandas/core/indexing.py:966: SettingWithCopyWarning: \n",
      "A value is trying to be set on a copy of a slice from a DataFrame.\n",
      "Try using .loc[row_indexer,col_indexer] = value instead\n",
      "\n",
      "See the caveats in the documentation: https://pandas.pydata.org/pandas-docs/stable/user_guide/indexing.html#returning-a-view-versus-a-copy\n",
      "  self.obj[item] = s\n",
      "/root/.local/share/virtualenvs/ds-CSRLTXzN/lib/python3.7/site-packages/pandas/core/indexing.py:845: SettingWithCopyWarning: \n",
      "A value is trying to be set on a copy of a slice from a DataFrame.\n",
      "Try using .loc[row_indexer,col_indexer] = value instead\n",
      "\n",
      "See the caveats in the documentation: https://pandas.pydata.org/pandas-docs/stable/user_guide/indexing.html#returning-a-view-versus-a-copy\n",
      "  self.obj[key] = _infer_fill_value(value)\n",
      "/root/.local/share/virtualenvs/ds-CSRLTXzN/lib/python3.7/site-packages/pandas/core/indexing.py:966: SettingWithCopyWarning: \n",
      "A value is trying to be set on a copy of a slice from a DataFrame.\n",
      "Try using .loc[row_indexer,col_indexer] = value instead\n",
      "\n",
      "See the caveats in the documentation: https://pandas.pydata.org/pandas-docs/stable/user_guide/indexing.html#returning-a-view-versus-a-copy\n",
      "  self.obj[item] = s\n"
     ]
    },
    {
     "name": "stdout",
     "output_type": "stream",
     "text": [
      "    Training with minibacth  0\n",
      "\t+ [iteration 0001] Loss: 0.0032, Best loss: 0.0032\n",
      "\t+ [iteration 0067] Loss: 0.0018, Best loss: 0.0018\n",
      "    -> Early stop at epoch 67\n",
      "----Running time:  0.5650651454925537\n",
      "+ Prepare model Bayesian_LogisticRegression with label eventdeath\n",
      "    Training with minibacth  0\n",
      "\t+ [iteration 0001] Loss: 0.0012, Best loss: 0.0012\n",
      "\t+ [iteration 0051] Loss: 0.0014, Best loss: 0.0012\n",
      "    -> Early stop at epoch 51\n",
      "----Running time:  0.09070801734924316\n"
     ]
    },
    {
     "name": "stderr",
     "output_type": "stream",
     "text": [
      "/root/.local/share/virtualenvs/ds-CSRLTXzN/lib/python3.7/site-packages/pandas/core/indexing.py:966: SettingWithCopyWarning: \n",
      "A value is trying to be set on a copy of a slice from a DataFrame.\n",
      "Try using .loc[row_indexer,col_indexer] = value instead\n",
      "\n",
      "See the caveats in the documentation: https://pandas.pydata.org/pandas-docs/stable/user_guide/indexing.html#returning-a-view-versus-a-copy\n",
      "  self.obj[item] = s\n",
      "\u001b[32m[I 2021-04-28 04:59:16,764]\u001b[0m Trial 27 finished with value: -0.42857142857142855 and parameters: {'binarize.method': 'threshold', 'threshold.method': 'iso', 'pca.outputdim': 100, 'scoring.impact': True, 'scoring.scale': False, 'scoring.log': False, 'LogisticRegression.learning_rate': 0.0035, 'Bayesian_LogisticRegression.learning_rate': 0.01}. Best is trial 5 with value: -0.5384615384615384.\u001b[0m\n"
     ]
    },
    {
     "name": "stdout",
     "output_type": "stream",
     "text": [
      "0.42857142857142855\n",
      "Prepare contextual data\n",
      "Prepare data for models\n",
      "Train ensemble Ensemble\n",
      "+ Prepare model LogisticRegression with label eventdeath\n"
     ]
    },
    {
     "name": "stderr",
     "output_type": "stream",
     "text": [
      "/root/.local/share/virtualenvs/ds-CSRLTXzN/lib/python3.7/site-packages/pandas/core/indexing.py:966: SettingWithCopyWarning: \n",
      "A value is trying to be set on a copy of a slice from a DataFrame.\n",
      "Try using .loc[row_indexer,col_indexer] = value instead\n",
      "\n",
      "See the caveats in the documentation: https://pandas.pydata.org/pandas-docs/stable/user_guide/indexing.html#returning-a-view-versus-a-copy\n",
      "  self.obj[item] = s\n",
      "/root/.local/share/virtualenvs/ds-CSRLTXzN/lib/python3.7/site-packages/pandas/core/indexing.py:845: SettingWithCopyWarning: \n",
      "A value is trying to be set on a copy of a slice from a DataFrame.\n",
      "Try using .loc[row_indexer,col_indexer] = value instead\n",
      "\n",
      "See the caveats in the documentation: https://pandas.pydata.org/pandas-docs/stable/user_guide/indexing.html#returning-a-view-versus-a-copy\n",
      "  self.obj[key] = _infer_fill_value(value)\n",
      "/root/.local/share/virtualenvs/ds-CSRLTXzN/lib/python3.7/site-packages/pandas/core/indexing.py:966: SettingWithCopyWarning: \n",
      "A value is trying to be set on a copy of a slice from a DataFrame.\n",
      "Try using .loc[row_indexer,col_indexer] = value instead\n",
      "\n",
      "See the caveats in the documentation: https://pandas.pydata.org/pandas-docs/stable/user_guide/indexing.html#returning-a-view-versus-a-copy\n",
      "  self.obj[item] = s\n"
     ]
    },
    {
     "name": "stdout",
     "output_type": "stream",
     "text": [
      "    Training with minibacth  0\n",
      "\t+ [iteration 0001] Loss: 0.0038, Best loss: 0.0038\n",
      "\t+ [iteration 0063] Loss: 0.0018, Best loss: 0.0018\n",
      "    -> Early stop at epoch 63\n",
      "----Running time:  1.0268495082855225\n",
      "+ Prepare model Bayesian_LogisticRegression with label eventdeath\n",
      "    Training with minibacth  0\n",
      "\t+ [iteration 0001] Loss: 0.0011, Best loss: 0.0011\n",
      "\t+ [iteration 0052] Loss: 0.0008, Best loss: 0.0008\n",
      "    -> Early stop at epoch 52\n",
      "----Running time:  0.07754659652709961\n"
     ]
    },
    {
     "name": "stderr",
     "output_type": "stream",
     "text": [
      "/root/.local/share/virtualenvs/ds-CSRLTXzN/lib/python3.7/site-packages/pandas/core/indexing.py:966: SettingWithCopyWarning: \n",
      "A value is trying to be set on a copy of a slice from a DataFrame.\n",
      "Try using .loc[row_indexer,col_indexer] = value instead\n",
      "\n",
      "See the caveats in the documentation: https://pandas.pydata.org/pandas-docs/stable/user_guide/indexing.html#returning-a-view-versus-a-copy\n",
      "  self.obj[item] = s\n",
      "\u001b[32m[I 2021-04-28 04:59:27,608]\u001b[0m Trial 28 finished with value: -0.41666666666666663 and parameters: {'binarize.method': 'threshold', 'threshold.method': 'iso', 'pca.outputdim': 20, 'scoring.impact': True, 'scoring.scale': False, 'scoring.log': True, 'LogisticRegression.learning_rate': 0.0055, 'Bayesian_LogisticRegression.learning_rate': 0.0005}. Best is trial 5 with value: -0.5384615384615384.\u001b[0m\n"
     ]
    },
    {
     "name": "stdout",
     "output_type": "stream",
     "text": [
      "0.41666666666666663\n",
      "Prepare contextual data\n",
      "Prepare data for models\n",
      "Train ensemble Ensemble\n",
      "+ Prepare model LogisticRegression with label eventdeath\n"
     ]
    },
    {
     "name": "stderr",
     "output_type": "stream",
     "text": [
      "/root/.local/share/virtualenvs/ds-CSRLTXzN/lib/python3.7/site-packages/pandas/core/indexing.py:966: SettingWithCopyWarning: \n",
      "A value is trying to be set on a copy of a slice from a DataFrame.\n",
      "Try using .loc[row_indexer,col_indexer] = value instead\n",
      "\n",
      "See the caveats in the documentation: https://pandas.pydata.org/pandas-docs/stable/user_guide/indexing.html#returning-a-view-versus-a-copy\n",
      "  self.obj[item] = s\n",
      "/root/.local/share/virtualenvs/ds-CSRLTXzN/lib/python3.7/site-packages/pandas/core/indexing.py:845: SettingWithCopyWarning: \n",
      "A value is trying to be set on a copy of a slice from a DataFrame.\n",
      "Try using .loc[row_indexer,col_indexer] = value instead\n",
      "\n",
      "See the caveats in the documentation: https://pandas.pydata.org/pandas-docs/stable/user_guide/indexing.html#returning-a-view-versus-a-copy\n",
      "  self.obj[key] = _infer_fill_value(value)\n",
      "/root/.local/share/virtualenvs/ds-CSRLTXzN/lib/python3.7/site-packages/pandas/core/indexing.py:966: SettingWithCopyWarning: \n",
      "A value is trying to be set on a copy of a slice from a DataFrame.\n",
      "Try using .loc[row_indexer,col_indexer] = value instead\n",
      "\n",
      "See the caveats in the documentation: https://pandas.pydata.org/pandas-docs/stable/user_guide/indexing.html#returning-a-view-versus-a-copy\n",
      "  self.obj[item] = s\n"
     ]
    },
    {
     "name": "stdout",
     "output_type": "stream",
     "text": [
      "    Training with minibacth  0\n",
      "\t+ [iteration 0001] Loss: 0.0036, Best loss: 0.0036\n",
      "\t+ [iteration 0063] Loss: 0.0019, Best loss: 0.0019\n",
      "    -> Early stop at epoch 63\n",
      "----Running time:  0.4499061107635498\n",
      "+ Prepare model Bayesian_LogisticRegression with label eventdeath\n",
      "    Training with minibacth  0\n",
      "\t+ [iteration 0001] Loss: 0.0010, Best loss: 0.0010\n",
      "\t+ [iteration 0077] Loss: 0.0005, Best loss: 0.0005\n",
      "    -> Early stop at epoch 77\n",
      "----Running time:  0.08791303634643555\n"
     ]
    },
    {
     "name": "stderr",
     "output_type": "stream",
     "text": [
      "\u001b[32m[I 2021-04-28 04:59:37,700]\u001b[0m Trial 29 finished with value: -0.46153846153846156 and parameters: {'binarize.method': 'gettop', 'pca.outputdim': 100, 'scoring.impact': False, 'scoring.scale': False, 'scoring.log': True, 'LogisticRegression.learning_rate': 0.0045000000000000005, 'Bayesian_LogisticRegression.learning_rate': 0.0035}. Best is trial 5 with value: -0.5384615384615384.\u001b[0m\n"
     ]
    },
    {
     "name": "stdout",
     "output_type": "stream",
     "text": [
      "0.46153846153846156\n",
      "Prepare contextual data\n",
      "Prepare data for models\n",
      "Train ensemble Ensemble\n",
      "+ Prepare model LogisticRegression with label eventdeath\n"
     ]
    },
    {
     "name": "stderr",
     "output_type": "stream",
     "text": [
      "/root/.local/share/virtualenvs/ds-CSRLTXzN/lib/python3.7/site-packages/pandas/core/indexing.py:845: SettingWithCopyWarning: \n",
      "A value is trying to be set on a copy of a slice from a DataFrame.\n",
      "Try using .loc[row_indexer,col_indexer] = value instead\n",
      "\n",
      "See the caveats in the documentation: https://pandas.pydata.org/pandas-docs/stable/user_guide/indexing.html#returning-a-view-versus-a-copy\n",
      "  self.obj[key] = _infer_fill_value(value)\n",
      "/root/.local/share/virtualenvs/ds-CSRLTXzN/lib/python3.7/site-packages/pandas/core/indexing.py:966: SettingWithCopyWarning: \n",
      "A value is trying to be set on a copy of a slice from a DataFrame.\n",
      "Try using .loc[row_indexer,col_indexer] = value instead\n",
      "\n",
      "See the caveats in the documentation: https://pandas.pydata.org/pandas-docs/stable/user_guide/indexing.html#returning-a-view-versus-a-copy\n",
      "  self.obj[item] = s\n"
     ]
    },
    {
     "name": "stdout",
     "output_type": "stream",
     "text": [
      "    Training with minibacth  0\n",
      "\t+ [iteration 0001] Loss: 0.0032, Best loss: 0.0032\n",
      "\t+ [iteration 0089] Loss: 0.0013, Best loss: 0.0013\n",
      "    -> Early stop at epoch 89\n",
      "----Running time:  1.4169483184814453\n",
      "+ Prepare model Bayesian_LogisticRegression with label eventdeath\n",
      "    Training with minibacth  0\n",
      "\t+ [iteration 0001] Loss: 0.0011, Best loss: 0.0011\n",
      "\t+ [iteration 0051] Loss: 0.0014, Best loss: 0.0011\n",
      "    -> Early stop at epoch 51\n",
      "----Running time:  0.09029483795166016\n"
     ]
    },
    {
     "name": "stderr",
     "output_type": "stream",
     "text": [
      "\u001b[32m[I 2021-04-28 04:59:48,836]\u001b[0m Trial 30 finished with value: -0.3076923076923077 and parameters: {'binarize.method': 'gettop', 'pca.outputdim': 100, 'scoring.impact': True, 'scoring.scale': True, 'scoring.log': True, 'LogisticRegression.learning_rate': 0.009500000000000001, 'Bayesian_LogisticRegression.learning_rate': 0.006500000000000001}. Best is trial 5 with value: -0.5384615384615384.\u001b[0m\n"
     ]
    },
    {
     "name": "stdout",
     "output_type": "stream",
     "text": [
      "0.3076923076923077\n",
      "Prepare contextual data\n",
      "Prepare data for models\n",
      "Train ensemble Ensemble\n",
      "+ Prepare model LogisticRegression with label eventdeath\n"
     ]
    },
    {
     "name": "stderr",
     "output_type": "stream",
     "text": [
      "/root/.local/share/virtualenvs/ds-CSRLTXzN/lib/python3.7/site-packages/pandas/core/indexing.py:845: SettingWithCopyWarning: \n",
      "A value is trying to be set on a copy of a slice from a DataFrame.\n",
      "Try using .loc[row_indexer,col_indexer] = value instead\n",
      "\n",
      "See the caveats in the documentation: https://pandas.pydata.org/pandas-docs/stable/user_guide/indexing.html#returning-a-view-versus-a-copy\n",
      "  self.obj[key] = _infer_fill_value(value)\n",
      "/root/.local/share/virtualenvs/ds-CSRLTXzN/lib/python3.7/site-packages/pandas/core/indexing.py:966: SettingWithCopyWarning: \n",
      "A value is trying to be set on a copy of a slice from a DataFrame.\n",
      "Try using .loc[row_indexer,col_indexer] = value instead\n",
      "\n",
      "See the caveats in the documentation: https://pandas.pydata.org/pandas-docs/stable/user_guide/indexing.html#returning-a-view-versus-a-copy\n",
      "  self.obj[item] = s\n"
     ]
    },
    {
     "name": "stdout",
     "output_type": "stream",
     "text": [
      "    Training with minibacth  0\n",
      "\t+ [iteration 0001] Loss: 0.0030, Best loss: 0.0030\n",
      "\t+ [iteration 0083] Loss: 0.0016, Best loss: 0.0016\n",
      "    -> Early stop at epoch 83\n",
      "----Running time:  0.9926900863647461\n",
      "+ Prepare model Bayesian_LogisticRegression with label eventdeath\n",
      "    Training with minibacth  0\n",
      "\t+ [iteration 0001] Loss: 0.0010, Best loss: 0.0010\n",
      "\t+ [iteration 0051] Loss: 0.0014, Best loss: 0.0010\n",
      "    -> Early stop at epoch 51\n",
      "----Running time:  0.07202410697937012\n"
     ]
    },
    {
     "name": "stderr",
     "output_type": "stream",
     "text": [
      "/root/.local/share/virtualenvs/ds-CSRLTXzN/lib/python3.7/site-packages/pandas/core/indexing.py:966: SettingWithCopyWarning: \n",
      "A value is trying to be set on a copy of a slice from a DataFrame.\n",
      "Try using .loc[row_indexer,col_indexer] = value instead\n",
      "\n",
      "See the caveats in the documentation: https://pandas.pydata.org/pandas-docs/stable/user_guide/indexing.html#returning-a-view-versus-a-copy\n",
      "  self.obj[item] = s\n",
      "\u001b[32m[I 2021-04-28 04:59:59,520]\u001b[0m Trial 31 finished with value: -0.4827586206896552 and parameters: {'binarize.method': 'threshold', 'threshold.method': 'iso', 'pca.outputdim': 100, 'scoring.impact': True, 'scoring.scale': False, 'scoring.log': True, 'LogisticRegression.learning_rate': 0.007000000000000001, 'Bayesian_LogisticRegression.learning_rate': 0.009000000000000001}. Best is trial 5 with value: -0.5384615384615384.\u001b[0m\n"
     ]
    },
    {
     "name": "stdout",
     "output_type": "stream",
     "text": [
      "0.4827586206896552\n",
      "Prepare contextual data\n",
      "Prepare data for models\n",
      "Train ensemble Ensemble\n",
      "+ Prepare model LogisticRegression with label eventdeath\n"
     ]
    },
    {
     "name": "stderr",
     "output_type": "stream",
     "text": [
      "/root/.local/share/virtualenvs/ds-CSRLTXzN/lib/python3.7/site-packages/pandas/core/indexing.py:966: SettingWithCopyWarning: \n",
      "A value is trying to be set on a copy of a slice from a DataFrame.\n",
      "Try using .loc[row_indexer,col_indexer] = value instead\n",
      "\n",
      "See the caveats in the documentation: https://pandas.pydata.org/pandas-docs/stable/user_guide/indexing.html#returning-a-view-versus-a-copy\n",
      "  self.obj[item] = s\n",
      "/root/.local/share/virtualenvs/ds-CSRLTXzN/lib/python3.7/site-packages/pandas/core/indexing.py:845: SettingWithCopyWarning: \n",
      "A value is trying to be set on a copy of a slice from a DataFrame.\n",
      "Try using .loc[row_indexer,col_indexer] = value instead\n",
      "\n",
      "See the caveats in the documentation: https://pandas.pydata.org/pandas-docs/stable/user_guide/indexing.html#returning-a-view-versus-a-copy\n",
      "  self.obj[key] = _infer_fill_value(value)\n",
      "/root/.local/share/virtualenvs/ds-CSRLTXzN/lib/python3.7/site-packages/pandas/core/indexing.py:966: SettingWithCopyWarning: \n",
      "A value is trying to be set on a copy of a slice from a DataFrame.\n",
      "Try using .loc[row_indexer,col_indexer] = value instead\n",
      "\n",
      "See the caveats in the documentation: https://pandas.pydata.org/pandas-docs/stable/user_guide/indexing.html#returning-a-view-versus-a-copy\n",
      "  self.obj[item] = s\n"
     ]
    },
    {
     "name": "stdout",
     "output_type": "stream",
     "text": [
      "    Training with minibacth  0\n",
      "\t+ [iteration 0001] Loss: 0.0033, Best loss: 0.0033\n",
      "\t+ [iteration 0080] Loss: 0.0016, Best loss: 0.0016\n",
      "    -> Early stop at epoch 80\n",
      "----Running time:  0.9676382541656494\n",
      "+ Prepare model Bayesian_LogisticRegression with label eventdeath\n",
      "    Training with minibacth  0\n",
      "\t+ [iteration 0001] Loss: 0.0013, Best loss: 0.0013\n",
      "\t+ [iteration 0051] Loss: 0.0014, Best loss: 0.0013\n",
      "    -> Early stop at epoch 51\n",
      "----Running time:  0.07341718673706055\n"
     ]
    },
    {
     "name": "stderr",
     "output_type": "stream",
     "text": [
      "/root/.local/share/virtualenvs/ds-CSRLTXzN/lib/python3.7/site-packages/pandas/core/indexing.py:966: SettingWithCopyWarning: \n",
      "A value is trying to be set on a copy of a slice from a DataFrame.\n",
      "Try using .loc[row_indexer,col_indexer] = value instead\n",
      "\n",
      "See the caveats in the documentation: https://pandas.pydata.org/pandas-docs/stable/user_guide/indexing.html#returning-a-view-versus-a-copy\n",
      "  self.obj[item] = s\n",
      "\u001b[32m[I 2021-04-28 05:00:10,142]\u001b[0m Trial 32 finished with value: -0.41666666666666663 and parameters: {'binarize.method': 'threshold', 'threshold.method': 'kmeans', 'pca.outputdim': 100, 'scoring.impact': True, 'scoring.scale': False, 'scoring.log': True, 'LogisticRegression.learning_rate': 0.0075, 'Bayesian_LogisticRegression.learning_rate': 0.009000000000000001}. Best is trial 5 with value: -0.5384615384615384.\u001b[0m\n"
     ]
    },
    {
     "name": "stdout",
     "output_type": "stream",
     "text": [
      "0.41666666666666663\n",
      "Prepare contextual data\n",
      "Prepare data for models\n",
      "Train ensemble Ensemble\n",
      "+ Prepare model LogisticRegression with label eventdeath\n"
     ]
    },
    {
     "name": "stderr",
     "output_type": "stream",
     "text": [
      "/root/.local/share/virtualenvs/ds-CSRLTXzN/lib/python3.7/site-packages/pandas/core/indexing.py:966: SettingWithCopyWarning: \n",
      "A value is trying to be set on a copy of a slice from a DataFrame.\n",
      "Try using .loc[row_indexer,col_indexer] = value instead\n",
      "\n",
      "See the caveats in the documentation: https://pandas.pydata.org/pandas-docs/stable/user_guide/indexing.html#returning-a-view-versus-a-copy\n",
      "  self.obj[item] = s\n",
      "/root/.local/share/virtualenvs/ds-CSRLTXzN/lib/python3.7/site-packages/pandas/core/indexing.py:845: SettingWithCopyWarning: \n",
      "A value is trying to be set on a copy of a slice from a DataFrame.\n",
      "Try using .loc[row_indexer,col_indexer] = value instead\n",
      "\n",
      "See the caveats in the documentation: https://pandas.pydata.org/pandas-docs/stable/user_guide/indexing.html#returning-a-view-versus-a-copy\n",
      "  self.obj[key] = _infer_fill_value(value)\n",
      "/root/.local/share/virtualenvs/ds-CSRLTXzN/lib/python3.7/site-packages/pandas/core/indexing.py:966: SettingWithCopyWarning: \n",
      "A value is trying to be set on a copy of a slice from a DataFrame.\n",
      "Try using .loc[row_indexer,col_indexer] = value instead\n",
      "\n",
      "See the caveats in the documentation: https://pandas.pydata.org/pandas-docs/stable/user_guide/indexing.html#returning-a-view-versus-a-copy\n",
      "  self.obj[item] = s\n"
     ]
    },
    {
     "name": "stdout",
     "output_type": "stream",
     "text": [
      "    Training with minibacth  0\n",
      "\t+ [iteration 0001] Loss: 0.0032, Best loss: 0.0032\n",
      "\t+ [iteration 0071] Loss: 0.0017, Best loss: 0.0017\n",
      "    -> Early stop at epoch 71\n",
      "----Running time:  1.0083794593811035\n",
      "+ Prepare model Bayesian_LogisticRegression with label eventdeath\n",
      "    Training with minibacth  0\n",
      "\t+ [iteration 0001] Loss: 0.0011, Best loss: 0.0011\n",
      "\t+ [iteration 0051] Loss: 0.0014, Best loss: 0.0011\n",
      "    -> Early stop at epoch 51\n",
      "----Running time:  0.08361244201660156\n"
     ]
    },
    {
     "name": "stderr",
     "output_type": "stream",
     "text": [
      "/root/.local/share/virtualenvs/ds-CSRLTXzN/lib/python3.7/site-packages/pandas/core/indexing.py:966: SettingWithCopyWarning: \n",
      "A value is trying to be set on a copy of a slice from a DataFrame.\n",
      "Try using .loc[row_indexer,col_indexer] = value instead\n",
      "\n",
      "See the caveats in the documentation: https://pandas.pydata.org/pandas-docs/stable/user_guide/indexing.html#returning-a-view-versus-a-copy\n",
      "  self.obj[item] = s\n",
      "\u001b[32m[I 2021-04-28 05:00:20,789]\u001b[0m Trial 33 finished with value: -0.4827586206896552 and parameters: {'binarize.method': 'threshold', 'threshold.method': 'iso', 'pca.outputdim': 100, 'scoring.impact': True, 'scoring.scale': False, 'scoring.log': True, 'LogisticRegression.learning_rate': 0.005000000000000001, 'Bayesian_LogisticRegression.learning_rate': 0.009500000000000001}. Best is trial 5 with value: -0.5384615384615384.\u001b[0m\n"
     ]
    },
    {
     "name": "stdout",
     "output_type": "stream",
     "text": [
      "0.4827586206896552\n",
      "Prepare contextual data\n",
      "Prepare data for models\n",
      "Train ensemble Ensemble\n",
      "+ Prepare model LogisticRegression with label eventdeath\n"
     ]
    },
    {
     "name": "stderr",
     "output_type": "stream",
     "text": [
      "/root/.local/share/virtualenvs/ds-CSRLTXzN/lib/python3.7/site-packages/pandas/core/indexing.py:966: SettingWithCopyWarning: \n",
      "A value is trying to be set on a copy of a slice from a DataFrame.\n",
      "Try using .loc[row_indexer,col_indexer] = value instead\n",
      "\n",
      "See the caveats in the documentation: https://pandas.pydata.org/pandas-docs/stable/user_guide/indexing.html#returning-a-view-versus-a-copy\n",
      "  self.obj[item] = s\n",
      "/root/.local/share/virtualenvs/ds-CSRLTXzN/lib/python3.7/site-packages/pandas/core/indexing.py:845: SettingWithCopyWarning: \n",
      "A value is trying to be set on a copy of a slice from a DataFrame.\n",
      "Try using .loc[row_indexer,col_indexer] = value instead\n",
      "\n",
      "See the caveats in the documentation: https://pandas.pydata.org/pandas-docs/stable/user_guide/indexing.html#returning-a-view-versus-a-copy\n",
      "  self.obj[key] = _infer_fill_value(value)\n",
      "/root/.local/share/virtualenvs/ds-CSRLTXzN/lib/python3.7/site-packages/pandas/core/indexing.py:966: SettingWithCopyWarning: \n",
      "A value is trying to be set on a copy of a slice from a DataFrame.\n",
      "Try using .loc[row_indexer,col_indexer] = value instead\n",
      "\n",
      "See the caveats in the documentation: https://pandas.pydata.org/pandas-docs/stable/user_guide/indexing.html#returning-a-view-versus-a-copy\n",
      "  self.obj[item] = s\n"
     ]
    },
    {
     "name": "stdout",
     "output_type": "stream",
     "text": [
      "    Training with minibacth  0\n",
      "\t+ [iteration 0001] Loss: 0.0037, Best loss: 0.0037\n",
      "\t+ [iteration 0073] Loss: 0.0018, Best loss: 0.0018\n",
      "    -> Early stop at epoch 73\n",
      "----Running time:  0.9677155017852783\n",
      "+ Prepare model Bayesian_LogisticRegression with label eventdeath\n",
      "    Training with minibacth  0\n",
      "\t+ [iteration 0001] Loss: 0.0014, Best loss: 0.0014\n",
      "\t+ [iteration 0051] Loss: 0.0014, Best loss: 0.0014\n",
      "    -> Early stop at epoch 51\n",
      "----Running time:  0.07136273384094238\n"
     ]
    },
    {
     "name": "stderr",
     "output_type": "stream",
     "text": [
      "/root/.local/share/virtualenvs/ds-CSRLTXzN/lib/python3.7/site-packages/pandas/core/indexing.py:966: SettingWithCopyWarning: \n",
      "A value is trying to be set on a copy of a slice from a DataFrame.\n",
      "Try using .loc[row_indexer,col_indexer] = value instead\n",
      "\n",
      "See the caveats in the documentation: https://pandas.pydata.org/pandas-docs/stable/user_guide/indexing.html#returning-a-view-versus-a-copy\n",
      "  self.obj[item] = s\n",
      "\u001b[32m[I 2021-04-28 05:00:31,376]\u001b[0m Trial 34 finished with value: -0.41379310344827586 and parameters: {'binarize.method': 'threshold', 'threshold.method': 'iso', 'pca.outputdim': 5, 'scoring.impact': True, 'scoring.scale': False, 'scoring.log': True, 'LogisticRegression.learning_rate': 0.0045000000000000005, 'Bayesian_LogisticRegression.learning_rate': 0.008}. Best is trial 5 with value: -0.5384615384615384.\u001b[0m\n"
     ]
    },
    {
     "name": "stdout",
     "output_type": "stream",
     "text": [
      "0.41379310344827586\n",
      "Prepare contextual data\n",
      "Prepare data for models\n",
      "Train ensemble Ensemble\n",
      "+ Prepare model LogisticRegression with label eventdeath\n"
     ]
    },
    {
     "name": "stderr",
     "output_type": "stream",
     "text": [
      "/root/.local/share/virtualenvs/ds-CSRLTXzN/lib/python3.7/site-packages/pandas/core/indexing.py:966: SettingWithCopyWarning: \n",
      "A value is trying to be set on a copy of a slice from a DataFrame.\n",
      "Try using .loc[row_indexer,col_indexer] = value instead\n",
      "\n",
      "See the caveats in the documentation: https://pandas.pydata.org/pandas-docs/stable/user_guide/indexing.html#returning-a-view-versus-a-copy\n",
      "  self.obj[item] = s\n",
      "/root/.local/share/virtualenvs/ds-CSRLTXzN/lib/python3.7/site-packages/pandas/core/indexing.py:845: SettingWithCopyWarning: \n",
      "A value is trying to be set on a copy of a slice from a DataFrame.\n",
      "Try using .loc[row_indexer,col_indexer] = value instead\n",
      "\n",
      "See the caveats in the documentation: https://pandas.pydata.org/pandas-docs/stable/user_guide/indexing.html#returning-a-view-versus-a-copy\n",
      "  self.obj[key] = _infer_fill_value(value)\n",
      "/root/.local/share/virtualenvs/ds-CSRLTXzN/lib/python3.7/site-packages/pandas/core/indexing.py:966: SettingWithCopyWarning: \n",
      "A value is trying to be set on a copy of a slice from a DataFrame.\n",
      "Try using .loc[row_indexer,col_indexer] = value instead\n",
      "\n",
      "See the caveats in the documentation: https://pandas.pydata.org/pandas-docs/stable/user_guide/indexing.html#returning-a-view-versus-a-copy\n",
      "  self.obj[item] = s\n"
     ]
    },
    {
     "name": "stdout",
     "output_type": "stream",
     "text": [
      "    Training with minibacth  0\n",
      "\t+ [iteration 0001] Loss: 0.0034, Best loss: 0.0034\n",
      "\t+ [iteration 0080] Loss: 0.0016, Best loss: 0.0016\n",
      "    -> Early stop at epoch 80\n",
      "----Running time:  0.9758830070495605\n",
      "+ Prepare model Bayesian_LogisticRegression with label eventdeath\n",
      "    Training with minibacth  0\n",
      "\t+ [iteration 0001] Loss: 0.0011, Best loss: 0.0011\n",
      "\t+ [iteration 0051] Loss: 0.0014, Best loss: 0.0011\n",
      "    -> Early stop at epoch 51\n",
      "----Running time:  0.07242417335510254\n"
     ]
    },
    {
     "name": "stderr",
     "output_type": "stream",
     "text": [
      "/root/.local/share/virtualenvs/ds-CSRLTXzN/lib/python3.7/site-packages/pandas/core/indexing.py:966: SettingWithCopyWarning: \n",
      "A value is trying to be set on a copy of a slice from a DataFrame.\n",
      "Try using .loc[row_indexer,col_indexer] = value instead\n",
      "\n",
      "See the caveats in the documentation: https://pandas.pydata.org/pandas-docs/stable/user_guide/indexing.html#returning-a-view-versus-a-copy\n",
      "  self.obj[item] = s\n",
      "\u001b[32m[I 2021-04-28 05:00:42,064]\u001b[0m Trial 35 finished with value: -0.4827586206896552 and parameters: {'binarize.method': 'threshold', 'threshold.method': 'iso', 'pca.outputdim': 100, 'scoring.impact': True, 'scoring.scale': False, 'scoring.log': True, 'LogisticRegression.learning_rate': 0.006500000000000001, 'Bayesian_LogisticRegression.learning_rate': 0.009000000000000001}. Best is trial 5 with value: -0.5384615384615384.\u001b[0m\n"
     ]
    },
    {
     "name": "stdout",
     "output_type": "stream",
     "text": [
      "0.4827586206896552\n",
      "Prepare contextual data\n",
      "Prepare data for models\n",
      "Train ensemble Ensemble\n",
      "+ Prepare model LogisticRegression with label eventdeath\n"
     ]
    },
    {
     "name": "stderr",
     "output_type": "stream",
     "text": [
      "/root/.local/share/virtualenvs/ds-CSRLTXzN/lib/python3.7/site-packages/pandas/core/indexing.py:966: SettingWithCopyWarning: \n",
      "A value is trying to be set on a copy of a slice from a DataFrame.\n",
      "Try using .loc[row_indexer,col_indexer] = value instead\n",
      "\n",
      "See the caveats in the documentation: https://pandas.pydata.org/pandas-docs/stable/user_guide/indexing.html#returning-a-view-versus-a-copy\n",
      "  self.obj[item] = s\n",
      "/root/.local/share/virtualenvs/ds-CSRLTXzN/lib/python3.7/site-packages/pandas/core/indexing.py:845: SettingWithCopyWarning: \n",
      "A value is trying to be set on a copy of a slice from a DataFrame.\n",
      "Try using .loc[row_indexer,col_indexer] = value instead\n",
      "\n",
      "See the caveats in the documentation: https://pandas.pydata.org/pandas-docs/stable/user_guide/indexing.html#returning-a-view-versus-a-copy\n",
      "  self.obj[key] = _infer_fill_value(value)\n",
      "/root/.local/share/virtualenvs/ds-CSRLTXzN/lib/python3.7/site-packages/pandas/core/indexing.py:966: SettingWithCopyWarning: \n",
      "A value is trying to be set on a copy of a slice from a DataFrame.\n",
      "Try using .loc[row_indexer,col_indexer] = value instead\n",
      "\n",
      "See the caveats in the documentation: https://pandas.pydata.org/pandas-docs/stable/user_guide/indexing.html#returning-a-view-versus-a-copy\n",
      "  self.obj[item] = s\n"
     ]
    },
    {
     "name": "stdout",
     "output_type": "stream",
     "text": [
      "    Training with minibacth  0\n",
      "\t+ [iteration 0001] Loss: 0.0039, Best loss: 0.0039\n",
      "\t+ [iteration 0083] Loss: 0.0013, Best loss: 0.0013\n",
      "    -> Early stop at epoch 83\n",
      "----Running time:  0.46509623527526855\n",
      "+ Prepare model Bayesian_LogisticRegression with label eventdeath\n",
      "    Training with minibacth  0\n",
      "\t+ [iteration 0001] Loss: 0.0014, Best loss: 0.0014\n",
      "\t+ [iteration 0052] Loss: 0.0014, Best loss: 0.0013\n",
      "    -> Early stop at epoch 52\n",
      "----Running time:  0.08477258682250977\n"
     ]
    },
    {
     "name": "stderr",
     "output_type": "stream",
     "text": [
      "/root/.local/share/virtualenvs/ds-CSRLTXzN/lib/python3.7/site-packages/pandas/core/indexing.py:966: SettingWithCopyWarning: \n",
      "A value is trying to be set on a copy of a slice from a DataFrame.\n",
      "Try using .loc[row_indexer,col_indexer] = value instead\n",
      "\n",
      "See the caveats in the documentation: https://pandas.pydata.org/pandas-docs/stable/user_guide/indexing.html#returning-a-view-versus-a-copy\n",
      "  self.obj[item] = s\n",
      "\u001b[32m[I 2021-04-28 05:00:52,226]\u001b[0m Trial 36 finished with value: -0.4444444444444445 and parameters: {'binarize.method': 'threshold', 'threshold.method': 'iso', 'pca.outputdim': None, 'scoring.impact': False, 'scoring.scale': True, 'scoring.log': False, 'LogisticRegression.learning_rate': 0.005000000000000001, 'Bayesian_LogisticRegression.learning_rate': 0.005000000000000001}. Best is trial 5 with value: -0.5384615384615384.\u001b[0m\n"
     ]
    },
    {
     "name": "stdout",
     "output_type": "stream",
     "text": [
      "0.4444444444444445\n",
      "Prepare contextual data\n",
      "Prepare data for models\n",
      "Train ensemble Ensemble\n",
      "+ Prepare model LogisticRegression with label eventdeath\n"
     ]
    },
    {
     "name": "stderr",
     "output_type": "stream",
     "text": [
      "/root/.local/share/virtualenvs/ds-CSRLTXzN/lib/python3.7/site-packages/pandas/core/indexing.py:966: SettingWithCopyWarning: \n",
      "A value is trying to be set on a copy of a slice from a DataFrame.\n",
      "Try using .loc[row_indexer,col_indexer] = value instead\n",
      "\n",
      "See the caveats in the documentation: https://pandas.pydata.org/pandas-docs/stable/user_guide/indexing.html#returning-a-view-versus-a-copy\n",
      "  self.obj[item] = s\n",
      "/root/.local/share/virtualenvs/ds-CSRLTXzN/lib/python3.7/site-packages/pandas/core/indexing.py:845: SettingWithCopyWarning: \n",
      "A value is trying to be set on a copy of a slice from a DataFrame.\n",
      "Try using .loc[row_indexer,col_indexer] = value instead\n",
      "\n",
      "See the caveats in the documentation: https://pandas.pydata.org/pandas-docs/stable/user_guide/indexing.html#returning-a-view-versus-a-copy\n",
      "  self.obj[key] = _infer_fill_value(value)\n",
      "/root/.local/share/virtualenvs/ds-CSRLTXzN/lib/python3.7/site-packages/pandas/core/indexing.py:966: SettingWithCopyWarning: \n",
      "A value is trying to be set on a copy of a slice from a DataFrame.\n",
      "Try using .loc[row_indexer,col_indexer] = value instead\n",
      "\n",
      "See the caveats in the documentation: https://pandas.pydata.org/pandas-docs/stable/user_guide/indexing.html#returning-a-view-versus-a-copy\n",
      "  self.obj[item] = s\n"
     ]
    },
    {
     "name": "stdout",
     "output_type": "stream",
     "text": [
      "    Training with minibacth  0\n",
      "\t+ [iteration 0001] Loss: 0.0033, Best loss: 0.0033\n",
      "\t+ [iteration 0072] Loss: 0.0018, Best loss: 0.0018\n",
      "    -> Early stop at epoch 72\n",
      "----Running time:  0.982943058013916\n",
      "+ Prepare model Bayesian_LogisticRegression with label eventdeath\n",
      "    Training with minibacth  0\n",
      "\t+ [iteration 0001] Loss: 0.0011, Best loss: 0.0011\n",
      "\t+ [iteration 0051] Loss: 0.0014, Best loss: 0.0011\n",
      "    -> Early stop at epoch 51\n",
      "----Running time:  0.09557533264160156\n"
     ]
    },
    {
     "name": "stderr",
     "output_type": "stream",
     "text": [
      "\u001b[32m[I 2021-04-28 05:01:02,878]\u001b[0m Trial 37 finished with value: -0.46153846153846156 and parameters: {'binarize.method': 'gettop', 'pca.outputdim': 20, 'scoring.impact': True, 'scoring.scale': False, 'scoring.log': True, 'LogisticRegression.learning_rate': 0.004, 'Bayesian_LogisticRegression.learning_rate': 0.01}. Best is trial 5 with value: -0.5384615384615384.\u001b[0m\n"
     ]
    },
    {
     "name": "stdout",
     "output_type": "stream",
     "text": [
      "0.46153846153846156\n",
      "Prepare contextual data\n",
      "Prepare data for models\n",
      "Train ensemble Ensemble\n",
      "+ Prepare model LogisticRegression with label eventdeath\n"
     ]
    },
    {
     "name": "stderr",
     "output_type": "stream",
     "text": [
      "/root/.local/share/virtualenvs/ds-CSRLTXzN/lib/python3.7/site-packages/pandas/core/indexing.py:845: SettingWithCopyWarning: \n",
      "A value is trying to be set on a copy of a slice from a DataFrame.\n",
      "Try using .loc[row_indexer,col_indexer] = value instead\n",
      "\n",
      "See the caveats in the documentation: https://pandas.pydata.org/pandas-docs/stable/user_guide/indexing.html#returning-a-view-versus-a-copy\n",
      "  self.obj[key] = _infer_fill_value(value)\n",
      "/root/.local/share/virtualenvs/ds-CSRLTXzN/lib/python3.7/site-packages/pandas/core/indexing.py:966: SettingWithCopyWarning: \n",
      "A value is trying to be set on a copy of a slice from a DataFrame.\n",
      "Try using .loc[row_indexer,col_indexer] = value instead\n",
      "\n",
      "See the caveats in the documentation: https://pandas.pydata.org/pandas-docs/stable/user_guide/indexing.html#returning-a-view-versus-a-copy\n",
      "  self.obj[item] = s\n"
     ]
    },
    {
     "name": "stdout",
     "output_type": "stream",
     "text": [
      "    Training with minibacth  0\n",
      "\t+ [iteration 0001] Loss: 0.0032, Best loss: 0.0032\n",
      "\t+ [iteration 0071] Loss: 0.0017, Best loss: 0.0017\n",
      "    -> Early stop at epoch 71\n",
      "----Running time:  1.0529811382293701\n",
      "+ Prepare model Bayesian_LogisticRegression with label eventdeath\n",
      "    Training with minibacth  0\n",
      "\t+ [iteration 0001] Loss: 0.0011, Best loss: 0.0011\n",
      "\t+ [iteration 0051] Loss: 0.0014, Best loss: 0.0011\n",
      "    -> Early stop at epoch 51\n",
      "----Running time:  0.10226607322692871\n"
     ]
    },
    {
     "name": "stderr",
     "output_type": "stream",
     "text": [
      "/root/.local/share/virtualenvs/ds-CSRLTXzN/lib/python3.7/site-packages/pandas/core/indexing.py:966: SettingWithCopyWarning: \n",
      "A value is trying to be set on a copy of a slice from a DataFrame.\n",
      "Try using .loc[row_indexer,col_indexer] = value instead\n",
      "\n",
      "See the caveats in the documentation: https://pandas.pydata.org/pandas-docs/stable/user_guide/indexing.html#returning-a-view-versus-a-copy\n",
      "  self.obj[item] = s\n",
      "\u001b[32m[I 2021-04-28 05:01:13,653]\u001b[0m Trial 38 finished with value: -0.4827586206896552 and parameters: {'binarize.method': 'threshold', 'threshold.method': 'iso', 'pca.outputdim': 5, 'scoring.impact': True, 'scoring.scale': False, 'scoring.log': True, 'LogisticRegression.learning_rate': 0.006, 'Bayesian_LogisticRegression.learning_rate': 0.008}. Best is trial 5 with value: -0.5384615384615384.\u001b[0m\n"
     ]
    },
    {
     "name": "stdout",
     "output_type": "stream",
     "text": [
      "0.4827586206896552\n",
      "Prepare contextual data\n",
      "Prepare data for models\n",
      "Train ensemble Ensemble\n",
      "+ Prepare model LogisticRegression with label eventdeath\n"
     ]
    },
    {
     "name": "stderr",
     "output_type": "stream",
     "text": [
      "/root/.local/share/virtualenvs/ds-CSRLTXzN/lib/python3.7/site-packages/pandas/core/indexing.py:966: SettingWithCopyWarning: \n",
      "A value is trying to be set on a copy of a slice from a DataFrame.\n",
      "Try using .loc[row_indexer,col_indexer] = value instead\n",
      "\n",
      "See the caveats in the documentation: https://pandas.pydata.org/pandas-docs/stable/user_guide/indexing.html#returning-a-view-versus-a-copy\n",
      "  self.obj[item] = s\n",
      "/root/.local/share/virtualenvs/ds-CSRLTXzN/lib/python3.7/site-packages/pandas/core/indexing.py:845: SettingWithCopyWarning: \n",
      "A value is trying to be set on a copy of a slice from a DataFrame.\n",
      "Try using .loc[row_indexer,col_indexer] = value instead\n",
      "\n",
      "See the caveats in the documentation: https://pandas.pydata.org/pandas-docs/stable/user_guide/indexing.html#returning-a-view-versus-a-copy\n",
      "  self.obj[key] = _infer_fill_value(value)\n",
      "/root/.local/share/virtualenvs/ds-CSRLTXzN/lib/python3.7/site-packages/pandas/core/indexing.py:966: SettingWithCopyWarning: \n",
      "A value is trying to be set on a copy of a slice from a DataFrame.\n",
      "Try using .loc[row_indexer,col_indexer] = value instead\n",
      "\n",
      "See the caveats in the documentation: https://pandas.pydata.org/pandas-docs/stable/user_guide/indexing.html#returning-a-view-versus-a-copy\n",
      "  self.obj[item] = s\n"
     ]
    },
    {
     "name": "stdout",
     "output_type": "stream",
     "text": [
      "    Training with minibacth  0\n",
      "\t+ [iteration 0001] Loss: 0.0036, Best loss: 0.0036\n",
      "\t+ [iteration 0083] Loss: 0.0015, Best loss: 0.0015\n",
      "    -> Early stop at epoch 83\n",
      "----Running time:  0.9917647838592529\n",
      "+ Prepare model Bayesian_LogisticRegression with label eventdeath\n",
      "    Training with minibacth  0\n",
      "\t+ [iteration 0001] Loss: 0.0012, Best loss: 0.0012\n",
      "\t+ [iteration 0051] Loss: 0.0014, Best loss: 0.0012\n",
      "    -> Early stop at epoch 51\n",
      "----Running time:  0.09173417091369629\n"
     ]
    },
    {
     "name": "stderr",
     "output_type": "stream",
     "text": [
      "\u001b[32m[I 2021-04-28 05:01:24,554]\u001b[0m Trial 39 finished with value: -0.38461538461538464 and parameters: {'binarize.method': 'gettop', 'pca.outputdim': 5, 'scoring.impact': True, 'scoring.scale': True, 'scoring.log': False, 'LogisticRegression.learning_rate': 0.006, 'Bayesian_LogisticRegression.learning_rate': 0.007000000000000001}. Best is trial 5 with value: -0.5384615384615384.\u001b[0m\n"
     ]
    },
    {
     "name": "stdout",
     "output_type": "stream",
     "text": [
      "0.38461538461538464\n",
      "Prepare contextual data\n",
      "Prepare data for models\n",
      "Train ensemble Ensemble\n",
      "+ Prepare model LogisticRegression with label eventdeath\n"
     ]
    },
    {
     "name": "stderr",
     "output_type": "stream",
     "text": [
      "/root/.local/share/virtualenvs/ds-CSRLTXzN/lib/python3.7/site-packages/pandas/core/indexing.py:845: SettingWithCopyWarning: \n",
      "A value is trying to be set on a copy of a slice from a DataFrame.\n",
      "Try using .loc[row_indexer,col_indexer] = value instead\n",
      "\n",
      "See the caveats in the documentation: https://pandas.pydata.org/pandas-docs/stable/user_guide/indexing.html#returning-a-view-versus-a-copy\n",
      "  self.obj[key] = _infer_fill_value(value)\n",
      "/root/.local/share/virtualenvs/ds-CSRLTXzN/lib/python3.7/site-packages/pandas/core/indexing.py:966: SettingWithCopyWarning: \n",
      "A value is trying to be set on a copy of a slice from a DataFrame.\n",
      "Try using .loc[row_indexer,col_indexer] = value instead\n",
      "\n",
      "See the caveats in the documentation: https://pandas.pydata.org/pandas-docs/stable/user_guide/indexing.html#returning-a-view-versus-a-copy\n",
      "  self.obj[item] = s\n"
     ]
    },
    {
     "name": "stdout",
     "output_type": "stream",
     "text": [
      "    Training with minibacth  0\n",
      "\t+ [iteration 0001] Loss: 0.0036, Best loss: 0.0036\n",
      "\t+ [iteration 0084] Loss: 0.0015, Best loss: 0.0015\n",
      "    -> Early stop at epoch 84\n",
      "----Running time:  0.987384557723999\n",
      "+ Prepare model Bayesian_LogisticRegression with label eventdeath\n",
      "    Training with minibacth  0\n",
      "\t+ [iteration 0001] Loss: 0.0010, Best loss: 0.0010\n",
      "\t+ [iteration 0063] Loss: 0.0006, Best loss: 0.0006\n",
      "    -> Early stop at epoch 63\n",
      "----Running time:  0.08551239967346191\n"
     ]
    },
    {
     "name": "stderr",
     "output_type": "stream",
     "text": [
      "/root/.local/share/virtualenvs/ds-CSRLTXzN/lib/python3.7/site-packages/pandas/core/indexing.py:966: SettingWithCopyWarning: \n",
      "A value is trying to be set on a copy of a slice from a DataFrame.\n",
      "Try using .loc[row_indexer,col_indexer] = value instead\n",
      "\n",
      "See the caveats in the documentation: https://pandas.pydata.org/pandas-docs/stable/user_guide/indexing.html#returning-a-view-versus-a-copy\n",
      "  self.obj[item] = s\n",
      "\u001b[32m[I 2021-04-28 05:01:35,190]\u001b[0m Trial 40 finished with value: -0.380952380952381 and parameters: {'binarize.method': 'threshold', 'threshold.method': 'baseline', 'pca.outputdim': 100, 'scoring.impact': True, 'scoring.scale': False, 'scoring.log': True, 'LogisticRegression.learning_rate': 0.0075, 'Bayesian_LogisticRegression.learning_rate': 0.0015}. Best is trial 5 with value: -0.5384615384615384.\u001b[0m\n"
     ]
    },
    {
     "name": "stdout",
     "output_type": "stream",
     "text": [
      "0.380952380952381\n",
      "Prepare contextual data\n",
      "Prepare data for models\n",
      "Train ensemble Ensemble\n",
      "+ Prepare model LogisticRegression with label eventdeath\n"
     ]
    },
    {
     "name": "stderr",
     "output_type": "stream",
     "text": [
      "/root/.local/share/virtualenvs/ds-CSRLTXzN/lib/python3.7/site-packages/pandas/core/indexing.py:966: SettingWithCopyWarning: \n",
      "A value is trying to be set on a copy of a slice from a DataFrame.\n",
      "Try using .loc[row_indexer,col_indexer] = value instead\n",
      "\n",
      "See the caveats in the documentation: https://pandas.pydata.org/pandas-docs/stable/user_guide/indexing.html#returning-a-view-versus-a-copy\n",
      "  self.obj[item] = s\n",
      "/root/.local/share/virtualenvs/ds-CSRLTXzN/lib/python3.7/site-packages/pandas/core/indexing.py:845: SettingWithCopyWarning: \n",
      "A value is trying to be set on a copy of a slice from a DataFrame.\n",
      "Try using .loc[row_indexer,col_indexer] = value instead\n",
      "\n",
      "See the caveats in the documentation: https://pandas.pydata.org/pandas-docs/stable/user_guide/indexing.html#returning-a-view-versus-a-copy\n",
      "  self.obj[key] = _infer_fill_value(value)\n",
      "/root/.local/share/virtualenvs/ds-CSRLTXzN/lib/python3.7/site-packages/pandas/core/indexing.py:966: SettingWithCopyWarning: \n",
      "A value is trying to be set on a copy of a slice from a DataFrame.\n",
      "Try using .loc[row_indexer,col_indexer] = value instead\n",
      "\n",
      "See the caveats in the documentation: https://pandas.pydata.org/pandas-docs/stable/user_guide/indexing.html#returning-a-view-versus-a-copy\n",
      "  self.obj[item] = s\n"
     ]
    },
    {
     "name": "stdout",
     "output_type": "stream",
     "text": [
      "    Training with minibacth  0\n",
      "\t+ [iteration 0001] Loss: 0.0029, Best loss: 0.0029\n",
      "\t+ [iteration 0065] Loss: 0.0018, Best loss: 0.0018\n",
      "    -> Early stop at epoch 65\n",
      "----Running time:  0.965606689453125\n",
      "+ Prepare model Bayesian_LogisticRegression with label eventdeath\n",
      "    Training with minibacth  0\n",
      "\t+ [iteration 0001] Loss: 0.0012, Best loss: 0.0012\n",
      "\t+ [iteration 0051] Loss: 0.0014, Best loss: 0.0012\n",
      "    -> Early stop at epoch 51\n",
      "----Running time:  0.06956219673156738\n"
     ]
    },
    {
     "name": "stderr",
     "output_type": "stream",
     "text": [
      "/root/.local/share/virtualenvs/ds-CSRLTXzN/lib/python3.7/site-packages/pandas/core/indexing.py:966: SettingWithCopyWarning: \n",
      "A value is trying to be set on a copy of a slice from a DataFrame.\n",
      "Try using .loc[row_indexer,col_indexer] = value instead\n",
      "\n",
      "See the caveats in the documentation: https://pandas.pydata.org/pandas-docs/stable/user_guide/indexing.html#returning-a-view-versus-a-copy\n",
      "  self.obj[item] = s\n",
      "\u001b[32m[I 2021-04-28 05:01:45,841]\u001b[0m Trial 41 finished with value: -0.42857142857142855 and parameters: {'binarize.method': 'threshold', 'threshold.method': 'iso', 'pca.outputdim': 5, 'scoring.impact': True, 'scoring.scale': False, 'scoring.log': True, 'LogisticRegression.learning_rate': 0.0055, 'Bayesian_LogisticRegression.learning_rate': 0.008}. Best is trial 5 with value: -0.5384615384615384.\u001b[0m\n"
     ]
    },
    {
     "name": "stdout",
     "output_type": "stream",
     "text": [
      "0.42857142857142855\n",
      "Prepare contextual data\n",
      "Prepare data for models\n",
      "Train ensemble Ensemble\n",
      "+ Prepare model LogisticRegression with label eventdeath\n"
     ]
    },
    {
     "name": "stderr",
     "output_type": "stream",
     "text": [
      "/root/.local/share/virtualenvs/ds-CSRLTXzN/lib/python3.7/site-packages/pandas/core/indexing.py:966: SettingWithCopyWarning: \n",
      "A value is trying to be set on a copy of a slice from a DataFrame.\n",
      "Try using .loc[row_indexer,col_indexer] = value instead\n",
      "\n",
      "See the caveats in the documentation: https://pandas.pydata.org/pandas-docs/stable/user_guide/indexing.html#returning-a-view-versus-a-copy\n",
      "  self.obj[item] = s\n",
      "/root/.local/share/virtualenvs/ds-CSRLTXzN/lib/python3.7/site-packages/pandas/core/indexing.py:845: SettingWithCopyWarning: \n",
      "A value is trying to be set on a copy of a slice from a DataFrame.\n",
      "Try using .loc[row_indexer,col_indexer] = value instead\n",
      "\n",
      "See the caveats in the documentation: https://pandas.pydata.org/pandas-docs/stable/user_guide/indexing.html#returning-a-view-versus-a-copy\n",
      "  self.obj[key] = _infer_fill_value(value)\n",
      "/root/.local/share/virtualenvs/ds-CSRLTXzN/lib/python3.7/site-packages/pandas/core/indexing.py:966: SettingWithCopyWarning: \n",
      "A value is trying to be set on a copy of a slice from a DataFrame.\n",
      "Try using .loc[row_indexer,col_indexer] = value instead\n",
      "\n",
      "See the caveats in the documentation: https://pandas.pydata.org/pandas-docs/stable/user_guide/indexing.html#returning-a-view-versus-a-copy\n",
      "  self.obj[item] = s\n"
     ]
    },
    {
     "name": "stdout",
     "output_type": "stream",
     "text": [
      "    Training with minibacth  0\n",
      "\t+ [iteration 0001] Loss: 0.0031, Best loss: 0.0031\n",
      "\t+ [iteration 0080] Loss: 0.0016, Best loss: 0.0016\n",
      "    -> Early stop at epoch 80\n",
      "----Running time:  0.9756848812103271\n",
      "+ Prepare model Bayesian_LogisticRegression with label eventdeath\n",
      "    Training with minibacth  0\n",
      "\t+ [iteration 0001] Loss: 0.0010, Best loss: 0.0010\n",
      "\t+ [iteration 0051] Loss: 0.0014, Best loss: 0.0010\n",
      "    -> Early stop at epoch 51\n",
      "----Running time:  0.07365655899047852\n"
     ]
    },
    {
     "name": "stderr",
     "output_type": "stream",
     "text": [
      "/root/.local/share/virtualenvs/ds-CSRLTXzN/lib/python3.7/site-packages/pandas/core/indexing.py:966: SettingWithCopyWarning: \n",
      "A value is trying to be set on a copy of a slice from a DataFrame.\n",
      "Try using .loc[row_indexer,col_indexer] = value instead\n",
      "\n",
      "See the caveats in the documentation: https://pandas.pydata.org/pandas-docs/stable/user_guide/indexing.html#returning-a-view-versus-a-copy\n",
      "  self.obj[item] = s\n",
      "\u001b[32m[I 2021-04-28 05:01:56,419]\u001b[0m Trial 42 finished with value: -0.4827586206896552 and parameters: {'binarize.method': 'threshold', 'threshold.method': 'iso', 'pca.outputdim': 5, 'scoring.impact': True, 'scoring.scale': False, 'scoring.log': True, 'LogisticRegression.learning_rate': 0.006500000000000001, 'Bayesian_LogisticRegression.learning_rate': 0.0085}. Best is trial 5 with value: -0.5384615384615384.\u001b[0m\n"
     ]
    },
    {
     "name": "stdout",
     "output_type": "stream",
     "text": [
      "0.4827586206896552\n",
      "Prepare contextual data\n",
      "Prepare data for models\n",
      "Train ensemble Ensemble\n",
      "+ Prepare model LogisticRegression with label eventdeath\n"
     ]
    },
    {
     "name": "stderr",
     "output_type": "stream",
     "text": [
      "/root/.local/share/virtualenvs/ds-CSRLTXzN/lib/python3.7/site-packages/pandas/core/indexing.py:966: SettingWithCopyWarning: \n",
      "A value is trying to be set on a copy of a slice from a DataFrame.\n",
      "Try using .loc[row_indexer,col_indexer] = value instead\n",
      "\n",
      "See the caveats in the documentation: https://pandas.pydata.org/pandas-docs/stable/user_guide/indexing.html#returning-a-view-versus-a-copy\n",
      "  self.obj[item] = s\n",
      "/root/.local/share/virtualenvs/ds-CSRLTXzN/lib/python3.7/site-packages/pandas/core/indexing.py:845: SettingWithCopyWarning: \n",
      "A value is trying to be set on a copy of a slice from a DataFrame.\n",
      "Try using .loc[row_indexer,col_indexer] = value instead\n",
      "\n",
      "See the caveats in the documentation: https://pandas.pydata.org/pandas-docs/stable/user_guide/indexing.html#returning-a-view-versus-a-copy\n",
      "  self.obj[key] = _infer_fill_value(value)\n",
      "/root/.local/share/virtualenvs/ds-CSRLTXzN/lib/python3.7/site-packages/pandas/core/indexing.py:966: SettingWithCopyWarning: \n",
      "A value is trying to be set on a copy of a slice from a DataFrame.\n",
      "Try using .loc[row_indexer,col_indexer] = value instead\n",
      "\n",
      "See the caveats in the documentation: https://pandas.pydata.org/pandas-docs/stable/user_guide/indexing.html#returning-a-view-versus-a-copy\n",
      "  self.obj[item] = s\n"
     ]
    },
    {
     "name": "stdout",
     "output_type": "stream",
     "text": [
      "    Training with minibacth  0\n",
      "\t+ [iteration 0001] Loss: 0.0032, Best loss: 0.0032\n",
      "\t+ [iteration 0071] Loss: 0.0017, Best loss: 0.0017\n",
      "    -> Early stop at epoch 71\n",
      "----Running time:  0.9924483299255371\n",
      "+ Prepare model Bayesian_LogisticRegression with label eventdeath\n",
      "    Training with minibacth  0\n",
      "\t+ [iteration 0001] Loss: 0.0011, Best loss: 0.0011\n",
      "\t+ [iteration 0051] Loss: 0.0014, Best loss: 0.0011\n",
      "    -> Early stop at epoch 51\n",
      "----Running time:  0.08047127723693848\n"
     ]
    },
    {
     "name": "stderr",
     "output_type": "stream",
     "text": [
      "/root/.local/share/virtualenvs/ds-CSRLTXzN/lib/python3.7/site-packages/pandas/core/indexing.py:966: SettingWithCopyWarning: \n",
      "A value is trying to be set on a copy of a slice from a DataFrame.\n",
      "Try using .loc[row_indexer,col_indexer] = value instead\n",
      "\n",
      "See the caveats in the documentation: https://pandas.pydata.org/pandas-docs/stable/user_guide/indexing.html#returning-a-view-versus-a-copy\n",
      "  self.obj[item] = s\n",
      "\u001b[32m[I 2021-04-28 05:02:07,079]\u001b[0m Trial 43 finished with value: -0.4827586206896552 and parameters: {'binarize.method': 'threshold', 'threshold.method': 'iso', 'pca.outputdim': 100, 'scoring.impact': True, 'scoring.scale': False, 'scoring.log': True, 'LogisticRegression.learning_rate': 0.006, 'Bayesian_LogisticRegression.learning_rate': 0.009500000000000001}. Best is trial 5 with value: -0.5384615384615384.\u001b[0m\n"
     ]
    },
    {
     "name": "stdout",
     "output_type": "stream",
     "text": [
      "0.4827586206896552\n",
      "Prepare contextual data\n",
      "Prepare data for models\n",
      "Train ensemble Ensemble\n",
      "+ Prepare model LogisticRegression with label eventdeath\n"
     ]
    },
    {
     "name": "stderr",
     "output_type": "stream",
     "text": [
      "/root/.local/share/virtualenvs/ds-CSRLTXzN/lib/python3.7/site-packages/pandas/core/indexing.py:966: SettingWithCopyWarning: \n",
      "A value is trying to be set on a copy of a slice from a DataFrame.\n",
      "Try using .loc[row_indexer,col_indexer] = value instead\n",
      "\n",
      "See the caveats in the documentation: https://pandas.pydata.org/pandas-docs/stable/user_guide/indexing.html#returning-a-view-versus-a-copy\n",
      "  self.obj[item] = s\n",
      "/root/.local/share/virtualenvs/ds-CSRLTXzN/lib/python3.7/site-packages/pandas/core/indexing.py:845: SettingWithCopyWarning: \n",
      "A value is trying to be set on a copy of a slice from a DataFrame.\n",
      "Try using .loc[row_indexer,col_indexer] = value instead\n",
      "\n",
      "See the caveats in the documentation: https://pandas.pydata.org/pandas-docs/stable/user_guide/indexing.html#returning-a-view-versus-a-copy\n",
      "  self.obj[key] = _infer_fill_value(value)\n",
      "/root/.local/share/virtualenvs/ds-CSRLTXzN/lib/python3.7/site-packages/pandas/core/indexing.py:966: SettingWithCopyWarning: \n",
      "A value is trying to be set on a copy of a slice from a DataFrame.\n",
      "Try using .loc[row_indexer,col_indexer] = value instead\n",
      "\n",
      "See the caveats in the documentation: https://pandas.pydata.org/pandas-docs/stable/user_guide/indexing.html#returning-a-view-versus-a-copy\n",
      "  self.obj[item] = s\n"
     ]
    },
    {
     "name": "stdout",
     "output_type": "stream",
     "text": [
      "    Training with minibacth  0\n",
      "\t+ [iteration 0001] Loss: 0.0034, Best loss: 0.0034\n",
      "\t+ [iteration 0067] Loss: 0.0018, Best loss: 0.0018\n",
      "    -> Early stop at epoch 67\n",
      "----Running time:  0.9829857349395752\n",
      "+ Prepare model Bayesian_LogisticRegression with label eventdeath\n",
      "    Training with minibacth  0\n",
      "\t+ [iteration 0001] Loss: 0.0011, Best loss: 0.0011\n",
      "\t+ [iteration 0051] Loss: 0.0014, Best loss: 0.0011\n",
      "    -> Early stop at epoch 51\n",
      "----Running time:  0.08327507972717285\n"
     ]
    },
    {
     "name": "stderr",
     "output_type": "stream",
     "text": [
      "/root/.local/share/virtualenvs/ds-CSRLTXzN/lib/python3.7/site-packages/pandas/core/indexing.py:966: SettingWithCopyWarning: \n",
      "A value is trying to be set on a copy of a slice from a DataFrame.\n",
      "Try using .loc[row_indexer,col_indexer] = value instead\n",
      "\n",
      "See the caveats in the documentation: https://pandas.pydata.org/pandas-docs/stable/user_guide/indexing.html#returning-a-view-versus-a-copy\n",
      "  self.obj[item] = s\n",
      "\u001b[32m[I 2021-04-28 05:02:17,726]\u001b[0m Trial 44 finished with value: -0.23529411764705882 and parameters: {'binarize.method': 'threshold', 'threshold.method': 'constant', 'pca.outputdim': 100, 'scoring.impact': True, 'scoring.scale': False, 'scoring.log': True, 'LogisticRegression.learning_rate': 0.005000000000000001, 'Bayesian_LogisticRegression.learning_rate': 0.009500000000000001}. Best is trial 5 with value: -0.5384615384615384.\u001b[0m\n"
     ]
    },
    {
     "name": "stdout",
     "output_type": "stream",
     "text": [
      "0.23529411764705882\n",
      "Prepare contextual data\n",
      "Prepare data for models\n",
      "Train ensemble Ensemble\n",
      "+ Prepare model LogisticRegression with label eventdeath\n"
     ]
    },
    {
     "name": "stderr",
     "output_type": "stream",
     "text": [
      "/root/.local/share/virtualenvs/ds-CSRLTXzN/lib/python3.7/site-packages/pandas/core/indexing.py:966: SettingWithCopyWarning: \n",
      "A value is trying to be set on a copy of a slice from a DataFrame.\n",
      "Try using .loc[row_indexer,col_indexer] = value instead\n",
      "\n",
      "See the caveats in the documentation: https://pandas.pydata.org/pandas-docs/stable/user_guide/indexing.html#returning-a-view-versus-a-copy\n",
      "  self.obj[item] = s\n",
      "/root/.local/share/virtualenvs/ds-CSRLTXzN/lib/python3.7/site-packages/pandas/core/indexing.py:845: SettingWithCopyWarning: \n",
      "A value is trying to be set on a copy of a slice from a DataFrame.\n",
      "Try using .loc[row_indexer,col_indexer] = value instead\n",
      "\n",
      "See the caveats in the documentation: https://pandas.pydata.org/pandas-docs/stable/user_guide/indexing.html#returning-a-view-versus-a-copy\n",
      "  self.obj[key] = _infer_fill_value(value)\n",
      "/root/.local/share/virtualenvs/ds-CSRLTXzN/lib/python3.7/site-packages/pandas/core/indexing.py:966: SettingWithCopyWarning: \n",
      "A value is trying to be set on a copy of a slice from a DataFrame.\n",
      "Try using .loc[row_indexer,col_indexer] = value instead\n",
      "\n",
      "See the caveats in the documentation: https://pandas.pydata.org/pandas-docs/stable/user_guide/indexing.html#returning-a-view-versus-a-copy\n",
      "  self.obj[item] = s\n"
     ]
    },
    {
     "name": "stdout",
     "output_type": "stream",
     "text": [
      "    Training with minibacth  0\n",
      "\t+ [iteration 0001] Loss: 0.0031, Best loss: 0.0031\n",
      "\t+ [iteration 0080] Loss: 0.0017, Best loss: 0.0017\n",
      "    -> Early stop at epoch 80\n",
      "----Running time:  0.9710955619812012\n",
      "+ Prepare model Bayesian_LogisticRegression with label eventdeath\n",
      "    Training with minibacth  0\n",
      "\t+ [iteration 0001] Loss: 0.0010, Best loss: 0.0010\n",
      "\t+ [iteration 0051] Loss: 0.0014, Best loss: 0.0010\n",
      "    -> Early stop at epoch 51\n",
      "----Running time:  0.06999945640563965\n"
     ]
    },
    {
     "name": "stderr",
     "output_type": "stream",
     "text": [
      "/root/.local/share/virtualenvs/ds-CSRLTXzN/lib/python3.7/site-packages/pandas/core/indexing.py:966: SettingWithCopyWarning: \n",
      "A value is trying to be set on a copy of a slice from a DataFrame.\n",
      "Try using .loc[row_indexer,col_indexer] = value instead\n",
      "\n",
      "See the caveats in the documentation: https://pandas.pydata.org/pandas-docs/stable/user_guide/indexing.html#returning-a-view-versus-a-copy\n",
      "  self.obj[item] = s\n",
      "\u001b[32m[I 2021-04-28 05:02:28,390]\u001b[0m Trial 45 finished with value: -0.4347826086956522 and parameters: {'binarize.method': 'threshold', 'threshold.method': 'kmeans', 'pca.outputdim': 5, 'scoring.impact': True, 'scoring.scale': False, 'scoring.log': True, 'LogisticRegression.learning_rate': 0.0055, 'Bayesian_LogisticRegression.learning_rate': 0.007000000000000001}. Best is trial 5 with value: -0.5384615384615384.\u001b[0m\n"
     ]
    },
    {
     "name": "stdout",
     "output_type": "stream",
     "text": [
      "0.4347826086956522\n",
      "Prepare contextual data\n",
      "Prepare data for models\n",
      "Train ensemble Ensemble\n",
      "+ Prepare model LogisticRegression with label eventdeath\n"
     ]
    },
    {
     "name": "stderr",
     "output_type": "stream",
     "text": [
      "/root/.local/share/virtualenvs/ds-CSRLTXzN/lib/python3.7/site-packages/pandas/core/indexing.py:966: SettingWithCopyWarning: \n",
      "A value is trying to be set on a copy of a slice from a DataFrame.\n",
      "Try using .loc[row_indexer,col_indexer] = value instead\n",
      "\n",
      "See the caveats in the documentation: https://pandas.pydata.org/pandas-docs/stable/user_guide/indexing.html#returning-a-view-versus-a-copy\n",
      "  self.obj[item] = s\n",
      "/root/.local/share/virtualenvs/ds-CSRLTXzN/lib/python3.7/site-packages/pandas/core/indexing.py:845: SettingWithCopyWarning: \n",
      "A value is trying to be set on a copy of a slice from a DataFrame.\n",
      "Try using .loc[row_indexer,col_indexer] = value instead\n",
      "\n",
      "See the caveats in the documentation: https://pandas.pydata.org/pandas-docs/stable/user_guide/indexing.html#returning-a-view-versus-a-copy\n",
      "  self.obj[key] = _infer_fill_value(value)\n",
      "/root/.local/share/virtualenvs/ds-CSRLTXzN/lib/python3.7/site-packages/pandas/core/indexing.py:966: SettingWithCopyWarning: \n",
      "A value is trying to be set on a copy of a slice from a DataFrame.\n",
      "Try using .loc[row_indexer,col_indexer] = value instead\n",
      "\n",
      "See the caveats in the documentation: https://pandas.pydata.org/pandas-docs/stable/user_guide/indexing.html#returning-a-view-versus-a-copy\n",
      "  self.obj[item] = s\n"
     ]
    },
    {
     "name": "stdout",
     "output_type": "stream",
     "text": [
      "    Training with minibacth  0\n",
      "\t+ [iteration 0001] Loss: 0.0030, Best loss: 0.0030\n",
      "\t+ [iteration 0095] Loss: 0.0012, Best loss: 0.0012\n",
      "    -> Early stop at epoch 95\n",
      "----Running time:  1.4180724620819092\n",
      "+ Prepare model Bayesian_LogisticRegression with label eventdeath\n",
      "    Training with minibacth  0\n",
      "\t+ [iteration 0001] Loss: 0.0011, Best loss: 0.0011\n",
      "\t+ [iteration 0051] Loss: 0.0014, Best loss: 0.0011\n",
      "    -> Early stop at epoch 51\n",
      "----Running time:  0.09768533706665039\n"
     ]
    },
    {
     "name": "stderr",
     "output_type": "stream",
     "text": [
      "/root/.local/share/virtualenvs/ds-CSRLTXzN/lib/python3.7/site-packages/pandas/core/indexing.py:966: SettingWithCopyWarning: \n",
      "A value is trying to be set on a copy of a slice from a DataFrame.\n",
      "Try using .loc[row_indexer,col_indexer] = value instead\n",
      "\n",
      "See the caveats in the documentation: https://pandas.pydata.org/pandas-docs/stable/user_guide/indexing.html#returning-a-view-versus-a-copy\n",
      "  self.obj[item] = s\n",
      "\u001b[32m[I 2021-04-28 05:02:39,606]\u001b[0m Trial 46 finished with value: -0.5 and parameters: {'binarize.method': 'threshold', 'threshold.method': 'yen', 'pca.outputdim': 10, 'scoring.impact': True, 'scoring.scale': True, 'scoring.log': True, 'LogisticRegression.learning_rate': 0.01, 'Bayesian_LogisticRegression.learning_rate': 0.0085}. Best is trial 5 with value: -0.5384615384615384.\u001b[0m\n"
     ]
    },
    {
     "name": "stdout",
     "output_type": "stream",
     "text": [
      "0.5\n",
      "Prepare contextual data\n",
      "Prepare data for models\n",
      "Train ensemble Ensemble\n",
      "+ Prepare model LogisticRegression with label eventdeath\n"
     ]
    },
    {
     "name": "stderr",
     "output_type": "stream",
     "text": [
      "/root/.local/share/virtualenvs/ds-CSRLTXzN/lib/python3.7/site-packages/pandas/core/indexing.py:966: SettingWithCopyWarning: \n",
      "A value is trying to be set on a copy of a slice from a DataFrame.\n",
      "Try using .loc[row_indexer,col_indexer] = value instead\n",
      "\n",
      "See the caveats in the documentation: https://pandas.pydata.org/pandas-docs/stable/user_guide/indexing.html#returning-a-view-versus-a-copy\n",
      "  self.obj[item] = s\n",
      "/root/.local/share/virtualenvs/ds-CSRLTXzN/lib/python3.7/site-packages/pandas/core/indexing.py:845: SettingWithCopyWarning: \n",
      "A value is trying to be set on a copy of a slice from a DataFrame.\n",
      "Try using .loc[row_indexer,col_indexer] = value instead\n",
      "\n",
      "See the caveats in the documentation: https://pandas.pydata.org/pandas-docs/stable/user_guide/indexing.html#returning-a-view-versus-a-copy\n",
      "  self.obj[key] = _infer_fill_value(value)\n",
      "/root/.local/share/virtualenvs/ds-CSRLTXzN/lib/python3.7/site-packages/pandas/core/indexing.py:966: SettingWithCopyWarning: \n",
      "A value is trying to be set on a copy of a slice from a DataFrame.\n",
      "Try using .loc[row_indexer,col_indexer] = value instead\n",
      "\n",
      "See the caveats in the documentation: https://pandas.pydata.org/pandas-docs/stable/user_guide/indexing.html#returning-a-view-versus-a-copy\n",
      "  self.obj[item] = s\n"
     ]
    },
    {
     "name": "stdout",
     "output_type": "stream",
     "text": [
      "    Training with minibacth  0\n",
      "\t+ [iteration 0001] Loss: 0.0030, Best loss: 0.0030\n",
      "\t+ [iteration 0091] Loss: 0.0012, Best loss: 0.0012\n",
      "    -> Early stop at epoch 91\n",
      "----Running time:  1.4305846691131592\n",
      "+ Prepare model Bayesian_LogisticRegression with label eventdeath\n",
      "    Training with minibacth  0\n",
      "\t+ [iteration 0001] Loss: 0.0012, Best loss: 0.0012\n",
      "\t+ [iteration 0051] Loss: 0.0014, Best loss: 0.0012\n",
      "    -> Early stop at epoch 51\n",
      "----Running time:  0.0978708267211914\n"
     ]
    },
    {
     "name": "stderr",
     "output_type": "stream",
     "text": [
      "/root/.local/share/virtualenvs/ds-CSRLTXzN/lib/python3.7/site-packages/pandas/core/indexing.py:966: SettingWithCopyWarning: \n",
      "A value is trying to be set on a copy of a slice from a DataFrame.\n",
      "Try using .loc[row_indexer,col_indexer] = value instead\n",
      "\n",
      "See the caveats in the documentation: https://pandas.pydata.org/pandas-docs/stable/user_guide/indexing.html#returning-a-view-versus-a-copy\n",
      "  self.obj[item] = s\n",
      "\u001b[32m[I 2021-04-28 05:02:50,924]\u001b[0m Trial 47 finished with value: -0.47058823529411764 and parameters: {'binarize.method': 'threshold', 'threshold.method': 'yen', 'pca.outputdim': 10, 'scoring.impact': True, 'scoring.scale': True, 'scoring.log': True, 'LogisticRegression.learning_rate': 0.01, 'Bayesian_LogisticRegression.learning_rate': 0.0085}. Best is trial 5 with value: -0.5384615384615384.\u001b[0m\n"
     ]
    },
    {
     "name": "stdout",
     "output_type": "stream",
     "text": [
      "0.47058823529411764\n",
      "Prepare contextual data\n",
      "Prepare data for models\n",
      "Train ensemble Ensemble\n",
      "+ Prepare model LogisticRegression with label eventdeath\n"
     ]
    },
    {
     "name": "stderr",
     "output_type": "stream",
     "text": [
      "/root/.local/share/virtualenvs/ds-CSRLTXzN/lib/python3.7/site-packages/pandas/core/indexing.py:966: SettingWithCopyWarning: \n",
      "A value is trying to be set on a copy of a slice from a DataFrame.\n",
      "Try using .loc[row_indexer,col_indexer] = value instead\n",
      "\n",
      "See the caveats in the documentation: https://pandas.pydata.org/pandas-docs/stable/user_guide/indexing.html#returning-a-view-versus-a-copy\n",
      "  self.obj[item] = s\n",
      "/root/.local/share/virtualenvs/ds-CSRLTXzN/lib/python3.7/site-packages/pandas/core/indexing.py:845: SettingWithCopyWarning: \n",
      "A value is trying to be set on a copy of a slice from a DataFrame.\n",
      "Try using .loc[row_indexer,col_indexer] = value instead\n",
      "\n",
      "See the caveats in the documentation: https://pandas.pydata.org/pandas-docs/stable/user_guide/indexing.html#returning-a-view-versus-a-copy\n",
      "  self.obj[key] = _infer_fill_value(value)\n",
      "/root/.local/share/virtualenvs/ds-CSRLTXzN/lib/python3.7/site-packages/pandas/core/indexing.py:966: SettingWithCopyWarning: \n",
      "A value is trying to be set on a copy of a slice from a DataFrame.\n",
      "Try using .loc[row_indexer,col_indexer] = value instead\n",
      "\n",
      "See the caveats in the documentation: https://pandas.pydata.org/pandas-docs/stable/user_guide/indexing.html#returning-a-view-versus-a-copy\n",
      "  self.obj[item] = s\n"
     ]
    },
    {
     "name": "stdout",
     "output_type": "stream",
     "text": [
      "    Training with minibacth  0\n",
      "\t+ [iteration 0001] Loss: 0.0031, Best loss: 0.0031\n",
      "\t+ [iteration 0091] Loss: 0.0012, Best loss: 0.0012\n",
      "    -> Early stop at epoch 91\n",
      "----Running time:  1.4238989353179932\n",
      "+ Prepare model Bayesian_LogisticRegression with label eventdeath\n",
      "    Training with minibacth  0\n",
      "\t+ [iteration 0001] Loss: 0.0011, Best loss: 0.0011\n",
      "\t+ [iteration 0051] Loss: 0.0014, Best loss: 0.0011\n",
      "    -> Early stop at epoch 51\n",
      "----Running time:  0.09318113327026367\n"
     ]
    },
    {
     "name": "stderr",
     "output_type": "stream",
     "text": [
      "\u001b[32m[I 2021-04-28 05:03:02,149]\u001b[0m Trial 48 finished with value: -0.38461538461538464 and parameters: {'binarize.method': 'gettop', 'pca.outputdim': 10, 'scoring.impact': True, 'scoring.scale': True, 'scoring.log': True, 'LogisticRegression.learning_rate': 0.009500000000000001, 'Bayesian_LogisticRegression.learning_rate': 0.006}. Best is trial 5 with value: -0.5384615384615384.\u001b[0m\n"
     ]
    },
    {
     "name": "stdout",
     "output_type": "stream",
     "text": [
      "0.38461538461538464\n",
      "Prepare contextual data\n",
      "Prepare data for models\n",
      "Train ensemble Ensemble\n",
      "+ Prepare model LogisticRegression with label eventdeath\n"
     ]
    },
    {
     "name": "stderr",
     "output_type": "stream",
     "text": [
      "/root/.local/share/virtualenvs/ds-CSRLTXzN/lib/python3.7/site-packages/pandas/core/indexing.py:845: SettingWithCopyWarning: \n",
      "A value is trying to be set on a copy of a slice from a DataFrame.\n",
      "Try using .loc[row_indexer,col_indexer] = value instead\n",
      "\n",
      "See the caveats in the documentation: https://pandas.pydata.org/pandas-docs/stable/user_guide/indexing.html#returning-a-view-versus-a-copy\n",
      "  self.obj[key] = _infer_fill_value(value)\n",
      "/root/.local/share/virtualenvs/ds-CSRLTXzN/lib/python3.7/site-packages/pandas/core/indexing.py:966: SettingWithCopyWarning: \n",
      "A value is trying to be set on a copy of a slice from a DataFrame.\n",
      "Try using .loc[row_indexer,col_indexer] = value instead\n",
      "\n",
      "See the caveats in the documentation: https://pandas.pydata.org/pandas-docs/stable/user_guide/indexing.html#returning-a-view-versus-a-copy\n",
      "  self.obj[item] = s\n"
     ]
    },
    {
     "name": "stdout",
     "output_type": "stream",
     "text": [
      "    Training with minibacth  0\n",
      "\t+ [iteration 0001] Loss: 0.0030, Best loss: 0.0030\n",
      "\t+ [iteration 0066] Loss: 0.0019, Best loss: 0.0019\n",
      "    -> Early stop at epoch 66\n",
      "----Running time:  1.426687240600586\n",
      "+ Prepare model Bayesian_LogisticRegression with label eventdeath\n",
      "    Training with minibacth  0\n",
      "\t+ [iteration 0001] Loss: 0.0014, Best loss: 0.0014\n",
      "\t+ [iteration 0052] Loss: 0.0014, Best loss: 0.0014\n",
      "    -> Early stop at epoch 52\n",
      "----Running time:  0.10374975204467773\n"
     ]
    },
    {
     "name": "stderr",
     "output_type": "stream",
     "text": [
      "/root/.local/share/virtualenvs/ds-CSRLTXzN/lib/python3.7/site-packages/pandas/core/indexing.py:966: SettingWithCopyWarning: \n",
      "A value is trying to be set on a copy of a slice from a DataFrame.\n",
      "Try using .loc[row_indexer,col_indexer] = value instead\n",
      "\n",
      "See the caveats in the documentation: https://pandas.pydata.org/pandas-docs/stable/user_guide/indexing.html#returning-a-view-versus-a-copy\n",
      "  self.obj[item] = s\n",
      "\u001b[32m[I 2021-04-28 05:03:13,333]\u001b[0m Trial 49 finished with value: -0.5263157894736842 and parameters: {'binarize.method': 'threshold', 'threshold.method': 'yen', 'pca.outputdim': 10, 'scoring.impact': True, 'scoring.scale': True, 'scoring.log': True, 'LogisticRegression.learning_rate': 0.002, 'Bayesian_LogisticRegression.learning_rate': 0.009500000000000001}. Best is trial 5 with value: -0.5384615384615384.\u001b[0m\n"
     ]
    },
    {
     "name": "stdout",
     "output_type": "stream",
     "text": [
      "0.5263157894736842\n",
      "The best result:  0.5384615384615384\n"
     ]
    }
   ],
   "source": [
    "run(global_config, 50)"
   ]
  },
  {
   "cell_type": "markdown",
   "metadata": {},
   "source": [
    "# Run with the best config"
   ]
  },
  {
   "cell_type": "code",
   "execution_count": 4,
   "metadata": {},
   "outputs": [],
   "source": [
    "from propensity_prediction.tasks.churn_prediction.main import churn_prediction"
   ]
  },
  {
   "cell_type": "code",
   "execution_count": 5,
   "metadata": {},
   "outputs": [
    {
     "name": "stdout",
     "output_type": "stream",
     "text": [
      "Prepare contextual data\n",
      "Prepare data for models\n",
      "Train ensemble Ensemble\n",
      "+ Prepare model LogisticRegression with label eventdeath\n"
     ]
    },
    {
     "name": "stderr",
     "output_type": "stream",
     "text": [
      "/root/.local/share/virtualenvs/ds-CSRLTXzN/lib/python3.7/site-packages/pandas/core/indexing.py:966: SettingWithCopyWarning: \n",
      "A value is trying to be set on a copy of a slice from a DataFrame.\n",
      "Try using .loc[row_indexer,col_indexer] = value instead\n",
      "\n",
      "See the caveats in the documentation: https://pandas.pydata.org/pandas-docs/stable/user_guide/indexing.html#returning-a-view-versus-a-copy\n",
      "  self.obj[item] = s\n",
      "/root/.local/share/virtualenvs/ds-CSRLTXzN/lib/python3.7/site-packages/pandas/core/indexing.py:845: SettingWithCopyWarning: \n",
      "A value is trying to be set on a copy of a slice from a DataFrame.\n",
      "Try using .loc[row_indexer,col_indexer] = value instead\n",
      "\n",
      "See the caveats in the documentation: https://pandas.pydata.org/pandas-docs/stable/user_guide/indexing.html#returning-a-view-versus-a-copy\n",
      "  self.obj[key] = _infer_fill_value(value)\n",
      "/root/.local/share/virtualenvs/ds-CSRLTXzN/lib/python3.7/site-packages/pandas/core/indexing.py:966: SettingWithCopyWarning: \n",
      "A value is trying to be set on a copy of a slice from a DataFrame.\n",
      "Try using .loc[row_indexer,col_indexer] = value instead\n",
      "\n",
      "See the caveats in the documentation: https://pandas.pydata.org/pandas-docs/stable/user_guide/indexing.html#returning-a-view-versus-a-copy\n",
      "  self.obj[item] = s\n"
     ]
    },
    {
     "name": "stdout",
     "output_type": "stream",
     "text": [
      "    Training with minibacth  0\n",
      "\t+ [iteration 0001] Loss: 0.0031, Best loss: 0.0031\n",
      "\t+ [iteration 0097] Loss: 0.0013, Best loss: 0.0013\n",
      "    -> Early stop at epoch 97\n",
      "----Running time:  1.4925696849822998\n",
      "+ Prepare model Bayesian_LogisticRegression with label eventdeath\n",
      "    Training with minibacth  0\n",
      "\t+ [iteration 0001] Loss: 0.0011, Best loss: 0.0011\n",
      "\t+ [iteration 0072] Loss: 0.0005, Best loss: 0.0005\n",
      "    -> Early stop at epoch 72\n",
      "----Running time:  0.11721420288085938\n"
     ]
    }
   ],
   "source": [
    "predict, eva, ens_model = churn_prediction(global_config) #predict on full dataset, evaluate on validating dataset"
   ]
  },
  {
   "cell_type": "code",
   "execution_count": 6,
   "metadata": {},
   "outputs": [
    {
     "data": {
      "text/plain": [
       "0.771062271062271"
      ]
     },
     "execution_count": 6,
     "metadata": {},
     "output_type": "execute_result"
    }
   ],
   "source": [
    "eva['results']['auc']"
   ]
  },
  {
   "cell_type": "code",
   "execution_count": 7,
   "metadata": {},
   "outputs": [
    {
     "data": {
      "text/plain": [
       "{'auc': 0.771062271062271,\n",
       " 'binarize_methods': [{'method': 'gettop',\n",
       "   'list_results': [{'ntop': 7,\n",
       "     'results': {'accuracy': 0.7454545454545455,\n",
       "      'precision': 0.23076923076923078,\n",
       "      'recall': 0.42857142857142855,\n",
       "      'trueneg_rate': 0.9047619047619048,\n",
       "      'f1_score': 0.3}},\n",
       "    {'ntop': 13,\n",
       "     'results': {'accuracy': 0.7454545454545455,\n",
       "      'precision': 0.46153846153846156,\n",
       "      'recall': 0.46153846153846156,\n",
       "      'trueneg_rate': 0.8333333333333334,\n",
       "      'f1_score': 0.46153846153846156}},\n",
       "    {'ntop': 18,\n",
       "     'results': {'accuracy': 0.7272727272727273,\n",
       "      'precision': 0.6153846153846154,\n",
       "      'recall': 0.4444444444444444,\n",
       "      'trueneg_rate': 0.7619047619047619,\n",
       "      'f1_score': 0.5161290322580646}}]}]}"
      ]
     },
     "execution_count": 7,
     "metadata": {},
     "output_type": "execute_result"
    }
   ],
   "source": [
    "eva['results']"
   ]
  },
  {
   "cell_type": "code",
   "execution_count": null,
   "metadata": {},
   "outputs": [],
   "source": []
  }
 ],
 "metadata": {
  "kernelspec": {
   "display_name": "ds",
   "language": "python",
   "name": "ds"
  },
  "language_info": {
   "codemirror_mode": {
    "name": "ipython",
    "version": 3
   },
   "file_extension": ".py",
   "mimetype": "text/x-python",
   "name": "python",
   "nbconvert_exporter": "python",
   "pygments_lexer": "ipython3",
   "version": "3.7.7"
  }
 },
 "nbformat": 4,
 "nbformat_minor": 4
}
