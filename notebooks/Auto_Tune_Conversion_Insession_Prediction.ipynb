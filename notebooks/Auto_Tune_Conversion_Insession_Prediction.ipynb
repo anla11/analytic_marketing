{
 "cells": [
  {
   "cell_type": "markdown",
   "metadata": {
    "id": "FnbuB1LYpF06"
   },
   "source": [
    "# Import"
   ]
  },
  {
   "cell_type": "code",
   "execution_count": 1,
   "metadata": {
    "id": "hLdvBfI3er50"
   },
   "outputs": [],
   "source": [
    "import torch\n",
    "import numpy as np\n",
    "import pandas as pd\n",
    "import optuna"
   ]
  },
  {
   "cell_type": "code",
   "execution_count": 2,
   "metadata": {
    "colab": {
     "base_uri": "https://localhost:8080/"
    },
    "id": "8LY4EDVXioOP",
    "outputId": "654b272e-8ace-4173-89f7-efa6ffcdb567"
   },
   "outputs": [
    {
     "data": {
      "text/plain": [
       "{'task_name': 'conversion_insession_prediction',\n",
       " 'pipeline_config_path': '../dataset/conversion_insession_pipeline_bestconfig.json',\n",
       " 'data_config': {'path': '../dataset/2019-Dec_small.csv',\n",
       "  'Session': {'user_id': 'user_id',\n",
       "   'product_id': 'product_id',\n",
       "   'user_session': 'user_session',\n",
       "   'event_type': 'event_type',\n",
       "   'event_time': 'event_time',\n",
       "   'price': 'price',\n",
       "   'metadata': {'category_id': 'cate',\n",
       "    'category_code': 'cate',\n",
       "    'brand': 'cate'}},\n",
       "  'Constraint': {'constraint_field': 'event_type',\n",
       "   'constraint_value': 'purchase'}}}"
      ]
     },
     "execution_count": 2,
     "metadata": {},
     "output_type": "execute_result"
    }
   ],
   "source": [
    "global_config = {\n",
    "    'task_name':'conversion_insession_prediction', \n",
    "    'pipeline_config_path': '../dataset/conversion_insession_pipeline_bestconfig.json',\n",
    "    'data_config':{ \n",
    "        'path': '../dataset/2019-Dec_small.csv',\n",
    "        'Session':{\n",
    "            \"user_id\":\"user_id\",\n",
    "            \"product_id\":\"product_id\",\n",
    "            \"user_session\": \"user_session\",\n",
    "            \"event_type\": \"event_type\",\n",
    "            \"event_time\": \"event_time\",\n",
    "            \"price\": \"price\",\n",
    "            \"metadata\":{\n",
    "                \"category_id\": \"cate\",\n",
    "                \"category_code\": \"cate\",\n",
    "                \"brand\": \"cate\",\n",
    "                }},\n",
    "          \"Constraint\": {\n",
    "              \"constraint_field\": \"event_type\",\n",
    "              \"constraint_value\": \"purchase\"\n",
    "          }\n",
    "}}\n",
    "global_config"
   ]
  },
  {
   "cell_type": "markdown",
   "metadata": {},
   "source": [
    "# AutoTune"
   ]
  },
  {
   "cell_type": "code",
   "execution_count": 4,
   "metadata": {},
   "outputs": [],
   "source": [
    "from propensity_prediction.config.autotune.main import run"
   ]
  },
  {
   "cell_type": "code",
   "execution_count": 5,
   "metadata": {},
   "outputs": [
    {
     "name": "stderr",
     "output_type": "stream",
     "text": [
      "\u001b[32m[I 2021-05-05 07:57:22,572]\u001b[0m A new study created in memory with name: no-name-06dd55c7-16e3-4ef9-81e5-f329c2552b60\u001b[0m\n"
     ]
    },
    {
     "name": "stdout",
     "output_type": "stream",
     "text": [
      "Prepare contextual data\n",
      "Prepare data for models\n",
      "Train ensemble Ensemble\n",
      "+ Prepare model LogisticRegression with label purchase\n"
     ]
    },
    {
     "name": "stderr",
     "output_type": "stream",
     "text": [
      "/root/.local/share/virtualenvs/src-NVTF7jWz/lib/python3.7/site-packages/scipy/stats/_stats_mstats_common.py:130: RuntimeWarning:\n",
      "\n",
      "invalid value encountered in double_scalars\n",
      "\n",
      "/root/.local/share/virtualenvs/src-NVTF7jWz/lib/python3.7/site-packages/scipy/stats/_stats_mstats_common.py:142: RuntimeWarning:\n",
      "\n",
      "divide by zero encountered in double_scalars\n",
      "\n",
      "/src/ds/model/utils/np_processing.py:11: RuntimeWarning:\n",
      "\n",
      "invalid value encountered in true_divide\n",
      "\n"
     ]
    },
    {
     "name": "stdout",
     "output_type": "stream",
     "text": [
      "    Training with minibacth  0\n"
     ]
    },
    {
     "name": "stderr",
     "output_type": "stream",
     "text": [
      "\u001b[32m[I 2021-05-05 07:58:25,263]\u001b[0m Trial 0 finished with value: inf and parameters: {'binarize.method': 'threshold', 'threshold.method': 'baseline', 'pca.outputdim': 10, 'scoring.impact': True, 'scoring.scale': True, 'scoring.log': False, 'LogisticRegression.learning_rate': 0.0005, 'Bayesian_LogisticRegression.learning_rate': 0.005000000000000001}. Best is trial 0 with value: inf.\u001b[0m\n"
     ]
    },
    {
     "name": "stdout",
     "output_type": "stream",
     "text": [
      "Prepare contextual data\n",
      "Prepare data for models\n",
      "Train ensemble Ensemble\n",
      "+ Prepare model LogisticRegression with label purchase\n",
      "    Training with minibacth  0\n"
     ]
    },
    {
     "name": "stderr",
     "output_type": "stream",
     "text": [
      "\u001b[32m[I 2021-05-05 07:59:25,720]\u001b[0m Trial 1 finished with value: inf and parameters: {'binarize.method': 'threshold', 'threshold.method': 'iso', 'pca.outputdim': 20, 'scoring.impact': False, 'scoring.scale': True, 'scoring.log': True, 'LogisticRegression.learning_rate': 0.0035, 'Bayesian_LogisticRegression.learning_rate': 0.009000000000000001}. Best is trial 0 with value: inf.\u001b[0m\n"
     ]
    },
    {
     "name": "stdout",
     "output_type": "stream",
     "text": [
      "Prepare contextual data\n",
      "Prepare data for models\n",
      "Train ensemble Ensemble\n",
      "+ Prepare model LogisticRegression with label purchase\n",
      "    Training with minibacth  0\n",
      "\t+ [iteration 0001] Loss: 0.0004, Best loss: 0.0004\n",
      "\t+ [iteration 0097] Loss: 0.0000, Best loss: 0.0000\n",
      "    -> Early stop at epoch 97\n",
      "    Training with minibacth  1\n",
      "\t+ [iteration 0001] Loss: 0.0000, Best loss: 0.0000\n",
      "\t+ [iteration 0051] Loss: 0.0000, Best loss: 0.0000\n",
      "    -> Early stop at epoch 51\n",
      "    Training with minibacth  2\n",
      "\t+ [iteration 0001] Loss: 0.0000, Best loss: 0.0000\n",
      "\t+ [iteration 0100] Loss: 0.0000, Best loss: 0.0000\n",
      "\t+ [iteration 0104] Loss: 0.0000, Best loss: 0.0000\n",
      "    -> Early stop at epoch 104\n",
      "    Training with minibacth  3\n",
      "\t+ [iteration 0001] Loss: 0.0000, Best loss: 0.0000\n",
      "\t+ [iteration 0100] Loss: 0.0000, Best loss: 0.0000\n",
      "\t+ [iteration 0133] Loss: 0.0000, Best loss: 0.0000\n",
      "    -> Early stop at epoch 133\n",
      "----Running time:  2.7659473419189453\n",
      "+ Prepare model Bayesian_LogisticRegression with label purchase\n",
      "    Training with minibacth  0\n",
      "\t+ [iteration 0001] Loss: 0.0000, Best loss: 0.0000\n",
      "\t+ [iteration 0051] Loss: 0.0000, Best loss: 0.0000\n",
      "    -> Early stop at epoch 51\n",
      "    Training with minibacth  1\n",
      "\t+ [iteration 0001] Loss: 0.0000, Best loss: 0.0000\n",
      "\t+ [iteration 0057] Loss: 0.0000, Best loss: 0.0000\n",
      "    -> Early stop at epoch 57\n",
      "    Training with minibacth  2\n",
      "\t+ [iteration 0001] Loss: 0.0000, Best loss: 0.0000\n",
      "\t+ [iteration 0051] Loss: 0.0000, Best loss: 0.0000\n",
      "    -> Early stop at epoch 51\n",
      "    Training with minibacth  3\n",
      "\t+ [iteration 0001] Loss: 0.0000, Best loss: 0.0000\n",
      "\t+ [iteration 0051] Loss: 0.0000, Best loss: 0.0000\n",
      "    -> Early stop at epoch 51\n",
      "----Running time:  1.8390851020812988\n"
     ]
    },
    {
     "name": "stderr",
     "output_type": "stream",
     "text": [
      "/src/ds/model/evaluating/binaryclass_evaluate.py:27: RuntimeWarning:\n",
      "\n",
      "invalid value encountered in double_scalars\n",
      "\n",
      "\u001b[32m[I 2021-05-05 08:01:28,127]\u001b[0m Trial 2 finished with value: -0.08977161728452486 and parameters: {'binarize.method': 'threshold', 'threshold.method': 'kmeans', 'pca.outputdim': None, 'scoring.impact': True, 'scoring.scale': False, 'scoring.log': True, 'LogisticRegression.learning_rate': 0.003, 'Bayesian_LogisticRegression.learning_rate': 0.002}. Best is trial 2 with value: -0.08977161728452486.\u001b[0m\n"
     ]
    },
    {
     "name": "stdout",
     "output_type": "stream",
     "text": [
      "Prepare contextual data\n",
      "Prepare data for models\n",
      "Train ensemble Ensemble\n",
      "+ Prepare model LogisticRegression with label purchase\n",
      "    Training with minibacth  0\n",
      "\t+ [iteration 0001] Loss: 0.0004, Best loss: 0.0004\n",
      "\t+ [iteration 0051] Loss: 0.0004, Best loss: 0.0004\n",
      "    -> Early stop at epoch 51\n",
      "    Training with minibacth  1\n",
      "\t+ [iteration 0001] Loss: 0.0004, Best loss: 0.0004\n",
      "\t+ [iteration 0051] Loss: 0.0003, Best loss: 0.0003\n",
      "    -> Early stop at epoch 51\n",
      "    Training with minibacth  2\n",
      "\t+ [iteration 0001] Loss: 0.0004, Best loss: 0.0004\n",
      "\t+ [iteration 0051] Loss: 0.0003, Best loss: 0.0003\n",
      "    -> Early stop at epoch 51\n",
      "    Training with minibacth  3\n",
      "\t+ [iteration 0001] Loss: 0.0005, Best loss: 0.0005\n",
      "\t+ [iteration 0100] Loss: 0.0000, Best loss: 0.0000\n",
      "\t+ [iteration 0116] Loss: 0.0000, Best loss: 0.0000\n",
      "    -> Early stop at epoch 116\n",
      "----Running time:  1.497854471206665\n",
      "+ Prepare model Bayesian_LogisticRegression with label purchase\n",
      "    Training with minibacth  0\n",
      "\t+ [iteration 0001] Loss: 0.0000, Best loss: 0.0000\n",
      "\t+ [iteration 0060] Loss: 0.0000, Best loss: 0.0000\n",
      "    -> Early stop at epoch 60\n",
      "    Training with minibacth  1\n",
      "\t+ [iteration 0001] Loss: 0.0000, Best loss: 0.0000\n",
      "\t+ [iteration 0051] Loss: 0.0000, Best loss: 0.0000\n",
      "    -> Early stop at epoch 51\n",
      "    Training with minibacth  2\n",
      "\t+ [iteration 0001] Loss: 0.0000, Best loss: 0.0000\n",
      "\t+ [iteration 0051] Loss: 0.0000, Best loss: 0.0000\n",
      "    -> Early stop at epoch 51\n",
      "    Training with minibacth  3\n",
      "\t+ [iteration 0001] Loss: 0.0000, Best loss: 0.0000\n",
      "\t+ [iteration 0051] Loss: 0.0000, Best loss: 0.0000\n",
      "    -> Early stop at epoch 51\n",
      "----Running time:  1.6994426250457764\n"
     ]
    },
    {
     "name": "stderr",
     "output_type": "stream",
     "text": [
      "/src/ds/model/evaluating/binaryclass_evaluate.py:27: RuntimeWarning:\n",
      "\n",
      "invalid value encountered in double_scalars\n",
      "\n",
      "\u001b[32m[I 2021-05-05 08:03:23,965]\u001b[0m Trial 3 finished with value: -0.0261226782767459 and parameters: {'binarize.method': 'gettop', 'pca.outputdim': 100, 'scoring.impact': False, 'scoring.scale': False, 'scoring.log': False, 'LogisticRegression.learning_rate': 0.0005, 'Bayesian_LogisticRegression.learning_rate': 0.0085}. Best is trial 2 with value: -0.08977161728452486.\u001b[0m\n"
     ]
    },
    {
     "name": "stdout",
     "output_type": "stream",
     "text": [
      "Prepare contextual data\n",
      "Prepare data for models\n",
      "Train ensemble Ensemble\n",
      "+ Prepare model LogisticRegression with label purchase\n"
     ]
    },
    {
     "name": "stderr",
     "output_type": "stream",
     "text": [
      "/root/.local/share/virtualenvs/src-NVTF7jWz/lib/python3.7/site-packages/scipy/stats/_stats_mstats_common.py:130: RuntimeWarning:\n",
      "\n",
      "invalid value encountered in double_scalars\n",
      "\n",
      "/root/.local/share/virtualenvs/src-NVTF7jWz/lib/python3.7/site-packages/scipy/stats/_stats_mstats_common.py:142: RuntimeWarning:\n",
      "\n",
      "divide by zero encountered in double_scalars\n",
      "\n",
      "/src/ds/model/utils/np_processing.py:11: RuntimeWarning:\n",
      "\n",
      "invalid value encountered in true_divide\n",
      "\n"
     ]
    },
    {
     "name": "stdout",
     "output_type": "stream",
     "text": [
      "    Training with minibacth  0\n"
     ]
    },
    {
     "name": "stderr",
     "output_type": "stream",
     "text": [
      "\u001b[32m[I 2021-05-05 08:04:24,169]\u001b[0m Trial 4 finished with value: inf and parameters: {'binarize.method': 'gettop', 'pca.outputdim': 10, 'scoring.impact': True, 'scoring.scale': True, 'scoring.log': True, 'LogisticRegression.learning_rate': 0.0075, 'Bayesian_LogisticRegression.learning_rate': 0.0075}. Best is trial 2 with value: -0.08977161728452486.\u001b[0m\n"
     ]
    },
    {
     "name": "stdout",
     "output_type": "stream",
     "text": [
      "The best result:  0.08977161728452486\n"
     ]
    }
   ],
   "source": [
    "run(global_config, 5)"
   ]
  },
  {
   "cell_type": "markdown",
   "metadata": {},
   "source": [
    "# Run with the best config"
   ]
  },
  {
   "cell_type": "code",
   "execution_count": 6,
   "metadata": {},
   "outputs": [],
   "source": [
    "from propensity_prediction.tasks.conversion_insession_prediction.main import conversion_insession_prediction"
   ]
  },
  {
   "cell_type": "code",
   "execution_count": 7,
   "metadata": {},
   "outputs": [
    {
     "name": "stdout",
     "output_type": "stream",
     "text": [
      "Prepare contextual data\n",
      "Prepare data for models\n",
      "Train ensemble Ensemble\n",
      "+ Prepare model LogisticRegression with label purchase\n",
      "    Training with minibacth  0\n",
      "\t+ [iteration 0001] Loss: 0.0011, Best loss: 0.0011\n",
      "\t+ [iteration 0051] Loss: 0.0008, Best loss: 0.0008\n",
      "    -> Early stop at epoch 51\n",
      "    Training with minibacth  1\n",
      "\t+ [iteration 0001] Loss: 0.0035, Best loss: 0.0035\n",
      "\t+ [iteration 0051] Loss: 0.0033, Best loss: 0.0033\n",
      "    -> Early stop at epoch 51\n",
      "----Running time:  0.08693671226501465\n",
      "+ Prepare model Bayesian_LogisticRegression with label purchase\n",
      "    Training with minibacth  0\n",
      "\t+ [iteration 0001] Loss: 0.0001, Best loss: 0.0001\n",
      "\t+ [iteration 0076] Loss: 0.0000, Best loss: 0.0000\n",
      "    -> Early stop at epoch 76\n",
      "    Training with minibacth  1\n",
      "\t+ [iteration 0001] Loss: 0.0000, Best loss: 0.0000\n",
      "\t+ [iteration 0051] Loss: 0.0000, Best loss: 0.0000\n",
      "    -> Early stop at epoch 51\n",
      "----Running time:  0.1646559238433838\n"
     ]
    }
   ],
   "source": [
    "predict, evaluate, ens_model = conversion_insession_prediction(global_config)"
   ]
  },
  {
   "cell_type": "code",
   "execution_count": 8,
   "metadata": {},
   "outputs": [
    {
     "data": {
      "text/plain": [
       "{'auc': 0.4378330625600138,\n",
       " 'binarize_methods': [{'method': 'threshold',\n",
       "   'list_results': [{'threshold_method': 'constant',\n",
       "     'results': {'accuracy': 0.9216071930317505,\n",
       "      'precision': 0.02247191011235955,\n",
       "      'recall': 0.25,\n",
       "      'trueneg_rate': 0.9945321992709599,\n",
       "      'f1_score': 0.041237113402061855}},\n",
       "    {'threshold_method': 'baseline',\n",
       "     'results': {'accuracy': 0.9224501264400112,\n",
       "      'precision': 0.02247191011235955,\n",
       "      'recall': 0.2857142857142857,\n",
       "      'trueneg_rate': 0.9954434993924666,\n",
       "      'f1_score': 0.041666666666666664}},\n",
       "    {'threshold_method': 'kmeans',\n",
       "     'results': {'accuracy': 0.8184883394211857,\n",
       "      'precision': 0.16853932584269662,\n",
       "      'recall': 0.09594882729211088,\n",
       "      'trueneg_rate': 0.8712029161603888,\n",
       "      'f1_score': 0.12228260869565219}},\n",
       "    {'threshold_method': 'otsu',\n",
       "     'results': {'accuracy': 0.8173644282101714,\n",
       "      'precision': 0.16853932584269662,\n",
       "      'recall': 0.09513742071881606,\n",
       "      'trueneg_rate': 0.8699878493317132,\n",
       "      'f1_score': 0.12162162162162161}},\n",
       "    {'threshold_method': 'yen',\n",
       "     'results': {'accuracy': 0.7378477100309075,\n",
       "      'precision': 0.22846441947565543,\n",
       "      'recall': 0.07741116751269035,\n",
       "      'trueneg_rate': 0.7791616038882139,\n",
       "      'f1_score': 0.11563981042654028}},\n",
       "    {'threshold_method': 'iso',\n",
       "     'results': {'accuracy': 0.8173644282101714,\n",
       "      'precision': 0.16853932584269662,\n",
       "      'recall': 0.09513742071881606,\n",
       "      'trueneg_rate': 0.8699878493317132,\n",
       "      'f1_score': 0.12162162162162161}}]}]}"
      ]
     },
     "execution_count": 8,
     "metadata": {},
     "output_type": "execute_result"
    }
   ],
   "source": [
    "evaluate['results']"
   ]
  },
  {
   "cell_type": "code",
   "execution_count": 9,
   "metadata": {},
   "outputs": [
    {
     "data": {
      "text/html": [
       "<div>\n",
       "<style scoped>\n",
       "    .dataframe tbody tr th:only-of-type {\n",
       "        vertical-align: middle;\n",
       "    }\n",
       "\n",
       "    .dataframe tbody tr th {\n",
       "        vertical-align: top;\n",
       "    }\n",
       "\n",
       "    .dataframe thead th {\n",
       "        text-align: right;\n",
       "    }\n",
       "</style>\n",
       "<table border=\"1\" class=\"dataframe\">\n",
       "  <thead>\n",
       "    <tr style=\"text-align: right;\">\n",
       "      <th></th>\n",
       "      <th>user_id</th>\n",
       "      <th>product_id</th>\n",
       "      <th>user_session</th>\n",
       "      <th>probabilities</th>\n",
       "      <th>predict</th>\n",
       "    </tr>\n",
       "  </thead>\n",
       "  <tbody>\n",
       "    <tr>\n",
       "      <th>0</th>\n",
       "      <td>580252105</td>\n",
       "      <td>5854574</td>\n",
       "      <td>745a156d-829a-48c5-abef-95919efef729</td>\n",
       "      <td>9.583198e-09</td>\n",
       "      <td>0</td>\n",
       "    </tr>\n",
       "    <tr>\n",
       "      <th>1</th>\n",
       "      <td>567027910</td>\n",
       "      <td>5814844</td>\n",
       "      <td>a48eebcf-e87c-4135-a02d-087961b2a884</td>\n",
       "      <td>0.000000e+00</td>\n",
       "      <td>0</td>\n",
       "    </tr>\n",
       "    <tr>\n",
       "      <th>2</th>\n",
       "      <td>558390967</td>\n",
       "      <td>5687744</td>\n",
       "      <td>ff03c040-53d6-4594-8b86-789d39301d0c</td>\n",
       "      <td>1.760500e-06</td>\n",
       "      <td>0</td>\n",
       "    </tr>\n",
       "    <tr>\n",
       "      <th>3</th>\n",
       "      <td>580271935</td>\n",
       "      <td>5687528</td>\n",
       "      <td>17132405-4398-4e91-83ef-cd7cbef070a8</td>\n",
       "      <td>2.392676e-37</td>\n",
       "      <td>0</td>\n",
       "    </tr>\n",
       "    <tr>\n",
       "      <th>4</th>\n",
       "      <td>377153707</td>\n",
       "      <td>5622685</td>\n",
       "      <td>6f7f6872-24d0-45da-bc28-d351c86e8446</td>\n",
       "      <td>2.496720e-04</td>\n",
       "      <td>0</td>\n",
       "    </tr>\n",
       "    <tr>\n",
       "      <th>...</th>\n",
       "      <td>...</td>\n",
       "      <td>...</td>\n",
       "      <td>...</td>\n",
       "      <td>...</td>\n",
       "      <td>...</td>\n",
       "    </tr>\n",
       "    <tr>\n",
       "      <th>3554</th>\n",
       "      <td>576872422</td>\n",
       "      <td>5700037</td>\n",
       "      <td>30fec805-c7ee-406d-bcca-e2aebea3a28b</td>\n",
       "      <td>4.880211e-02</td>\n",
       "      <td>0</td>\n",
       "    </tr>\n",
       "    <tr>\n",
       "      <th>3555</th>\n",
       "      <td>580187026</td>\n",
       "      <td>5820722</td>\n",
       "      <td>19a35122-c786-46b1-975b-790038ef68b5</td>\n",
       "      <td>5.395027e-21</td>\n",
       "      <td>0</td>\n",
       "    </tr>\n",
       "    <tr>\n",
       "      <th>3556</th>\n",
       "      <td>579733537</td>\n",
       "      <td>5730514</td>\n",
       "      <td>43128518-654f-4776-eb08-7142904a76eb</td>\n",
       "      <td>4.589179e-02</td>\n",
       "      <td>0</td>\n",
       "    </tr>\n",
       "    <tr>\n",
       "      <th>3557</th>\n",
       "      <td>480565873</td>\n",
       "      <td>5761451</td>\n",
       "      <td>9c9d5d17-1f41-44fb-a942-0abc7d1a230a</td>\n",
       "      <td>0.000000e+00</td>\n",
       "      <td>0</td>\n",
       "    </tr>\n",
       "    <tr>\n",
       "      <th>3558</th>\n",
       "      <td>580165267</td>\n",
       "      <td>5665855</td>\n",
       "      <td>b7b57cc8-c882-4d96-a065-232d931a7c71</td>\n",
       "      <td>3.377862e-01</td>\n",
       "      <td>1</td>\n",
       "    </tr>\n",
       "  </tbody>\n",
       "</table>\n",
       "<p>3559 rows × 5 columns</p>\n",
       "</div>"
      ],
      "text/plain": [
       "        user_id product_id                          user_session  \\\n",
       "0     580252105    5854574  745a156d-829a-48c5-abef-95919efef729   \n",
       "1     567027910    5814844  a48eebcf-e87c-4135-a02d-087961b2a884   \n",
       "2     558390967    5687744  ff03c040-53d6-4594-8b86-789d39301d0c   \n",
       "3     580271935    5687528  17132405-4398-4e91-83ef-cd7cbef070a8   \n",
       "4     377153707    5622685  6f7f6872-24d0-45da-bc28-d351c86e8446   \n",
       "...         ...        ...                                   ...   \n",
       "3554  576872422    5700037  30fec805-c7ee-406d-bcca-e2aebea3a28b   \n",
       "3555  580187026    5820722  19a35122-c786-46b1-975b-790038ef68b5   \n",
       "3556  579733537    5730514  43128518-654f-4776-eb08-7142904a76eb   \n",
       "3557  480565873    5761451  9c9d5d17-1f41-44fb-a942-0abc7d1a230a   \n",
       "3558  580165267    5665855  b7b57cc8-c882-4d96-a065-232d931a7c71   \n",
       "\n",
       "      probabilities  predict  \n",
       "0      9.583198e-09        0  \n",
       "1      0.000000e+00        0  \n",
       "2      1.760500e-06        0  \n",
       "3      2.392676e-37        0  \n",
       "4      2.496720e-04        0  \n",
       "...             ...      ...  \n",
       "3554   4.880211e-02        0  \n",
       "3555   5.395027e-21        0  \n",
       "3556   4.589179e-02        0  \n",
       "3557   0.000000e+00        0  \n",
       "3558   3.377862e-01        1  \n",
       "\n",
       "[3559 rows x 5 columns]"
      ]
     },
     "execution_count": 9,
     "metadata": {},
     "output_type": "execute_result"
    }
   ],
   "source": [
    "predict['predict']"
   ]
  },
  {
   "cell_type": "code",
   "execution_count": null,
   "metadata": {},
   "outputs": [],
   "source": []
  }
 ],
 "metadata": {
  "colab": {
   "collapsed_sections": [
    "FOrRPCnosP9Q"
   ],
   "name": "Auto Tune - Churn Prediction",
   "provenance": [],
   "toc_visible": true
  },
  "kernelspec": {
   "display_name": "src",
   "language": "python",
   "name": "src"
  },
  "language_info": {
   "codemirror_mode": {
    "name": "ipython",
    "version": 3
   },
   "file_extension": ".py",
   "mimetype": "text/x-python",
   "name": "python",
   "nbconvert_exporter": "python",
   "pygments_lexer": "ipython3",
   "version": "3.7.7"
  }
 },
 "nbformat": 4,
 "nbformat_minor": 1
}
